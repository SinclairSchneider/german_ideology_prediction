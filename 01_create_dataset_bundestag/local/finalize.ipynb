{
 "cells": [
  {
   "cell_type": "code",
   "execution_count": null,
   "id": "abca8644-a8f3-4efd-a4f7-85ba8a0b78c8",
   "metadata": {},
   "outputs": [],
   "source": [
    "import pandas as pd\n",
    "from glob import glob"
   ]
  },
  {
   "cell_type": "code",
   "execution_count": null,
   "id": "5ecdd5d7-26ca-4e4b-aec1-e48a1d96020d",
   "metadata": {},
   "outputs": [],
   "source": [
    "files = sorted(glob(\"*_*_*.json\"))"
   ]
  },
  {
   "cell_type": "code",
   "execution_count": null,
   "id": "41ad1983-ad4f-4fa6-98e9-d3f2e2e9f063",
   "metadata": {},
   "outputs": [],
   "source": [
    "file = files[0]"
   ]
  },
  {
   "cell_type": "code",
   "execution_count": null,
   "id": "4c6efd99-e719-4004-bc69-20eb954268ad",
   "metadata": {},
   "outputs": [],
   "source": [
    "files"
   ]
  },
  {
   "cell_type": "code",
   "execution_count": null,
   "id": "db1e3a1d-183e-40f1-90f9-adaa1fe911f4",
   "metadata": {},
   "outputs": [],
   "source": [
    "df_temp = None\n",
    "for file in files:\n",
    "    df = pd.read_json(file)\n",
    "    if df_temp is None:\n",
    "        df_temp = df.copy()\n",
    "    else:\n",
    "        df_temp = pd.concat([df_temp, df])"
   ]
  },
  {
   "cell_type": "code",
   "execution_count": null,
   "id": "0fa04fe9-65a6-47b6-b281-a3fd0fd9c62d",
   "metadata": {},
   "outputs": [],
   "source": [
    "df = df_temp"
   ]
  },
  {
   "cell_type": "code",
   "execution_count": null,
   "id": "26205a1c-ff5a-43c9-bd1a-78288166945c",
   "metadata": {},
   "outputs": [],
   "source": [
    "df = df.sort_values('Rede_ID').reset_index(drop=True)"
   ]
  },
  {
   "cell_type": "code",
   "execution_count": null,
   "id": "3af06484-a59c-4113-bc1a-183497272c68",
   "metadata": {},
   "outputs": [],
   "source": [
    "df"
   ]
  },
  {
   "cell_type": "code",
   "execution_count": null,
   "id": "241d08a3-ffd3-480c-83fe-a258d51f2446",
   "metadata": {},
   "outputs": [],
   "source": [
    "df.to_json(\"Bundestagsreden_senti_pos_neg_summarized.json\")"
   ]
  },
  {
   "cell_type": "code",
   "execution_count": null,
   "id": "168d0015-152b-4740-b9a8-fcef0680b242",
   "metadata": {},
   "outputs": [],
   "source": []
  }
 ],
 "metadata": {
  "kernelspec": {
   "display_name": "Python 3 (ipykernel)",
   "language": "python",
   "name": "python3"
  },
  "language_info": {
   "codemirror_mode": {
    "name": "ipython",
    "version": 3
   },
   "file_extension": ".py",
   "mimetype": "text/x-python",
   "name": "python",
   "nbconvert_exporter": "python",
   "pygments_lexer": "ipython3",
   "version": "3.12.3"
  }
 },
 "nbformat": 4,
 "nbformat_minor": 5
}
