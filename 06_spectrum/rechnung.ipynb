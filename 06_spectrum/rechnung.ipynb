{
 "cells": [
  {
   "cell_type": "code",
   "execution_count": 76,
   "id": "bc1a3e59-1671-4042-b69e-9f81fcf75611",
   "metadata": {},
   "outputs": [],
   "source": [
    "import math\n",
    "import numpy as np\n",
    "import json "
   ]
  },
  {
   "cell_type": "code",
   "execution_count": 20,
   "id": "578ba199-fb09-4fcf-a7c1-1408f16addd8",
   "metadata": {},
   "outputs": [],
   "source": [
    "linke_grüne = 0.2079583135954524\n",
    "linke_spd =   0.3112269066792989\n",
    "grüne_spd =   0.2872387727879057\n",
    "spd_fdp =     0.4635393508225878\n",
    "fdp_cdu =     0.3147268408551069\n",
    "cdu_afd =     0.4319690265486726\n",
    "grüne_fdp =   0.5466874166296132"
   ]
  },
  {
   "cell_type": "code",
   "execution_count": 83,
   "id": "2039dbc8-c654-4908-8fd9-fd7550b144e4",
   "metadata": {},
   "outputs": [
    {
     "data": {
      "text/plain": [
       "0.2079583135954524"
      ]
     },
     "execution_count": 83,
     "metadata": {},
     "output_type": "execute_result"
    }
   ],
   "source": [
    "linke_grüne"
   ]
  },
  {
   "cell_type": "code",
   "execution_count": 84,
   "id": "346e5a52-7aeb-49e0-b5a5-b5ed37afc174",
   "metadata": {},
   "outputs": [],
   "source": [
    "winkel_grüne = (linke_grüne/(linke_grüne+grüne_fdp))*90"
   ]
  },
  {
   "cell_type": "code",
   "execution_count": 85,
   "id": "302de46d-8e7e-4053-aa8c-cb338f2f3780",
   "metadata": {},
   "outputs": [
    {
     "data": {
      "text/plain": [
       "24.801370330431446"
      ]
     },
     "execution_count": 85,
     "metadata": {},
     "output_type": "execute_result"
    }
   ],
   "source": [
    "winkel_grüne"
   ]
  },
  {
   "cell_type": "code",
   "execution_count": 86,
   "id": "56752335-bb8d-44ba-8da2-46d0a6b9ac44",
   "metadata": {},
   "outputs": [],
   "source": [
    "winkel_spd = (linke_spd/(linke_spd+spd_fdp))*90"
   ]
  },
  {
   "cell_type": "code",
   "execution_count": 87,
   "id": "6f41b4a2-0105-4f15-9278-4a23269a2095",
   "metadata": {},
   "outputs": [
    {
     "data": {
      "text/plain": [
       "36.153383462325976"
      ]
     },
     "execution_count": 87,
     "metadata": {},
     "output_type": "execute_result"
    }
   ],
   "source": [
    "winkel_spd"
   ]
  },
  {
   "cell_type": "code",
   "execution_count": 88,
   "id": "675d737a-89d5-4e02-91d1-b01fc559f94c",
   "metadata": {},
   "outputs": [],
   "source": [
    "winkel_fdp = 90.0"
   ]
  },
  {
   "cell_type": "code",
   "execution_count": 89,
   "id": "879e429a-9311-4c2a-97ab-870c19eee019",
   "metadata": {},
   "outputs": [],
   "source": [
    "winkel_cdu = (cdu_afd/(cdu_afd+fdp_cdu))*90"
   ]
  },
  {
   "cell_type": "code",
   "execution_count": 90,
   "id": "e760127f-4188-44e1-9307-3566b1511e99",
   "metadata": {},
   "outputs": [
    {
     "data": {
      "text/plain": [
       "52.06565897378603"
      ]
     },
     "execution_count": 90,
     "metadata": {},
     "output_type": "execute_result"
    }
   ],
   "source": [
    "winkel_cdu"
   ]
  },
  {
   "cell_type": "code",
   "execution_count": 91,
   "id": "a856620c-19f7-4e1f-8424-7e7e41270178",
   "metadata": {},
   "outputs": [],
   "source": [
    "vector_linke = [-1.0, 0.0]"
   ]
  },
  {
   "cell_type": "code",
   "execution_count": 92,
   "id": "f5bcbc06-9b8f-4218-8cda-b7312be6f545",
   "metadata": {},
   "outputs": [
    {
     "data": {
      "text/plain": [
       "[-1.0, 0.0]"
      ]
     },
     "execution_count": 92,
     "metadata": {},
     "output_type": "execute_result"
    }
   ],
   "source": [
    "vector_linke"
   ]
  },
  {
   "cell_type": "code",
   "execution_count": 93,
   "id": "ee47e650-ee55-4476-a064-bd4055c143d4",
   "metadata": {},
   "outputs": [],
   "source": [
    "vector_gruene = [-math.cos((winkel_grüne/180)*np.pi), math.sin((winkel_grüne/180)*np.pi)]"
   ]
  },
  {
   "cell_type": "code",
   "execution_count": 94,
   "id": "1894a3cb-62a1-47aa-b855-1e2186db1cee",
   "metadata": {},
   "outputs": [
    {
     "data": {
      "text/plain": [
       "[-0.9077674463309972, 0.4194737934385177]"
      ]
     },
     "execution_count": 94,
     "metadata": {},
     "output_type": "execute_result"
    }
   ],
   "source": [
    "vector_gruene"
   ]
  },
  {
   "cell_type": "code",
   "execution_count": 95,
   "id": "34d6e339-fcbe-422d-8d35-5912931da8e3",
   "metadata": {},
   "outputs": [],
   "source": [
    "vector_spd = [-math.cos((winkel_spd/180)*np.pi), math.sin((winkel_spd/180)*np.pi)]"
   ]
  },
  {
   "cell_type": "code",
   "execution_count": 96,
   "id": "9296c1e2-6062-47f1-9500-ed91f1915ea0",
   "metadata": {},
   "outputs": [
    {
     "data": {
      "text/plain": [
       "[-0.8074405688999996, 0.5899489195637577]"
      ]
     },
     "execution_count": 96,
     "metadata": {},
     "output_type": "execute_result"
    }
   ],
   "source": [
    "vector_spd"
   ]
  },
  {
   "cell_type": "code",
   "execution_count": 97,
   "id": "317144c6-e927-49a0-b04d-051b589a5a35",
   "metadata": {},
   "outputs": [],
   "source": [
    "vector_fdp = [0.0, 1.0]"
   ]
  },
  {
   "cell_type": "code",
   "execution_count": 98,
   "id": "853c7f47-de6f-4797-a1a3-acfc6973f4b5",
   "metadata": {},
   "outputs": [],
   "source": [
    "vector_cdu = [math.cos((winkel_cdu/180)*np.pi), math.sin((winkel_cdu/180)*np.pi)]"
   ]
  },
  {
   "cell_type": "code",
   "execution_count": 99,
   "id": "236d9d30-7988-4c97-af21-48f14e540dbf",
   "metadata": {},
   "outputs": [
    {
     "data": {
      "text/plain": [
       "[0.614758038308033, 0.788715762702673]"
      ]
     },
     "execution_count": 99,
     "metadata": {},
     "output_type": "execute_result"
    }
   ],
   "source": [
    "vector_cdu"
   ]
  },
  {
   "cell_type": "code",
   "execution_count": 100,
   "id": "308dc196-05d3-4034-89ce-f89b30b3d80e",
   "metadata": {},
   "outputs": [],
   "source": [
    "vector_afd = [1.0 , 0.0]"
   ]
  },
  {
   "cell_type": "code",
   "execution_count": 101,
   "id": "b8427e8c-418f-460b-8438-9806daafbc2c",
   "metadata": {},
   "outputs": [],
   "source": [
    "party_vectors = {\n",
    "    'DIE LINKE': vector_linke,\n",
    "    'BÜNDNIS 90/DIE GRÜNEN': vector_gruene,\n",
    "    'SPD': vector_spd,\n",
    "    'FDP': vector_fdp,\n",
    "    'CDU/CSU': vector_cdu,\n",
    "    'AfD': vector_afd\n",
    "}"
   ]
  },
  {
   "cell_type": "code",
   "execution_count": 102,
   "id": "a5dcb19a-930d-4e2c-b9cb-d2a960a9340b",
   "metadata": {},
   "outputs": [
    {
     "data": {
      "text/plain": [
       "{'DIE LINKE': [-1.0, 0.0],\n",
       " 'BÜNDNIS 90/DIE GRÜNEN': [-0.9077674463309972, 0.4194737934385177],\n",
       " 'SPD': [-0.8074405688999996, 0.5899489195637577],\n",
       " 'FDP': [0.0, 1.0],\n",
       " 'CDU/CSU': [0.614758038308033, 0.788715762702673],\n",
       " 'AfD': [1.0, 0.0]}"
      ]
     },
     "execution_count": 102,
     "metadata": {},
     "output_type": "execute_result"
    }
   ],
   "source": [
    "party_vectors"
   ]
  },
  {
   "cell_type": "code",
   "execution_count": 103,
   "id": "4b915891-79b1-440c-b532-46dbbf470f94",
   "metadata": {},
   "outputs": [],
   "source": [
    "with open(\"party_vectors.json\", \"w\") as f: \n",
    "    json.dump(party_vectors, f)"
   ]
  },
  {
   "cell_type": "code",
   "execution_count": null,
   "id": "15c2a241-aaf4-4b4e-add3-a9bda11d4ac4",
   "metadata": {},
   "outputs": [],
   "source": []
  }
 ],
 "metadata": {
  "kernelspec": {
   "display_name": "Python 3 (ipykernel)",
   "language": "python",
   "name": "python3"
  },
  "language_info": {
   "codemirror_mode": {
    "name": "ipython",
    "version": 3
   },
   "file_extension": ".py",
   "mimetype": "text/x-python",
   "name": "python",
   "nbconvert_exporter": "python",
   "pygments_lexer": "ipython3",
   "version": "3.12.3"
  }
 },
 "nbformat": 4,
 "nbformat_minor": 5
}
