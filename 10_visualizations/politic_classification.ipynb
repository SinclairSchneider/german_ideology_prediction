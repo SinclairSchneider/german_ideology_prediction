{
 "cells": [
  {
   "cell_type": "code",
   "execution_count": null,
   "id": "105c0502-e0f4-4300-87f1-1c2ee907cce4",
   "metadata": {},
   "outputs": [],
   "source": [
    "from transformers import pipeline"
   ]
  },
  {
   "cell_type": "code",
   "execution_count": null,
   "id": "5a3c5fde-f9d3-4714-b046-3e10888de14d",
   "metadata": {},
   "outputs": [],
   "source": [
    "political_classifier = pipeline(\"text-classification\", model=\"SinclairSchneider/german_politic_DeBERTa-v2-base\")"
   ]
  },
  {
   "cell_type": "code",
   "execution_count": null,
   "id": "de94cc7d-ae8d-4836-b7c9-6c59ebbfd451",
   "metadata": {},
   "outputs": [],
   "source": [
    "political_classifier(\"Familienpolitik soll Wahlfreiheit ermöglichen: gute Kitas, Ganztagsschulen und flexible Arbeitsmodelle.\")\n",
    "[{'label': 'politic', 'score': 0.9999680519104004}]"
   ]
  },
  {
   "cell_type": "code",
   "execution_count": null,
   "id": "3eb4477d-e04a-428d-9ce3-a994f841424e",
   "metadata": {},
   "outputs": [],
   "source": []
  }
 ],
 "metadata": {
  "kernelspec": {
   "display_name": "Python 3 (ipykernel)",
   "language": "python",
   "name": "python3"
  },
  "language_info": {
   "codemirror_mode": {
    "name": "ipython",
    "version": 3
   },
   "file_extension": ".py",
   "mimetype": "text/x-python",
   "name": "python",
   "nbconvert_exporter": "python",
   "pygments_lexer": "ipython3",
   "version": "3.12.3"
  }
 },
 "nbformat": 4,
 "nbformat_minor": 5
}
