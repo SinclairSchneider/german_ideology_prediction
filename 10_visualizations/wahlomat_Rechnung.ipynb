{
 "cells": [
  {
   "cell_type": "code",
   "execution_count": null,
   "id": "9d4503ca-d3a3-4adf-a93d-3d7fa40e1b72",
   "metadata": {},
   "outputs": [],
   "source": [
    "from datasets import load_dataset\n",
    "import numpy as np\n",
    "import pandas as pd"
   ]
  },
  {
   "cell_type": "code",
   "execution_count": null,
   "id": "ae0cf7dc-ed17-4b99-bb81-4c82144c3edf",
   "metadata": {},
   "outputs": [],
   "source": [
    "#df = load_dataset(\"SinclairSchneider/Wahlomat\", split=\"train\").to_pandas()\n",
    "df = pd.read_json(\"wahlomat_db_export.json\")"
   ]
  },
  {
   "cell_type": "code",
   "execution_count": null,
   "id": "b68161e8-258e-49ad-a039-3b85db25ef2d",
   "metadata": {},
   "outputs": [],
   "source": [
    "#df['custom_answer'] = [int(x.replace(\"Stimme nicht zu\", \"1\").replace(\"Neutral\", \"2\").replace(\"Stimme zu\", \"3\")) for x in df['message']]\n",
    "df['custom_answer'] = [int(x[:2].replace(\"1_\", \"1\").replace(\"2_\", \"2\").replace(\"0_\",\"3\")) for x in df['id_answer']]"
   ]
  },
  {
   "cell_type": "code",
   "execution_count": null,
   "id": "184009f6-db38-4db3-8c31-f17ed9d0aab5",
   "metadata": {},
   "outputs": [],
   "source": [
    "l_names_linke = ['DIE LINKE', 'PDS', 'DIE LINKE.', 'DIE LINKE.PDS', 'Die Linke']\n",
    "l_names_gruene = ['GRÜNE', 'BÜNDNIS 90/DIE GRÜNEN', 'Bündnis 90/Die Grünen', 'GRÜNE/B 90', 'GRÜNE/GAL', 'Die Grünen', 'Bündnis 90/ Die Grünen']\n",
    "l_names_spd = ['SPD']\n",
    "l_names_fdp = ['FDP']\n",
    "l_names_cdu = ['CDU', 'CSU', 'CDU/CSU', 'CDU / CSU', 'Freie Union']\n",
    "l_names_afd = ['AfD', 'NPD']"
   ]
  },
  {
   "cell_type": "code",
   "execution_count": null,
   "id": "4b696af8-f595-4311-ae7f-1a1a273b5e28",
   "metadata": {},
   "outputs": [],
   "source": [
    "def diff(x):\n",
    "    if len(x) == 1:\n",
    "        return -1\n",
    "    elif len(x) == 2:\n",
    "        x = list(x)\n",
    "        return np.abs(x[0]-x[1])/2\n",
    "    else:\n",
    "        return -1"
   ]
  },
  {
   "cell_type": "code",
   "execution_count": null,
   "id": "ac7d9fc6-4de8-4d79-8cba-b644d3327bca",
   "metadata": {},
   "outputs": [],
   "source": [
    "def any(x):\n",
    "    return list(x)[0]"
   ]
  },
  {
   "cell_type": "code",
   "execution_count": null,
   "id": "160a7c97-b8d6-4cca-9986-8503c9db31b9",
   "metadata": {},
   "outputs": [],
   "source": [
    "df_links_gruen = df[[x in (l_names_linke+l_names_gruene) for x in df['party_name']]].groupby('id_statement').agg({'custom_answer':lambda x: diff(x)})\n",
    "df_links_gruen = df_links_gruen[df_links_gruen['custom_answer']!=-1]"
   ]
  },
  {
   "cell_type": "code",
   "execution_count": null,
   "id": "4ff819cf-e4a2-47ae-9f2f-6d3a811726bd",
   "metadata": {},
   "outputs": [],
   "source": [
    "np.mean(df_links_gruen['custom_answer'])"
   ]
  },
  {
   "cell_type": "code",
   "execution_count": null,
   "id": "90798edb-4634-4e6f-9126-16d425564c2c",
   "metadata": {},
   "outputs": [],
   "source": [
    "len(df_links_gruen['custom_answer'])"
   ]
  },
  {
   "cell_type": "code",
   "execution_count": null,
   "id": "1126c180-a46e-4129-b73a-40669daefeae",
   "metadata": {},
   "outputs": [],
   "source": [
    "np.sum(df_links_gruen['custom_answer']==0)"
   ]
  },
  {
   "cell_type": "code",
   "execution_count": null,
   "id": "b47041b5-b2a9-4081-a517-f33b3117082e",
   "metadata": {},
   "outputs": [],
   "source": [
    "np.sum(df_links_gruen['custom_answer']==0.5)"
   ]
  },
  {
   "cell_type": "code",
   "execution_count": null,
   "id": "418e3018-f771-46cf-b245-6a47b710150b",
   "metadata": {},
   "outputs": [],
   "source": [
    "np.sum(df_links_gruen['custom_answer']==1)"
   ]
  },
  {
   "cell_type": "code",
   "execution_count": null,
   "id": "468ec6a8-fafd-4a23-aef2-0ac21f07b372",
   "metadata": {},
   "outputs": [],
   "source": [
    "(1530*0.0+284*0.5+297*1.0)/2111"
   ]
  },
  {
   "cell_type": "code",
   "execution_count": null,
   "id": "01fe4907-7a3e-4566-9549-898f777e5655",
   "metadata": {},
   "outputs": [],
   "source": [
    "##############"
   ]
  },
  {
   "cell_type": "code",
   "execution_count": null,
   "id": "6658f1b7-4fbe-4b9e-b40a-7a98bc88ad8e",
   "metadata": {},
   "outputs": [],
   "source": [
    "df_gruen_fdp = df[[x in (l_names_gruene+l_names_fdp) for x in df['party_name']]].groupby('id_statement').agg({'custom_answer':lambda x: diff(x)})\n",
    "df_gruen_fdp = df_gruen_fdp[df_gruen_fdp['custom_answer']!=-1]"
   ]
  },
  {
   "cell_type": "code",
   "execution_count": null,
   "id": "00953e80-0698-49bb-a43a-2d0e209575ce",
   "metadata": {},
   "outputs": [],
   "source": [
    "np.mean(df_gruen_fdp['custom_answer'])"
   ]
  },
  {
   "cell_type": "code",
   "execution_count": null,
   "id": "caae4ef4-e28d-4389-9811-829ba638f40f",
   "metadata": {},
   "outputs": [],
   "source": [
    "(0.5466874166296132/(0.2079583135954524+0.5466874166296132))*90"
   ]
  },
  {
   "cell_type": "code",
   "execution_count": null,
   "id": "2f2c4288-d167-4f45-a0ea-fc0ff2f93e99",
   "metadata": {},
   "outputs": [],
   "source": [
    "len(df_gruen_fdp['custom_answer'])"
   ]
  },
  {
   "cell_type": "code",
   "execution_count": null,
   "id": "651d743f-4f56-4333-8699-bddc6a957b7c",
   "metadata": {},
   "outputs": [],
   "source": [
    "np.sum(df_gruen_fdp['custom_answer']==0)"
   ]
  },
  {
   "cell_type": "code",
   "execution_count": null,
   "id": "df643c83-9e96-4a55-b6cc-97ccc4fda442",
   "metadata": {},
   "outputs": [],
   "source": [
    "np.sum(df_gruen_fdp['custom_answer']==0.5)"
   ]
  },
  {
   "cell_type": "code",
   "execution_count": null,
   "id": "9a169fdc-e924-480d-b3cc-18c7fc728ac1",
   "metadata": {},
   "outputs": [],
   "source": [
    "np.sum(df_gruen_fdp['custom_answer']==1.0)"
   ]
  },
  {
   "cell_type": "code",
   "execution_count": null,
   "id": "6b846b0c-3637-44d5-a178-3d4fc69bc084",
   "metadata": {},
   "outputs": [],
   "source": []
  }
 ],
 "metadata": {
  "kernelspec": {
   "display_name": "Python 3 (ipykernel)",
   "language": "python",
   "name": "python3"
  },
  "language_info": {
   "codemirror_mode": {
    "name": "ipython",
    "version": 3
   },
   "file_extension": ".py",
   "mimetype": "text/x-python",
   "name": "python",
   "nbconvert_exporter": "python",
   "pygments_lexer": "ipython3",
   "version": "3.12.3"
  }
 },
 "nbformat": 4,
 "nbformat_minor": 5
}
