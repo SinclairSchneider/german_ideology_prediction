{
 "cells": [
  {
   "cell_type": "code",
   "execution_count": null,
   "id": "44f28c66-352b-4eb9-9e60-9823bb76443c",
   "metadata": {},
   "outputs": [],
   "source": [
    "from datasets import load_dataset"
   ]
  },
  {
   "cell_type": "code",
   "execution_count": null,
   "id": "09354add-8e79-4465-8a9b-b3d3f8a7f1ad",
   "metadata": {},
   "outputs": [],
   "source": [
    "df = load_dataset(\"SinclairSchneider/Wahlomat_paraphrased\", split=\"train\").to_pandas()"
   ]
  },
  {
   "cell_type": "code",
   "execution_count": null,
   "id": "2b0c0119-95a8-41a8-8482-9e8d80698d09",
   "metadata": {},
   "outputs": [],
   "source": [
    "#list(df.drop_duplicates(subset=['text_statement'])['text_statement'])"
   ]
  },
  {
   "cell_type": "code",
   "execution_count": null,
   "id": "73a6900d-dabe-4db4-8351-7dad8a0181c2",
   "metadata": {},
   "outputs": [],
   "source": [
    "df_sample = df[df['text_statement'] == \"Auf hohe Vermögen soll wieder eine Steuer erhoben werden.\"]"
   ]
  },
  {
   "cell_type": "code",
   "execution_count": null,
   "id": "956fbdb4-a2df-48b4-ab96-2d0882b97899",
   "metadata": {},
   "outputs": [],
   "source": [
    "df_sample[['party_name', 'message']]"
   ]
  },
  {
   "cell_type": "code",
   "execution_count": null,
   "id": "58c6ba35-7a9a-4308-b80a-c38114730a99",
   "metadata": {},
   "outputs": [],
   "source": [
    "df_big = load_dataset(\"SinclairSchneider/trainset_political_party_big\", split=\"train\").to_pandas()"
   ]
  },
  {
   "cell_type": "code",
   "execution_count": null,
   "id": "e5fc1a01-abd1-46ee-8bc0-061b6b5ccca8",
   "metadata": {},
   "outputs": [],
   "source": [
    "df_big[df_big['text'] == \"Auf hohe Vermögen soll wieder eine Steuer erhoben werden.\"]"
   ]
  },
  {
   "cell_type": "code",
   "execution_count": null,
   "id": "2749afc3-ad78-4b0a-a05e-839353431ed7",
   "metadata": {},
   "outputs": [],
   "source": [
    "df_sample.keys()"
   ]
  },
  {
   "cell_type": "code",
   "execution_count": null,
   "id": "220c821f-0c4c-4bbc-8fa8-ea2a16598175",
   "metadata": {},
   "outputs": [],
   "source": [
    "list(df_sample.head(1)['sentences_kind'])"
   ]
  },
  {
   "cell_type": "code",
   "execution_count": null,
   "id": "e4ab3954-b647-4c1d-9dad-1ff23f7ddbf8",
   "metadata": {},
   "outputs": [],
   "source": [
    "list(df_sample.head(1)['sentences_jugendlicher'])"
   ]
  },
  {
   "cell_type": "code",
   "execution_count": null,
   "id": "22119db4-4351-4138-bda1-34efc9c8e5cb",
   "metadata": {},
   "outputs": [],
   "source": [
    "list(df_sample.head(1)['sentences_erwachsener'])"
   ]
  },
  {
   "cell_type": "code",
   "execution_count": null,
   "id": "049417db-82bb-4f5a-a38e-1b86b8ce80d2",
   "metadata": {},
   "outputs": [],
   "source": [
    "list(df_sample.head(1)['sentences_eloquenter_mensch'])"
   ]
  },
  {
   "cell_type": "code",
   "execution_count": null,
   "id": "c511dd75-a3fa-4c4b-ae9d-7ecb8a0122e3",
   "metadata": {},
   "outputs": [],
   "source": [
    "list(df_sample.head(1)['syntetic_tweets'])"
   ]
  },
  {
   "cell_type": "code",
   "execution_count": null,
   "id": "8844c105-b087-4484-90b6-78435e9399e7",
   "metadata": {},
   "outputs": [],
   "source": []
  }
 ],
 "metadata": {
  "kernelspec": {
   "display_name": "Python 3 (ipykernel)",
   "language": "python",
   "name": "python3"
  },
  "language_info": {
   "codemirror_mode": {
    "name": "ipython",
    "version": 3
   },
   "file_extension": ".py",
   "mimetype": "text/x-python",
   "name": "python",
   "nbconvert_exporter": "python",
   "pygments_lexer": "ipython3",
   "version": "3.12.3"
  }
 },
 "nbformat": 4,
 "nbformat_minor": 5
}
