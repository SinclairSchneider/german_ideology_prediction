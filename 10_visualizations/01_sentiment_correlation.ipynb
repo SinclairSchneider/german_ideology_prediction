{
 "cells": [
  {
   "cell_type": "code",
   "execution_count": null,
   "id": "54e89ae7-3882-4a8e-9bf2-6be9e594e725",
   "metadata": {},
   "outputs": [],
   "source": [
    "from datasets import load_dataset\n",
    "import matplotlib.pyplot as plt\n",
    "import seaborn as sns\n",
    "import matplotlib as mpl"
   ]
  },
  {
   "cell_type": "code",
   "execution_count": null,
   "id": "896e98ca-34ed-453a-96ac-da6679ddb2e3",
   "metadata": {},
   "outputs": [],
   "source": [
    "df = load_dataset(\"SinclairSchneider/trainset_political_party_big\", split=\"train\").to_pandas()"
   ]
  },
  {
   "cell_type": "code",
   "execution_count": null,
   "id": "d652be5a-1e5f-46da-aa28-6f93f788817f",
   "metadata": {},
   "outputs": [],
   "source": [
    "mpl.rcParams['pdf.fonttype'] = 42  # embed TrueType\n",
    "mpl.rcParams['ps.fonttype']  = 42\n",
    "sns.set_theme(style=\"white\", font_scale=1.7)\n",
    "\n",
    "#mpl.rcParams.update({\n",
    "#    \"font.family\": \"DejaVu Sans\",  # has a proper bold face\n",
    "#    \"font.weight\": \"bold\",         # global default weight\n",
    "#    \"axes.titleweight\": \"bold\",\n",
    "#    \"axes.labelweight\": \"bold\",\n",
    "#})\n",
    "\n",
    "sentiment_cols = ['senti_DIE_LINKE', 'senti_BUENDNIS_90_DIE_GRUENEN', 'senti_SPD', 'senti_FDP', 'senti_CDU_CSU', 'senti_AfD']\n",
    "\n",
    "labels = ['Die Linke', \"Grüne\", 'SPD', 'FDP', 'CDU/CSU', 'AfD']\n",
    "\n",
    "# Compute correlation matrix for sentiment columns\n",
    "corr_matrix = df[sentiment_cols].corr(method='spearman')\n",
    "\n",
    "# Plot heatmap\n",
    "plt.figure(figsize=(10, 8))\n",
    "fig, ax = plt.subplots(figsize=(10, 10))\n",
    "\n",
    "#sns.heatmap(corr_matrix, annot=True, cmap='RdBu', vmin=-1, vmax=1, linewidths=0.5, xticklabels=labels, yticklabels=labels)\n",
    "sns.heatmap(\n",
    "    corr_matrix, annot=True, cmap='RdBu', vmin=-1, vmax=1, linewidths=0.5, ax=ax, xticklabels=labels, yticklabels=labels,\n",
    "    cbar_kws={\"orientation\": \"horizontal\", \"pad\": 0.08, \"fraction\": 0.046}\n",
    ")\n",
    "\n",
    "#plt.title('Correlation of Sentiments Between Parties', fontsize=16)\n",
    "plt.tight_layout()\n",
    "plt.savefig('sentiment_correlations.png', dpi=300)\n",
    "plt.savefig('sentiment_correlations.pdf', dpi=300)\n",
    "plt.show()"
   ]
  },
  {
   "cell_type": "code",
   "execution_count": null,
   "id": "3b9a692a-75ad-4a25-9f82-9bfffa356b4c",
   "metadata": {},
   "outputs": [],
   "source": []
  }
 ],
 "metadata": {
  "kernelspec": {
   "display_name": "Python 3 (ipykernel)",
   "language": "python",
   "name": "python3"
  },
  "language_info": {
   "codemirror_mode": {
    "name": "ipython",
    "version": 3
   },
   "file_extension": ".py",
   "mimetype": "text/x-python",
   "name": "python",
   "nbconvert_exporter": "python",
   "pygments_lexer": "ipython3",
   "version": "3.12.3"
  }
 },
 "nbformat": 4,
 "nbformat_minor": 5
}
