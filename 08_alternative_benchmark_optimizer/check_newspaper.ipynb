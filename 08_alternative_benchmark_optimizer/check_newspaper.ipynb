{
 "cells": [
  {
   "cell_type": "code",
   "execution_count": null,
   "id": "1aab21f3-ab9b-4ec2-b694-f12dad8395a2",
   "metadata": {},
   "outputs": [],
   "source": [
    "from datasets import load_dataset\n",
    "from glob import glob\n",
    "from tqdm import tqdm\n",
    "import numpy as np\n",
    "import math\n",
    "from fractions import Fraction\n",
    "from scipy.optimize import minimize\n",
    "import json\n",
    "import panel as pn\n",
    "\n",
    "pn.extension('echarts')"
   ]
  },
  {
   "cell_type": "code",
   "execution_count": null,
   "id": "27c52af8-b5e2-465c-ba06-2d358faaa26e",
   "metadata": {},
   "outputs": [],
   "source": [
    "def get_vectors(angles):\n",
    "    return np.column_stack((np.sin(angles*(np.pi/2)),np.cos(angles*(np.pi/2))))"
   ]
  },
  {
   "cell_type": "code",
   "execution_count": null,
   "id": "553ec7fd-8ed2-4b22-a997-05ec7cad5825",
   "metadata": {},
   "outputs": [],
   "source": [
    "def get_angles(vectors):\n",
    "    return np.array([math.atan2(*x) / (np.pi / 2)  for x in vectors])"
   ]
  },
  {
   "cell_type": "code",
   "execution_count": null,
   "id": "f8594c86-0979-4d07-bd85-bfea832ab1b7",
   "metadata": {},
   "outputs": [],
   "source": [
    "def convertMedienlandschaft(x):\n",
    "    return float(-Fraction(4/3)+Fraction(1/3)*x)"
   ]
  },
  {
   "cell_type": "code",
   "execution_count": null,
   "id": "1f8f9613-70e6-4e45-80cb-088cf72157ca",
   "metadata": {},
   "outputs": [],
   "source": [
    "v_linke = [-1.0, 0.0]\n",
    "v_gruene = [-0.9077674463309972, 0.4194737934385177]\n",
    "v_spd = [-0.8074405688999996, 0.5899489195637577]\n",
    "v_fdp = [0.0, 1.0]\n",
    "v_cdu = [0.614758038308033, 0.788715762702673]\n",
    "v_afd = [1.0, 0.0]"
   ]
  },
  {
   "cell_type": "code",
   "execution_count": null,
   "id": "17a9cc61-1b13-4bd5-947a-2bc292eb4840",
   "metadata": {},
   "outputs": [],
   "source": [
    "exp = {}\n",
    "exp['NLP-UniBW/deutschlandfunk_de_classified'] = convertMedienlandschaft(3.8)\n",
    "exp['NLP-UniBW/focus_de_classified'] = convertMedienlandschaft(4.9)\n",
    "exp['NLP-UniBW/linksunten_classified'] = convertMedienlandschaft(2.0)\n",
    "exp['NLP-UniBW/taz_de_classified'] = convertMedienlandschaft(2.8)\n",
    "exp['NLP-UniBW/zeit_de_classified'] = convertMedienlandschaft(3.6)\n",
    "exp['NLP-UniBW/stern_de_classified'] = convertMedienlandschaft(3.8)\n",
    "exp['NLP-UniBW/tichyseinblick_de_classified'] = convertMedienlandschaft(5.5)\n",
    "exp['NLP-UniBW/cicero_de_classified'] = convertMedienlandschaft(4.9)\n",
    "exp['NLP-UniBW/spiegel_de_classified'] = convertMedienlandschaft(3.5)\n",
    "exp['NLP-UniBW/vice_de_classified'] = convertMedienlandschaft(2.8)\n",
    "exp['NLP-UniBW/tagesschau_de_classified'] = convertMedienlandschaft(3.7)\n",
    "exp['NLP-UniBW/sueddeutsche_de_classified'] = convertMedienlandschaft(3.5)\n",
    "exp['NLP-UniBW/welt_de_classified'] = convertMedienlandschaft(4.8)\n",
    "exp['NLP-UniBW/mdr_de_classified'] = convertMedienlandschaft(4.1)\n",
    "exp['NLP-UniBW/der_freitag_de_classified'] = convertMedienlandschaft(2.7)\n",
    "exp['NLP-UniBW/frankfurter_rundschau_de_classified'] = convertMedienlandschaft(3.4)\n",
    "exp['NLP-UniBW/bild_de_classified'] = convertMedienlandschaft(5.2)\n",
    "exp['NLP-UniBW/russia_today_de_classified'] = convertMedienlandschaft(5.1)\n",
    "exp['NLP-UniBW/tagesspiegel_de_classified'] = convertMedienlandschaft(3.6)\n",
    "exp['NLP-UniBW/br_de_classified'] = convertMedienlandschaft(4.4)\n",
    "exp['NLP-UniBW/achgut_de_classified'] = convertMedienlandschaft(5.2)\n",
    "exp['NLP-UniBW/wdr_de_classified'] = convertMedienlandschaft(3.5)\n",
    "exp['NLP-UniBW/neues_deutschland_de_classified'] = convertMedienlandschaft(2.6)\n",
    "exp['NLP-UniBW/compact_de_classified'] = convertMedienlandschaft(6.0)\n",
    "exp['NLP-UniBW/ndr_de_classified'] = convertMedienlandschaft(3.7)\n",
    "exp['NLP-UniBW/nachdenkseiten_de_classified'] = convertMedienlandschaft(3.1)\n",
    "exp['NLP-UniBW/junge_freiheit_de_classified'] = convertMedienlandschaft(5.8)\n",
    "exp['NLP-UniBW/rtl_de_classified'] = convertMedienlandschaft(4.5)\n",
    "exp['NLP-UniBW/junge_welt_classified'] = convertMedienlandschaft(2.4)\n",
    "exp['NLP-UniBW/ntv_de_classified'] = convertMedienlandschaft(4.3)\n",
    "exp['NLP-UniBW/jungle_world_classified'] = convertMedienlandschaft(2.3)\n",
    "exp['NLP-UniBW/frankfurter_allgemeine_de_classified'] = convertMedienlandschaft(4.5)\n",
    "exp['NLP-UniBW/mm_news_de_classified'] = convertMedienlandschaft(5.1)"
   ]
  },
  {
   "cell_type": "code",
   "execution_count": null,
   "id": "f7d2e9e6-c081-4432-b55c-0dcbd14597e2",
   "metadata": {},
   "outputs": [],
   "source": [
    "a_linke = math.atan2(*v_linke) / (np.pi / 2)\n",
    "a_gruene = math.atan2(*v_gruene) / (np.pi / 2)\n",
    "a_spd = math.atan2(*v_spd) / (np.pi / 2)\n",
    "a_fdp = math.atan2(*v_fdp) / (np.pi / 2)\n",
    "a_cdu = math.atan2(*v_cdu) / (np.pi / 2)\n",
    "a_afd = math.atan2(*v_afd) / (np.pi / 2)"
   ]
  },
  {
   "cell_type": "code",
   "execution_count": null,
   "id": "59330608-c9da-4621-a2fc-d0c3e5886b45",
   "metadata": {},
   "outputs": [],
   "source": [
    "initial_angles = np.array([a_linke, a_gruene, a_spd, a_fdp, a_cdu, a_afd])"
   ]
  },
  {
   "cell_type": "code",
   "execution_count": null,
   "id": "2ebdf83a-7e86-4ef9-9cf3-74210aecdbb7",
   "metadata": {},
   "outputs": [],
   "source": [
    "df = load_dataset(\"NLP-UniBW/deutschlandfunk_de_classified\", split=\"train\").to_pandas()\n",
    "l_ref = []\n",
    "l_classifier = []\n",
    "for x in list(df.keys()):\n",
    "    ref = x.replace(\"_\", \"-\").split(\"-\")[0]\n",
    "    if ref in l_ref:\n",
    "        l_classifier.append(\"_\".join(x.split(\"_\")[:-1]))\n",
    "    l_ref.append(ref)\n",
    "l_classifier = sorted(list(set(l_classifier)))\n",
    "l_parties = ['DIE LINKE', 'BÜNDNIS 90/DIE GRÜNEN', 'SPD', 'FDP', 'CDU/CSU', 'AfD']\n",
    "\n",
    "l_newspapers = [\n",
    "    'NLP-UniBW/deutschlandfunk_de_classified',\n",
    "    'NLP-UniBW/focus_de_classified',\n",
    "    'NLP-UniBW/linksunten_classified',\n",
    "    'NLP-UniBW/taz_de_classified',\n",
    "    'NLP-UniBW/zeit_de_classified',\n",
    "    'NLP-UniBW/stern_de_classified',\n",
    "    'NLP-UniBW/tichyseinblick_de_classified',\n",
    "    'NLP-UniBW/cicero_de_classified',\n",
    "    'NLP-UniBW/spiegel_de_classified',\n",
    "    'NLP-UniBW/vice_de_classified',\n",
    "    'NLP-UniBW/tagesschau_de_classified',\n",
    "    'NLP-UniBW/sueddeutsche_de_classified',\n",
    "    'NLP-UniBW/welt_de_classified',\n",
    "    'NLP-UniBW/mdr_de_classified',\n",
    "    'NLP-UniBW/der_freitag_de_classified',\n",
    "    'NLP-UniBW/frankfurter_rundschau_de_classified',\n",
    "    'NLP-UniBW/bild_de_classified',\n",
    "    'NLP-UniBW/russia_today_de_classified',\n",
    "    'NLP-UniBW/tagesspiegel_de_classified',\n",
    "    'NLP-UniBW/br_de_classified',\n",
    "    'NLP-UniBW/achgut_de_classified',\n",
    "    'NLP-UniBW/wdr_de_classified',\n",
    "    'NLP-UniBW/neues_deutschland_de_classified',\n",
    "    'NLP-UniBW/compact_de_classified',\n",
    "    'NLP-UniBW/ndr_de_classified',\n",
    "    'NLP-UniBW/nachdenkseiten_de_classified',\n",
    "    'NLP-UniBW/junge_freiheit_de_classified',\n",
    "    'NLP-UniBW/rtl_de_classified',\n",
    "    'NLP-UniBW/junge_welt_classified',\n",
    "    'NLP-UniBW/ntv_de_classified',\n",
    "    'NLP-UniBW/jungle_world_classified',\n",
    "    'NLP-UniBW/frankfurter_allgemeine_de_classified',\n",
    "    'NLP-UniBW/mm_news_de_classified',\n",
    "]"
   ]
  },
  {
   "cell_type": "code",
   "execution_count": null,
   "id": "d7680987-1484-4dcf-a4d6-733132591694",
   "metadata": {},
   "outputs": [],
   "source": [
    "d_newspapers_df = {}\n",
    "for newspapers in tqdm(l_newspapers):\n",
    "    df = load_dataset(newspapers, split=\"train\").to_pandas()\n",
    "    df = df[df['politic']>=0.8].reset_index(drop=True)\n",
    "    #df = df.head(1000) #reduce size\n",
    "    d_newspapers_df[newspapers] = df"
   ]
  },
  {
   "cell_type": "code",
   "execution_count": null,
   "id": "c21145f5-a825-4445-b41e-461a1f0e8e8f",
   "metadata": {},
   "outputs": [],
   "source": [
    "d_np = {}\n",
    "for classifier in l_classifier:\n",
    "    d_np[classifier] = {}\n",
    "    for newspaper in l_newspapers:\n",
    "        df = d_newspapers_df[newspaper][[classifier+\"_\"+x for x in l_parties]]\n",
    "        d_np[classifier][newspaper] = np.array(df)"
   ]
  },
  {
   "cell_type": "code",
   "execution_count": null,
   "id": "8e59ae6e-2456-45dc-b626-08e455b948de",
   "metadata": {},
   "outputs": [],
   "source": [
    "angles = initial_angles\n",
    "angles = np.array([-1, -0.9744292185506475, -0.5813421875418607, 0.24999999999996922, 0.6714926780690098, 1])\n",
    "#angles = np.array([-1.0, -0.72442922, -0.59829574, 0.0, 0.42149268, 1.0])\n",
    "vectors = get_vectors(angles)\n",
    "#scalars = np.array([0.9999999999662926, 0.06572117207224419, 0.05000000000001718, 0.05000000010102439, 0.19473204512904718, 0.18810051859790766])\n",
    "#vectors = np.array(np.multiply(vectors, np.matrix(scalars).T @ np.ones((2,1)).T))"
   ]
  },
  {
   "cell_type": "code",
   "execution_count": null,
   "id": "6363d99b-fdd6-43d1-8523-ac6e0a649d9c",
   "metadata": {},
   "outputs": [],
   "source": [
    "l_classifier"
   ]
  },
  {
   "cell_type": "code",
   "execution_count": null,
   "id": "42fd1448-bf11-454e-9bd9-4d7dd85d8e86",
   "metadata": {},
   "outputs": [],
   "source": [
    "def check_newpapers(classifier, newspaper):\n",
    "    #print(\"classifier: \"+classifier)\n",
    "    #print(\"newspaper: \"+newspaper)\n",
    "    classifications = d_np[classifier][newspaper]\n",
    "    tmp_angle = np.mean([math.atan2(*x)/(np.pi/2) for x in classifications @ vectors])\n",
    "    diff = float(tmp_angle-exp[newspaper])\n",
    "    #print(\"difference: \"+str(diff))\n",
    "    original_angle = exp[newspaper]\n",
    "    fig = pn.Row(pn.indicators.Gauge(name=newspaper.split(\"/\")[1].replace(\"_classified\", \"\")+\" (original)\", value=round(original_angle, 4), bounds=(-1, 1), format=' '), \\\n",
    "                 pn.indicators.Gauge(name=newspaper.split(\"/\")[1].replace(\"_classified\", \"\")+\" (\"+classifier+\")\", value=round(tmp_angle, 4), bounds=(-1, 1), format=' '))\n",
    "    return fig"
   ]
  },
  {
   "cell_type": "code",
   "execution_count": null,
   "id": "d6a2fcb4-9da3-4ecf-b950-541ccac3d1ee",
   "metadata": {},
   "outputs": [],
   "source": [
    "check_newpapers(\"gemma-2-9b\", \"NLP-UniBW/focus_de_classified\")"
   ]
  },
  {
   "cell_type": "code",
   "execution_count": null,
   "id": "de590b7b-4e17-4aa4-90cb-90886293faa0",
   "metadata": {},
   "outputs": [],
   "source": [
    "l_comparisons = []\n",
    "for newspaper in l_newspapers:\n",
    "    l_comparisons.append(check_newpapers(\"gemma-2-9b\", newspaper))"
   ]
  },
  {
   "cell_type": "code",
   "execution_count": null,
   "id": "7bc914b2-5d08-4633-a3ae-942e408227f7",
   "metadata": {},
   "outputs": [],
   "source": [
    "plot = pn.Column(*l_comparisons)"
   ]
  },
  {
   "cell_type": "code",
   "execution_count": null,
   "id": "48ddfb72-9a1c-4ceb-96f5-f044db77d180",
   "metadata": {},
   "outputs": [],
   "source": [
    "plot.save(\"test.png\")"
   ]
  },
  {
   "cell_type": "code",
   "execution_count": null,
   "id": "3c34a3a2-48e7-41c8-9d7b-0b855cb3812c",
   "metadata": {},
   "outputs": [],
   "source": [
    "plot.save(\"test.pdf\")"
   ]
  },
  {
   "cell_type": "code",
   "execution_count": null,
   "id": "00561294-90a9-449f-a52f-0ee589f6d271",
   "metadata": {},
   "outputs": [],
   "source": [
    "plot"
   ]
  },
  {
   "cell_type": "code",
   "execution_count": null,
   "id": "cc73d841-a446-49ac-af87-a0dc06025c31",
   "metadata": {},
   "outputs": [],
   "source": []
  }
 ],
 "metadata": {
  "kernelspec": {
   "display_name": "Python 3 (ipykernel)",
   "language": "python",
   "name": "python3"
  },
  "language_info": {
   "codemirror_mode": {
    "name": "ipython",
    "version": 3
   },
   "file_extension": ".py",
   "mimetype": "text/x-python",
   "name": "python",
   "nbconvert_exporter": "python",
   "pygments_lexer": "ipython3",
   "version": "3.12.3"
  }
 },
 "nbformat": 4,
 "nbformat_minor": 5
}
