{
 "cells": [
  {
   "cell_type": "code",
   "execution_count": null,
   "id": "40df47a6-557d-45cf-8b62-9e55020002e9",
   "metadata": {},
   "outputs": [],
   "source": [
    "import pandas as pd\n",
    "import re\n",
    "from tqdm import tqdm\n",
    "import ollama"
   ]
  },
  {
   "cell_type": "code",
   "execution_count": null,
   "id": "724e5eca-f8ba-4c67-abe0-363d4fb1a2bb",
   "metadata": {},
   "outputs": [],
   "source": [
    "df = pd.read_json(\"deutsche_wahlprogramme.json\")"
   ]
  },
  {
   "cell_type": "code",
   "execution_count": null,
   "id": "de17cccf-3951-4756-b204-b3e5bef11a37",
   "metadata": {},
   "outputs": [],
   "source": [
    "df"
   ]
  },
  {
   "cell_type": "code",
   "execution_count": null,
   "id": "f24c4c06-25f4-437e-ac19-a37b47ae9619",
   "metadata": {},
   "outputs": [],
   "source": [
    "#df_ref['text_statement'][0]\n",
    "text = df['content'][0]"
   ]
  },
  {
   "cell_type": "code",
   "execution_count": null,
   "id": "7b6792a8-4bf5-41ad-a2ef-d91e59f12ec8",
   "metadata": {},
   "outputs": [],
   "source": [
    "prompt_kind = \"Fasse die folgende Rede in 1 bis 5 Sätzen so zusammen, dass ein KIND sie verstehen kann! Verwende also einfache Worte und Sätze. Beginne nicht immer mit \\\"Es wird\\\" oder \\\"Der Redner\\\"!!! Schreibe die Sätze in der passiven Form. Erwähne nur den Inhalt, nicht wer was gesagt oder gefordert hat. Erwähne auch keine Parteien oder Personen. Konzentriere dich auf Forderungen, aber beginne nicht immer mit \\\"es wird gefordert\\\". STELLE KEINE FRAGEN! ARGUMENTIERE IMMER FÜR DIE AUSSAGE! Beginne die Zusammenfassung mit Zusammenfassung:\\n\"+text\n",
    "prompt_jugendlicher = \"Fasse die folgende Rede in 1 bis 5 Sätzen so zusammen, dass ein Jugendlicher sie verstehen kann. Beginne nicht immer mit \\\"Es wird\\\" oder \\\"Der Redner\\\"!!! Schreibe die Sätze in der passiven Form. Erwähne nur den Inhalt, nicht wer was gesagt oder gefordert hat. Erwähne auch keine Parteien oder Personen. Konzentriere dich auf Forderungen, aber beginne nicht immer mit \\\"es wird gefordert\\\". STELLE KEINE FRAGEN! ARGUMENTIERE IMMER FÜR DIE AUSSAGE! Beginne die Zusammenfassung mit Zusammenfassung:\\n\"+text\n",
    "prompt_erwachsener = \"Fasse die folgende Rede in 1 bis 5 Sätzen so zusammen, dass ein Erwachsener sie verstehen kann. Beginne nicht immer mit \\\"Es wird\\\" oder \\\"Der Redner\\\"!!! Schreibe die Sätze in der passiven Form. Erwähne nur den Inhalt, nicht wer was gesagt oder gefordert hat. Erwähne auch keine Parteien oder Personen. Konzentriere dich auf Forderungen, aber beginne nicht immer mit \\\"es wird gefordert\\\". STELLE KEINE FRAGEN! ARGUMENTIERE IMMER FÜR DIE AUSSAGE! Beginne die Zusammenfassung mit Zusammenfassung:\\n\"+text\n",
    "prompt_eloquenter_mensch = \"Fasse die folgende Rede in 1 bis 5 Sätzen so zusammen, dass ein sehr eloquenter Mensch, der sich durch eine gehobene Wortwahl abzugrenzen versucht, sie verstehen kann. Beginne nicht immer mit \\\"Es wird\\\" oder \\\"Der Redner\\\"!!! Schreibe die Sätze in der passiven Form. Erwähne nur den Inhalt, nicht wer was gesagt oder gefordert hat. Erwähne auch keine Parteien oder Personen. Konzentriere dich auf Forderungen, aber beginne nicht immer mit \\\"es wird gefordert\\\". STELLE KEINE FRAGEN! ARGUMENTIERE IMMER FÜR DIE AUSSAGE! Beginne die Zusammenfassung mit Zusammenfassung:\\n\"+text\n",
    "prompt_tweet = \"Schreibe zehn Tweets zu folgendem Text. Erwähne keine Parteien und keine Personen. STELLE KEINE FRAGEN! ARGUMENTIERE IMMER FÜR DIE AUSSAGE! Beginnen mit Tweet 1: Tweet 2: etc.:\\n\"+text\n",
    "\n",
    "output_kind = ollama.chat(model='llama3.1:405b-instruct-q3_K_S', messages=[{'role': 'user', 'content': prompt_kind,},])\n",
    "output_jugendlicher = ollama.chat(model='llama3.1:405b-instruct-q3_K_S', messages=[{'role': 'user', 'content': prompt_jugendlicher,},])\n",
    "output_erwachsener = ollama.chat(model='llama3.1:405b-instruct-q3_K_S', messages=[{'role': 'user', 'content': prompt_erwachsener,},])\n",
    "output_eloquenter_mensch = ollama.chat(model='llama3.1:405b-instruct-q3_K_S', messages=[{'role': 'user', 'content': prompt_eloquenter_mensch,},])\n",
    "output_tweet = ollama.chat(model='llama3.1:405b-instruct-q3_K_S', messages=[{'role': 'user', 'content': prompt_tweet,},])\n",
    "\n",
    "response_kind = output_kind['message']['content']\n",
    "response_jugendlicher = output_jugendlicher['message']['content']\n",
    "response_erwachsener = output_erwachsener['message']['content']\n",
    "response_eloquenter_mensch = output_eloquenter_mensch['message']['content']\n",
    "response_tweet = output_tweet['message']['content']\n",
    "\n",
    "summary_kind = response_kind.replace(\"Zusammenfassung:\", \"\").strip()\n",
    "summary_jugendlicher = response_jugendlicher.replace(\"Zusammenfassung:\", \"\").strip()\n",
    "summary_erwachsener = response_erwachsener.replace(\"Zusammenfassung:\", \"\").strip()\n",
    "summary_eloquenter_mensch = response_eloquenter_mensch.replace(\"Zusammenfassung:\", \"\").strip()\n",
    "if \"Tweet\" in response_tweet:\n",
    "    tweets = [re.sub(\"^Tweet [0-9]+:\\n\", \"\", x) for x in response_tweet.split(\"\\n\\n\") if re.search(\"^Tweet [0-9]+:\", x)]\n",
    "else:\n",
    "    tweets = []\n",
    "\n",
    "return summary_kind, summary_jugendlicher, summary_erwachsener, summary_eloquenter_mensch, tweets"
   ]
  },
  {
   "cell_type": "code",
   "execution_count": null,
   "id": "d804d881-b738-4b1f-8f7f-9dd52f864b42",
   "metadata": {},
   "outputs": [],
   "source": [
    "#tweets"
   ]
  },
  {
   "cell_type": "code",
   "execution_count": null,
   "id": "b32962be-1026-4398-be25-3829a739b709",
   "metadata": {},
   "outputs": [],
   "source": [
    "def get_summaries_and_tweets(text):\n",
    "    prompt_kind = \"Fasse die folgende Rede in 1 bis 5 Sätzen so zusammen, dass ein KIND sie verstehen kann! Verwende also einfache Worte und Sätze. Beginne nicht immer mit \\\"Es wird\\\" oder \\\"Der Redner\\\"!!! Schreibe die Sätze in der passiven Form. Erwähne nur den Inhalt, nicht wer was gesagt oder gefordert hat. Erwähne auch keine Parteien oder Personen. Konzentriere dich auf Forderungen, aber beginne nicht immer mit \\\"es wird gefordert\\\". STELLE KEINE FRAGEN! ARGUMENTIERE IMMER FÜR DIE AUSSAGE! Beginne die Zusammenfassung mit Zusammenfassung:\\n\"+text\n",
    "    prompt_jugendlicher = \"Fasse die folgende Rede in 1 bis 5 Sätzen so zusammen, dass ein Jugendlicher sie verstehen kann. Beginne nicht immer mit \\\"Es wird\\\" oder \\\"Der Redner\\\"!!! Schreibe die Sätze in der passiven Form. Erwähne nur den Inhalt, nicht wer was gesagt oder gefordert hat. Erwähne auch keine Parteien oder Personen. Konzentriere dich auf Forderungen, aber beginne nicht immer mit \\\"es wird gefordert\\\". STELLE KEINE FRAGEN! ARGUMENTIERE IMMER FÜR DIE AUSSAGE! Beginne die Zusammenfassung mit Zusammenfassung:\\n\"+text\n",
    "    prompt_erwachsener = \"Fasse die folgende Rede in 1 bis 5 Sätzen so zusammen, dass ein Erwachsener sie verstehen kann. Beginne nicht immer mit \\\"Es wird\\\" oder \\\"Der Redner\\\"!!! Schreibe die Sätze in der passiven Form. Erwähne nur den Inhalt, nicht wer was gesagt oder gefordert hat. Erwähne auch keine Parteien oder Personen. Konzentriere dich auf Forderungen, aber beginne nicht immer mit \\\"es wird gefordert\\\". STELLE KEINE FRAGEN! ARGUMENTIERE IMMER FÜR DIE AUSSAGE! Beginne die Zusammenfassung mit Zusammenfassung:\\n\"+text\n",
    "    prompt_eloquenter_mensch = \"Fasse die folgende Rede in 1 bis 5 Sätzen so zusammen, dass ein sehr eloquenter Mensch, der sich durch eine gehobene Wortwahl abzugrenzen versucht, sie verstehen kann. Beginne nicht immer mit \\\"Es wird\\\" oder \\\"Der Redner\\\"!!! Schreibe die Sätze in der passiven Form. Erwähne nur den Inhalt, nicht wer was gesagt oder gefordert hat. Erwähne auch keine Parteien oder Personen. Konzentriere dich auf Forderungen, aber beginne nicht immer mit \\\"es wird gefordert\\\". STELLE KEINE FRAGEN! ARGUMENTIERE IMMER FÜR DIE AUSSAGE! Beginne die Zusammenfassung mit Zusammenfassung:\\n\"+text\n",
    "    prompt_tweet = \"Schreibe zehn Tweets zu folgendem Text. Erwähne keine Parteien und keine Personen. STELLE KEINE FRAGEN! ARGUMENTIERE IMMER FÜR DIE AUSSAGE! Beginnen mit Tweet 1: Tweet 2: etc.:\\n\"+text\n",
    "    \n",
    "    output_kind = ollama.chat(model='llama3.1:405b-instruct-q3_K_S', messages=[{'role': 'user', 'content': prompt_kind,},])\n",
    "    output_jugendlicher = ollama.chat(model='llama3.1:405b-instruct-q3_K_S', messages=[{'role': 'user', 'content': prompt_jugendlicher,},])\n",
    "    output_erwachsener = ollama.chat(model='llama3.1:405b-instruct-q3_K_S', messages=[{'role': 'user', 'content': prompt_erwachsener,},])\n",
    "    output_eloquenter_mensch = ollama.chat(model='llama3.1:405b-instruct-q3_K_S', messages=[{'role': 'user', 'content': prompt_eloquenter_mensch,},])\n",
    "    output_tweet = ollama.chat(model='llama3.1:405b-instruct-q3_K_S', messages=[{'role': 'user', 'content': prompt_tweet,},])\n",
    "    \n",
    "    response_kind = output_kind['message']['content']\n",
    "    response_jugendlicher = output_jugendlicher['message']['content']\n",
    "    response_erwachsener = output_erwachsener['message']['content']\n",
    "    response_eloquenter_mensch = output_eloquenter_mensch['message']['content']\n",
    "    response_tweet = output_tweet['message']['content']\n",
    "    \n",
    "    summary_kind = response_kind.replace(\"Zusammenfassung:\", \"\").strip()\n",
    "    summary_jugendlicher = response_jugendlicher.replace(\"Zusammenfassung:\", \"\").strip()\n",
    "    summary_erwachsener = response_erwachsener.replace(\"Zusammenfassung:\", \"\").strip()\n",
    "    summary_eloquenter_mensch = response_eloquenter_mensch.replace(\"Zusammenfassung:\", \"\").strip()\n",
    "    if \"Tweet\" in response_tweet:\n",
    "        tweets = [re.sub(\"^Tweet [0-9]+:\\n\", \"\", x) for x in response_tweet.split(\"\\n\\n\") if re.search(\"^Tweet [0-9]+:\", x)]\n",
    "    else:\n",
    "        tweets = []\n",
    "    \n",
    "    return summary_kind, summary_jugendlicher, summary_erwachsener, summary_eloquenter_mensch, tweets"
   ]
  },
  {
   "cell_type": "code",
   "execution_count": null,
   "id": "0e719cec-bd81-4279-bbc6-22c02f8cf431",
   "metadata": {},
   "outputs": [],
   "source": [
    "sentence = \"Haschisch und Marihuana sollen legalisiert werden.\"\n",
    "#sentences_kind, sentences_jugendlicher, sentences_erwachsener, sentences_eloquenter_mensch = get_paraphrases(sentence)\n",
    "summary_kind, summary_jugendlicher, summary_erwachsener, summary_eloquenter_mensch, tweets = get_summaries_and_tweets(sentence)"
   ]
  },
  {
   "cell_type": "code",
   "execution_count": null,
   "id": "fb335da3-3b9b-4187-bd01-5ef9d1818fb5",
   "metadata": {},
   "outputs": [],
   "source": [
    "l_year = []\n",
    "l_party = []\n",
    "l_topic = []\n",
    "l_content = []\n",
    "l_summary_kind = []\n",
    "l_summary_jugendlicher = []\n",
    "l_summary_erwachsener = []\n",
    "l_summary_eloquenter_mensch = [] \n",
    "l_tweets = []\n",
    "\n",
    "input_ = [[w,x,y,z] for w,x,y,z in zip(df['year'], df['party'], df['topic'], df['content'])]\n",
    "#for id, text in tqdm(zip(id_statement, text_statement)):\n",
    "for year, party, topic, content in tqdm(input_):\n",
    "    l_year.append(year)\n",
    "    l_party.append(party)\n",
    "    l_topic.append(topic)\n",
    "    l_content.append(content)\n",
    "    #sentences_jugendlicher, sentences_erwachsener, sentences_eloquenter_mensch = get_paraphrases(text)\n",
    "    summary_kind, summary_jugendlicher, summary_erwachsener, summary_eloquenter_mensch, tweets = get_summaries_and_tweets(content)\n",
    "    l_summary_kind.append(summary_kind)\n",
    "    l_summary_jugendlicher.append(summary_jugendlicher)\n",
    "    l_summary_erwachsener.append(summary_erwachsener)\n",
    "    l_summary_eloquenter_mensch.append(summary_eloquenter_mensch)\n",
    "    l_tweets.append(tweets)\n",
    "\n",
    "    df_out = pd.DataFrame({\n",
    "        'year': l_year,\n",
    "        'party': l_party,\n",
    "        'topic': l_topic,\n",
    "        'content': l_content,\n",
    "        'summary_kind': l_summary_kind,\n",
    "        'summary_jugendlicher': l_summary_jugendlicher,\n",
    "        'summary_erwachsener': l_summary_erwachsener,\n",
    "        'summary_eloquenter_mensch': l_summary_eloquenter_mensch,\n",
    "        'tweets': l_tweets,\n",
    "    })\n",
    "    df_out.to_json(\"deutsche_wahlprogramme_summarized_and_tweets.json\")"
   ]
  },
  {
   "cell_type": "code",
   "execution_count": null,
   "id": "5618fb63-8558-4e42-ac44-dcbb67817bdc",
   "metadata": {},
   "outputs": [],
   "source": []
  },
  {
   "cell_type": "code",
   "execution_count": null,
   "id": "c8d52521-fb43-4793-bfd9-9332748fdc26",
   "metadata": {},
   "outputs": [],
   "source": []
  }
 ],
 "metadata": {
  "kernelspec": {
   "display_name": "Python 3 (ipykernel)",
   "language": "python",
   "name": "python3"
  },
  "language_info": {
   "codemirror_mode": {
    "name": "ipython",
    "version": 3
   },
   "file_extension": ".py",
   "mimetype": "text/x-python",
   "name": "python",
   "nbconvert_exporter": "python",
   "pygments_lexer": "ipython3",
   "version": "3.12.3"
  }
 },
 "nbformat": 4,
 "nbformat_minor": 5
}
