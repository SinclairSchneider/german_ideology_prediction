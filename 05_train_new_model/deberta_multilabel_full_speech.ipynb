{
 "cells": [
  {
   "cell_type": "code",
   "execution_count": null,
   "id": "e8264a74-234a-4cd5-8bc0-b7e784ab2c79",
   "metadata": {},
   "outputs": [],
   "source": [
    "from datasets import load_dataset\n",
    "from transformers import DebertaV2ForSequenceClassification, DebertaV2Tokenizer, EvalPrediction, TrainingArguments, Trainer\n",
    "from sklearn.model_selection import train_test_split\n",
    "from sklearn.metrics import accuracy_score, precision_recall_fscore_support, roc_auc_score\n",
    "import torch\n",
    "import wandb\n",
    "import numpy as np\n",
    "import pandas as pd"
   ]
  },
  {
   "cell_type": "code",
   "execution_count": null,
   "id": "a7ac5c1c-af80-401c-90c1-20315c955fc4",
   "metadata": {},
   "outputs": [],
   "source": [
    "#ds = load_dataset(\"SinclairSchneider/Bundestagsreden_senti_pos_neg\")"
   ]
  },
  {
   "cell_type": "code",
   "execution_count": null,
   "id": "9b717808-1f7b-4cf4-b14f-887e0166e406",
   "metadata": {},
   "outputs": [],
   "source": [
    "#df = ds['train'].to_pandas()"
   ]
  },
  {
   "cell_type": "code",
   "execution_count": null,
   "id": "2e3dd98f-5a75-4e09-91e2-6996b0adfe9e",
   "metadata": {},
   "outputs": [],
   "source": [
    "#df = df.query(\"Redner_Partei_oder_Rolle in ('CDU/CSU', 'SPD', 'AfD', 'FDP', 'BÜNDNIS 90/DIE GRÜNEN', 'DIE LINKE')\")"
   ]
  },
  {
   "cell_type": "code",
   "execution_count": null,
   "id": "32ba7780-9b07-4b97-b820-de158d7ecf67",
   "metadata": {},
   "outputs": [],
   "source": [
    "df = pd.read_json(\"trainset_combined.json\")"
   ]
  },
  {
   "cell_type": "code",
   "execution_count": null,
   "id": "ebab2e93-13a3-436c-9eb7-d50e3b6e12fd",
   "metadata": {},
   "outputs": [],
   "source": [
    "df"
   ]
  },
  {
   "cell_type": "code",
   "execution_count": null,
   "id": "3544736e-e48b-4a09-9e7c-210df0b2b644",
   "metadata": {},
   "outputs": [],
   "source": [
    "labels = [\"AfD\", \"BÜNDNIS 90/DIE GRÜNEN\", \"CDU/CSU\", \"DIE LINKE\", \"FDP\", \"SPD\"]\n",
    "id2label = {idx:label for idx, label in enumerate(labels)}\n",
    "label2id = {label:idx for idx, label in enumerate(labels)}"
   ]
  },
  {
   "cell_type": "code",
   "execution_count": null,
   "id": "7da7d9ec-4418-4965-be8c-7c3ae5613f0e",
   "metadata": {},
   "outputs": [],
   "source": [
    "#model_name = \"ikim-uk-essen/geberta-base\"\n",
    "model_name = \"ikim-uk-essen/geberta-xlarge\"\n",
    "max_length = 512\n",
    "model = DebertaV2ForSequenceClassification.from_pretrained(model_name, num_labels = len(labels), output_attentions = False, output_hidden_states = False, problem_type=\"multi_label_classification\", id2label=id2label, label2id=label2id)\n",
    "tokenizer = DebertaV2Tokenizer.from_pretrained(model_name, do_lower_case=False, max_length = max_length, TOKENIZERS_PARALLELISM=True)"
   ]
  },
  {
   "cell_type": "code",
   "execution_count": null,
   "id": "cdd0d538-6465-4bbe-94f7-55e482dfe151",
   "metadata": {},
   "outputs": [],
   "source": [
    "sentences = df.Text.values"
   ]
  },
  {
   "cell_type": "code",
   "execution_count": null,
   "id": "cd2e8c50-bf24-4ecf-9d83-fbcf375980d0",
   "metadata": {},
   "outputs": [],
   "source": [
    "df[\"senti_AfD\"] = df[\"senti_AfD\"].apply(lambda n: 1 if n==1 else 0).values\n",
    "df[\"senti_BUENDNIS_90_DIE_GRUENEN\"] = df[\"senti_BUENDNIS_90_DIE_GRUENEN\"].apply(lambda n: 1 if n==1 else 0).values\n",
    "df[\"senti_CDU_CSU\"] = df[\"senti_CDU_CSU\"].apply(lambda n: 1 if n==1 else 0).values\n",
    "df[\"senti_DIE_LINKE\"] = df[\"senti_DIE_LINKE\"].apply(lambda n: 1 if n==1 else 0).values\n",
    "df[\"senti_FDP\"] = df[\"senti_FDP\"].apply(lambda n: 1 if n==1 else 0).values\n",
    "df[\"senti_SPD\"] = df[\"senti_SPD\"].apply(lambda n: 1 if n==1 else 0).values"
   ]
  },
  {
   "cell_type": "code",
   "execution_count": null,
   "id": "421f88db-9677-4925-b6de-7857f855bbf7",
   "metadata": {},
   "outputs": [],
   "source": [
    "labels = list(zip(df.senti_AfD.values.astype(float), df.senti_BUENDNIS_90_DIE_GRUENEN.values.astype(float), df.senti_CDU_CSU.values.astype(float), df.senti_DIE_LINKE.values.astype(float), df.senti_FDP.values.astype(float), df.senti_SPD.values.astype(float)))"
   ]
  },
  {
   "cell_type": "code",
   "execution_count": null,
   "id": "6b63dee1-f1b2-4fe5-9656-b657e8b0ac05",
   "metadata": {},
   "outputs": [],
   "source": [
    "train_texts, test_texts, train_labels, test_labels = train_test_split(sentences, labels, test_size=.2)\n",
    "\n",
    "train_encodings = tokenizer(list(train_texts), truncation=True, padding=True, max_length = max_length)\n",
    "test_encodings = tokenizer(list(test_texts), truncation=True, padding=True,  max_length = max_length)"
   ]
  },
  {
   "cell_type": "code",
   "execution_count": null,
   "id": "ae683b22-7b4d-44bd-b6ff-4ce536fd827e",
   "metadata": {},
   "outputs": [],
   "source": [
    "class PoliticsDataset(torch.utils.data.Dataset):\n",
    "    def __init__(self, encodings, labels):\n",
    "        self.encodings = encodings\n",
    "        self.labels = labels\n",
    "\n",
    "    def __getitem__(self, idx):\n",
    "        item = {key: torch.tensor(val[idx]) for key, val in self.encodings.items()}\n",
    "        item['labels'] = torch.tensor(self.labels[idx])\n",
    "        return item\n",
    "\n",
    "    def __len__(self):\n",
    "        return len(self.labels)"
   ]
  },
  {
   "cell_type": "code",
   "execution_count": null,
   "id": "6deb66c5-4c1b-464e-8c2f-c7c24efa475b",
   "metadata": {},
   "outputs": [],
   "source": [
    "train_dataset = PoliticsDataset(train_encodings, train_labels)\n",
    "test_dataset = PoliticsDataset(test_encodings, test_labels)"
   ]
  },
  {
   "cell_type": "code",
   "execution_count": null,
   "id": "c62efee0-6186-48c8-95af-3a258f16c84a",
   "metadata": {},
   "outputs": [],
   "source": [
    "def compute_metrics(pred: EvalPrediction, threshold=0.5):\n",
    "    sigmoid = torch.nn.Sigmoid()\n",
    "    preds = pred.predictions[0] if isinstance(pred.predictions, tuple) else pred.predictions\n",
    "    probs = sigmoid(torch.Tensor(preds))\n",
    "    y_pred = np.zeros(probs.shape)\n",
    "    y_pred[np.where(probs >= threshold)] = 1\n",
    "    y_true = pred.label_ids\n",
    "    \n",
    "    precision, recall, f1, _ = precision_recall_fscore_support(y_true, y_pred, average='micro')\n",
    "    roc_auc = roc_auc_score(y_true, y_pred, average = 'micro')\n",
    "    acc = accuracy_score(y_true, y_pred)\n",
    "    return {\n",
    "        'f1': f1,\n",
    "        'precision': precision,\n",
    "        'recall': recall,\n",
    "        'accuracy': acc,\n",
    "        'roc_auc': roc_auc\n",
    "    }"
   ]
  },
  {
   "cell_type": "code",
   "execution_count": null,
   "id": "43b07167-8928-433e-b967-695f93d91f14",
   "metadata": {},
   "outputs": [],
   "source": [
    "#wandb.init(project=\"politic_BERT\", entity=\"unibw\")\n",
    "metric_name = \"f1\""
   ]
  },
  {
   "cell_type": "code",
   "execution_count": null,
   "id": "bb7fe111-45ef-4b4d-80df-39e808f819d2",
   "metadata": {},
   "outputs": [],
   "source": [
    "# define the training arguments\n",
    "output_dir = './politic_Deberta-xlarge_multilabel_bundestag_and_wahlomat'\n",
    "training_args = TrainingArguments(\n",
    "    output_dir = output_dir,\n",
    "    num_train_epochs=4,\n",
    "    per_device_train_batch_size = 1,\n",
    "    gradient_accumulation_steps = 16,    \n",
    "    per_device_eval_batch_size= 8,\n",
    "    evaluation_strategy = \"epoch\",\n",
    "    save_strategy = \"epoch\",\n",
    "    #learning_rate=1e-5,\n",
    "    disable_tqdm = False, \n",
    "    load_best_model_at_end=True,\n",
    "    weight_decay=0.01,\n",
    "    logging_steps = 8,\n",
    "    #fp16 = True,\n",
    "    fp16 = False,\n",
    "    dataloader_num_workers = 8,\n",
    "    metric_for_best_model=metric_name,\n",
    "    #report_to=\"wandb\",\n",
    "    run_name=\"politic_Deberta-xlarge_multilabel_bundestag_and_wahlomat\"\n",
    ")"
   ]
  },
  {
   "cell_type": "code",
   "execution_count": null,
   "id": "78c12ea1-7770-4d56-8b84-700ac0dbb20f",
   "metadata": {},
   "outputs": [],
   "source": [
    "# instantiate the trainer class and check for available devices\n",
    "trainer = Trainer(\n",
    "    model=model,\n",
    "    args=training_args,\n",
    "    compute_metrics=compute_metrics,\n",
    "    train_dataset=train_dataset,\n",
    "    eval_dataset=test_dataset\n",
    ")"
   ]
  },
  {
   "cell_type": "code",
   "execution_count": null,
   "id": "1e388d9f-6d55-421a-90c0-ef00075a3594",
   "metadata": {},
   "outputs": [],
   "source": [
    "trainer.train()"
   ]
  },
  {
   "cell_type": "code",
   "execution_count": null,
   "id": "d19432b4-4c0e-4754-9654-9eab6883006c",
   "metadata": {},
   "outputs": [],
   "source": [
    "tokenizer.save_pretrained(output_dir)"
   ]
  },
  {
   "cell_type": "code",
   "execution_count": null,
   "id": "9835e93b-d7dc-471b-9bd8-fc893b03bfb5",
   "metadata": {},
   "outputs": [],
   "source": []
  }
 ],
 "metadata": {
  "kernelspec": {
   "display_name": "Python 3 (ipykernel)",
   "language": "python",
   "name": "python3"
  },
  "language_info": {
   "codemirror_mode": {
    "name": "ipython",
    "version": 3
   },
   "file_extension": ".py",
   "mimetype": "text/x-python",
   "name": "python",
   "nbconvert_exporter": "python",
   "pygments_lexer": "ipython3",
   "version": "3.10.12"
  }
 },
 "nbformat": 4,
 "nbformat_minor": 5
}
