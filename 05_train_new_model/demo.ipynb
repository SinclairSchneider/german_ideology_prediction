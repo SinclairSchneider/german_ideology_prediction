{
 "cells": [
  {
   "cell_type": "code",
   "execution_count": null,
   "id": "9a8370fc-6fdb-4848-953a-706c8097f8ca",
   "metadata": {},
   "outputs": [],
   "source": [
    "from transformers import AutoModelForSequenceClassification, AutoTokenizer, pipeline\n",
    "import numpy as np\n",
    "import math\n",
    "import panel as pn"
   ]
  },
  {
   "cell_type": "code",
   "execution_count": null,
   "id": "d4d3136c-c470-4d24-9b9e-bedbc430e636",
   "metadata": {},
   "outputs": [],
   "source": [
    "pn.extension('echarts')"
   ]
  },
  {
   "cell_type": "code",
   "execution_count": null,
   "id": "c3c7be6e-39f8-42a4-88e8-0c375d41a101",
   "metadata": {},
   "outputs": [],
   "source": [
    "#model_name = \"politic_EuroBERT-610m_multilabel_bundestag_and_wahlomat\"\n",
    "#model_name = \"politic_EuroBERT-210m_multilabel_bundestag_and_wahlomat\"\n",
    "model_name = \"../05_train_new_model/politic_gemma-2-2b_multilabel_bundestag_and_wahlomat/checkpoint-7960_export\""
   ]
  },
  {
   "cell_type": "code",
   "execution_count": null,
   "id": "60012c08-da74-48b1-b12d-f53c8081890e",
   "metadata": {},
   "outputs": [],
   "source": [
    "max_length = 8192\n",
    "model = AutoModelForSequenceClassification.from_pretrained(model_name, trust_remote_code=True)\n",
    "#tokenizer = AutoTokenizer.from_pretrained(model_name, do_lower_case=False, max_length=max_length, TOKENIZERS_PARALLELISM=True, trust_remote_code=True)\n",
    "tokenizer = AutoTokenizer.from_pretrained(\"google/gemma-2-2b\", do_lower_case=False, max_length=max_length, TOKENIZERS_PARALLELISM=True, trust_remote_code=True)"
   ]
  },
  {
   "cell_type": "code",
   "execution_count": null,
   "id": "54090ecc-c117-4ab1-8806-9b8e2cfabb0c",
   "metadata": {},
   "outputs": [],
   "source": [
    "#model.push_to_hub(\"SinclairSchneider/german_politic_direction_EuroBERT-210m\")"
   ]
  },
  {
   "cell_type": "code",
   "execution_count": null,
   "id": "007628b1-d88c-4400-89b2-1ee4c61942f8",
   "metadata": {},
   "outputs": [],
   "source": [
    "#tokenizer.push_to_hub(\"SinclairSchneider/german_politic_direction_EuroBERT-210m\")"
   ]
  },
  {
   "cell_type": "code",
   "execution_count": null,
   "id": "3c97e1c6-25a3-450f-8bb8-dfdb6b06dbd3",
   "metadata": {},
   "outputs": [],
   "source": [
    "politic_pipeline = pipeline(\n",
    "        \"text-classification\",\n",
    "        model=model,\n",
    "        tokenizer=tokenizer,\n",
    "        top_k=None,\n",
    "        device=\"cuda\",\n",
    "        trust_remote_code=True\n",
    "    )"
   ]
  },
  {
   "cell_type": "code",
   "execution_count": null,
   "id": "f63d058d-a5e3-40fd-bf92-01c789d8d9b4",
   "metadata": {},
   "outputs": [],
   "source": [
    "party_vectors = {'DIE LINKE': [-1.0, 0.0],\n",
    " 'BÜNDNIS 90/DIE GRÜNEN': [-0.9077674463309972, 0.4194737934385177],\n",
    " #'SPD': [-0.8074405688999996, 0.5899489195637577],\n",
    " 'FDP': [0.0, 1.0],\n",
    " 'CDU/CSU': [0.614758038308033, 0.788715762702673],\n",
    " 'AfD': [1.0, 0.0]}"
   ]
  },
  {
   "cell_type": "code",
   "execution_count": null,
   "id": "9f705155-d0a4-4fad-b0c9-1f55d63a52b9",
   "metadata": {},
   "outputs": [],
   "source": [
    "def getPoliticalDirection(text):\n",
    "    result = {list(x.values())[0]: list(x.values())[1] for x in politic_pipeline(text)[0]}\n",
    "    result = np.sum([[result[key]*value[0], result[key]*value[1]] for key, value in zip(party_vectors.keys(), party_vectors.values())], axis=0)\n",
    "    if result[1] == 0.0:\n",
    "        result[1] = 0.00001\n",
    "    result = math.atan(result[0]/result[1])/(np.pi/2)\n",
    "    return result"
   ]
  },
  {
   "cell_type": "code",
   "execution_count": null,
   "id": "ce298700-3507-4e10-afec-30fcf92a3877",
   "metadata": {},
   "outputs": [],
   "source": [
    "politic_pipeline(\"Heute Morgen war ich in Berlin-Marienfelde bei den Warnstreiks der Metaller. Wenn das Management den Strukturwandel verschläft, braucht es mindestens Lohnerhöhungen und Sicherheiten für die Beschäftigten.\")"
   ]
  },
  {
   "cell_type": "code",
   "execution_count": null,
   "id": "646a14d7-869f-4be7-ac3e-b0fed62cb1c0",
   "metadata": {},
   "outputs": [],
   "source": [
    "text = \"Auf unseren deutschen Autobahnen soll ein Tempolimit von 130 geben\"\n",
    "#text = \"Deutschland den Deutschen, Ausländer raus\"\n",
    "#text = \"Alle Schlüsselindustrien sollten verstaatlicht werden\"\n",
    "#text = \"Wer langfristig in Wertpapieren spart - und wenn es nur 20 Euro im Monat sind - der soll am Ende den Veräußerungsgewinn nach einigen Jahren steuerfrei haben, damit sich für Millionen Wertpapiere lohnen und nicht nur für Millionäre.\""
   ]
  },
  {
   "cell_type": "code",
   "execution_count": null,
   "id": "479068bd-42ff-4f46-bda4-319b7438b02f",
   "metadata": {},
   "outputs": [],
   "source": [
    "politic_pipeline(text)"
   ]
  },
  {
   "cell_type": "code",
   "execution_count": null,
   "id": "fbe35cfc-ed0a-4984-9d3a-da5a99099803",
   "metadata": {},
   "outputs": [],
   "source": [
    "text = \"\"\"\n",
    "Lange war es still um Brasiliens Ex-Präsident Jair Bolsonaro – nun ist er zurück auf der Straße. Doch seine „große Rückkehr“ geriet am Sonntag zum großen Flop. Statt der von Bolsonaro selbst angekündigten „Million“ kamen laut Medienberichten gerade einmal 18.000 Menschen an den Strand von Copacabana. Einige sprechen von einer „politischen Beerdigung“.\n",
    "Natürlich bleibt die radikale Rechte in Brasilien mobilisierungsfähig. Doch der jüngste Auftritt offenbarte mehr Schwächen als Stärke: Bolsonaro hat keine neuen Ideen, setzt auf altbekannte Diskurse: die Opferrolle, gepaart mit Angriffen gegen die Justiz. Doch wer Wahlen gewinnen will, muss mehr bieten. Vor allem muss er jene „schweigende Mehrheit“ erreichen, die ihn 2018 in die Regierung gebracht hatte. Davon war an diesem Wochenende kaum etwas zu spüren.\n",
    "Auch die Strategie, sich an Trump zu orientieren, stößt an Grenzen. Während der US-Präsident trotz zahlreicher Skandale seinen Rückhalt in der republikanischen Partei behauptet, kämpft Bolsonaro zunehmend mit seiner politischen Bedeutungslosigkeit. Zwar gibt es bislang keinen Nachfolger mit ähnlicher Strahlkraft, doch Bolsonaro selbst wirkt zunehmend verbraucht. Bislang ist es ihm zwar gelungen, die Reihen seiner An­hän­ge­r*in­nen weitgehend geschlossen zu halten. Doch es ist gut möglich, dass der Konkurrenzkampf um die Führung der Rechten in Brasilien erst richtig beginnt, sobald Bolsonaro endgültig aus dem Rennen ist. Dafür könnte schon bald die Justiz sorgen.\n",
    "Sollte sich der Verdacht bestätigen, dass Bolsonaro und seine Vertrauten tatsächlich einen Staatsstreich inklusive Mordfantasien gegen Präsident Lula planen, dürfte sein politischer Absturz kaum noch aufzuhalten sein. Ein wegen Putschversuchs und Anstiftung zum Mord angeklagter Bolsonaro wäre selbst für viele seiner bisherigen Wäh­le­r*in­nen nicht mehr tragbar. Wer in Brasilien langfristig politisch erfolgreich sein will, muss auch die politische Mitte für sich gewinnen.\n",
    "Tot ist Bolsonaro allerdings noch lange nicht – dafür sitzt das bolsonaristische Projekt zu tief in den Köpfen vieler Brasilianer*innen. Doch ein politischer Durchmarsch à la Trump ist derzeit nicht in Sicht.\n",
    "\"\"\""
   ]
  },
  {
   "cell_type": "code",
   "execution_count": null,
   "id": "2c1148cd-2c6b-48ed-9eee-e6aa11862617",
   "metadata": {},
   "outputs": [],
   "source": [
    "politic_pipeline(text)"
   ]
  },
  {
   "cell_type": "code",
   "execution_count": null,
   "id": "2ebce43b-9cbb-4e40-9c7d-0c593002875e",
   "metadata": {},
   "outputs": [],
   "source": [
    "text = \"\"\"\n",
    "Bis zum 7. Oktober 2023 war es in der linken Klimaschutzorganisation Ende Gelände weitgehend Konsens, als Organisation keine Position zum Israel-Palästina-Konflikt zu beziehen. Dieser Minimalkonsens wurde von einigen Beteiligten in einer E-Mail im Oktober 2023 als »Schweigen zum anhaltenden Genozid an der palästinensischen Bevölkerung« und »Mittäterschaft« verurteilt, was Rassismus schüre. Mit einer antirassistischen Haltung sei das Schweigen nicht vereinbar, monierten die Kritiker.\n",
    "Ein weiterer Vorwurf lautete, »der antideutsche Einfluss« würde »nicht nur die deutsche Linke weiter« spalten, sondern fördere »auch eine letztlich selbstzerstörerische Haltung«, die »die bereits aufstrebenden Kräfte der ex-tremen Rechten« stärke und es verhindere, »sinnvolle Solidarität mit Genossen international aufzubauen«. In Reaktion auf diese Kritik beschloss man bei Ende Gelände, sich mit dem Konflikt in Israel und Palästina auseinanderzusetzen, was eine Kleingruppe organisieren und anleiten sollte.\n",
    "Die Resultate dieses Prozesses wurden im Dezember 2024 in einem Positionspapier mit dem Titel »Ende Gelände dem Schweigen« festgehalten. Darin kommt die Organisation nahezu allen Forderungen der Kritiker am vorherigen Konsens nach und geht sogar noch darüber hinaus.\n",
    "In ihrem Papier macht sich Ende Gelände den gegen Israel gerichteten Vorwurf der Apartheid und des Genozids an Palästinensern zu eigen. Die Organisation erklärt sich solidarisch mit den »Palästinaprotesten« weltweit, legitimiert die antiisraelische Boykottkampagne BDS und lehnt die IHRA-Definition des Antisemitismus ab. Den Vorwurf des Antisemitismus erhebt die Organisation nun vielmehr gegen die Kritiker des Antisemitismus.\n",
    "\"\"\""
   ]
  },
  {
   "cell_type": "code",
   "execution_count": null,
   "id": "bf2bfef4-4f35-452c-b6b7-e2792280403f",
   "metadata": {},
   "outputs": [],
   "source": [
    "text = \"\"\"\n",
    "BERLIN. CDU-Chef Friedrich Merz hat die CDU-Schatzmeisterin Julia Klöckner als Bundestagspräsidentin vorgeschlagen. Die 52jährige würde damit die bisherige Präsidentin des Hohen Hauses, Bärbel Bas (SPD), ablösen, wie die Bild-Zeitung am Montag unter Berufung auf eine Sitzung des Fraktionsvorstands der Union berichtete. Der Bundestag muß der Personalie noch zustimmen, das gilt jedoch als sehr wahrscheinlich.\n",
    "Klöckner hatte bei den jüngsten Bundestagswahlen ihren Wahlkreis im rheinland-pfälzischen Bad Kreuznach klar gegen den SPD-Kandidaten Joe Weingarten gewonnen. Im Bundestag gilt es als Tradition, daß die größte Fraktion auch den Bundestagspräsidenten stellen darf. Formell ist es das zweithöchste Amt im Staat – noch vor dem des Bundeskanzlers.\n",
    "Klöckner gilt als migrationsskeptisch\n",
    "Die Christdemokratin ist keine Unbekannte in der deutschen Politlandschaft. Sie trat 1996 in die CDU ein und wurde 2002 erstmals in den Bundestag gewählt. Zwischen 2010 und 2022 war sie Landesvorsitzende ihrer Partei in Rheinland-Pfalz, von 2011 bis 2018 außerdem Fraktionsvorsitzende der rheinland-pfälzischen CDU-Landtagsfraktion.\n",
    "Im Februar 2016 äußerte sie Kritik an der Asylpolitik ihrer Parteifreundin und damaligen Bundeskanzlerin Angela Merkel. Zusammen mit dem CDU-Politiker Guido Wolf forderte sie tagesaktuelle Kontingente für Migranten sowie Grenzzentren. Außerdem sollte niemand ohne Asylgrund oder Schutzstatus nach Deutschland einreisen dürfen, unterstrichen Klöckner und Wolf damals. (st)\n",
    "\"\"\""
   ]
  },
  {
   "cell_type": "code",
   "execution_count": null,
   "id": "073fe088-eb22-4234-a935-f805fae46ebb",
   "metadata": {},
   "outputs": [],
   "source": [
    "result = getPoliticalDirection(text)\n",
    "pn.indicators.Gauge(name='', value=round(result, 4), bounds=(-1, 1), format=' ')"
   ]
  },
  {
   "cell_type": "code",
   "execution_count": null,
   "id": "693ed91d-4ccd-4e1a-a8b9-24d5a93ce930",
   "metadata": {},
   "outputs": [],
   "source": [
    "result = getPoliticalDirection(\"\")\n",
    "pn.indicators.Gauge(name='', value=round(result, 4), bounds=(-1, 1), format=' ')"
   ]
  },
  {
   "cell_type": "code",
   "execution_count": null,
   "id": "447e99f3-e265-49bb-b945-1278f8c18b83",
   "metadata": {},
   "outputs": [],
   "source": []
  },
  {
   "cell_type": "code",
   "execution_count": null,
   "id": "dc3e11c8-71eb-4681-a68b-2d981d35e162",
   "metadata": {},
   "outputs": [],
   "source": []
  }
 ],
 "metadata": {
  "kernelspec": {
   "display_name": "Python 3 (ipykernel)",
   "language": "python",
   "name": "python3"
  },
  "language_info": {
   "codemirror_mode": {
    "name": "ipython",
    "version": 3
   },
   "file_extension": ".py",
   "mimetype": "text/x-python",
   "name": "python",
   "nbconvert_exporter": "python",
   "pygments_lexer": "ipython3",
   "version": "3.12.3"
  }
 },
 "nbformat": 4,
 "nbformat_minor": 5
}
