{
 "cells": [
  {
   "cell_type": "code",
   "execution_count": null,
   "id": "cab68993-fcc1-412e-aaf2-7a9846408963",
   "metadata": {},
   "outputs": [],
   "source": [
    "from transformers import AutoConfig, AutoModelForSequenceClassification, AutoTokenizer, EvalPrediction, TrainingArguments, Trainer\n",
    "\n",
    "from datasets import load_dataset\n",
    "from sklearn.model_selection import train_test_split\n",
    "from sklearn.metrics import accuracy_score, precision_recall_fscore_support, roc_auc_score\n",
    "import torch\n",
    "import wandb\n",
    "import numpy as np\n",
    "import pandas as pd"
   ]
  },
  {
   "cell_type": "code",
   "execution_count": null,
   "id": "fb7531d9-8c79-42f6-8cd2-74d984b3a4a5",
   "metadata": {},
   "outputs": [],
   "source": [
    "import pickle"
   ]
  },
  {
   "cell_type": "code",
   "execution_count": null,
   "id": "00ecf861-54ca-4b35-bc99-8534e7c6b8c1",
   "metadata": {},
   "outputs": [],
   "source": [
    "ds = load_dataset(\"SinclairSchneider/trainset_political_party_big\")"
   ]
  },
  {
   "cell_type": "code",
   "execution_count": null,
   "id": "40518a25-cafe-4109-94dd-99f2f315dd01",
   "metadata": {},
   "outputs": [],
   "source": [
    "df = ds['train'].to_pandas()"
   ]
  },
  {
   "cell_type": "code",
   "execution_count": null,
   "id": "ed419abf-d952-4503-9bfd-017643dd0827",
   "metadata": {},
   "outputs": [],
   "source": [
    "labels = [\"AfD\", \"BÜNDNIS 90/DIE GRÜNEN\", \"CDU/CSU\", \"DIE LINKE\", \"FDP\", \"SPD\"]\n",
    "id2label = {idx:label for idx, label in enumerate(labels)}\n",
    "label2id = {label:idx for idx, label in enumerate(labels)}"
   ]
  },
  {
   "cell_type": "code",
   "execution_count": null,
   "id": "185e3469-e46f-4209-888f-b99b396da5c1",
   "metadata": {},
   "outputs": [],
   "source": [
    "model_name = \"EuroBERT/EuroBERT-2.1B\"\n",
    "max_length = 8192\n",
    "model = AutoModelForSequenceClassification.from_pretrained(model_name, num_labels = len(labels), output_attentions = False, output_hidden_states = False, problem_type=\"multi_label_classification\", id2label=id2label, label2id=label2id, trust_remote_code=True)\n",
    "tokenizer = AutoTokenizer.from_pretrained(model_name, do_lower_case=False, max_length = max_length, TOKENIZERS_PARALLELISM=True, trust_remote_code=True)"
   ]
  },
  {
   "cell_type": "code",
   "execution_count": null,
   "id": "f12145ff-2254-4ecb-a5cb-84bf9ba2836d",
   "metadata": {},
   "outputs": [],
   "source": [
    "sentences = df.text.values"
   ]
  },
  {
   "cell_type": "code",
   "execution_count": null,
   "id": "ed008938-7c63-4552-bff2-27f82d2df064",
   "metadata": {},
   "outputs": [],
   "source": [
    "df[\"senti_AfD\"] = df[\"senti_AfD\"].apply(lambda n: 1 if n==1 else 0).values\n",
    "df[\"senti_BUENDNIS_90_DIE_GRUENEN\"] = df[\"senti_BUENDNIS_90_DIE_GRUENEN\"].apply(lambda n: 1 if n==1 else 0).values\n",
    "df[\"senti_CDU_CSU\"] = df[\"senti_CDU_CSU\"].apply(lambda n: 1 if n==1 else 0).values\n",
    "df[\"senti_DIE_LINKE\"] = df[\"senti_DIE_LINKE\"].apply(lambda n: 1 if n==1 else 0).values\n",
    "df[\"senti_FDP\"] = df[\"senti_FDP\"].apply(lambda n: 1 if n==1 else 0).values\n",
    "df[\"senti_SPD\"] = df[\"senti_SPD\"].apply(lambda n: 1 if n==1 else 0).values"
   ]
  },
  {
   "cell_type": "code",
   "execution_count": null,
   "id": "2d4c6e30-c68e-4100-aa18-4859f87576e8",
   "metadata": {},
   "outputs": [],
   "source": [
    "labels = list(zip(df.senti_AfD.values.astype(float), df.senti_BUENDNIS_90_DIE_GRUENEN.values.astype(float), df.senti_CDU_CSU.values.astype(float), df.senti_DIE_LINKE.values.astype(float), df.senti_FDP.values.astype(float), df.senti_SPD.values.astype(float)))"
   ]
  },
  {
   "cell_type": "code",
   "execution_count": null,
   "id": "adef61db-1f3f-4d3d-ae9d-ffaca3e78efd",
   "metadata": {},
   "outputs": [],
   "source": [
    "#train_texts, test_texts, train_labels, test_labels = train_test_split(sentences, labels, test_size=.2)\n",
    "\n",
    "#train_encodings = tokenizer(list(train_texts), truncation=True, padding=True, max_length = max_length)\n",
    "#test_encodings = tokenizer(list(test_texts), truncation=True, padding=True,  max_length = max_length)"
   ]
  },
  {
   "cell_type": "code",
   "execution_count": null,
   "id": "cd7709c7-8df2-474b-8be1-3825e83549ad",
   "metadata": {},
   "outputs": [],
   "source": [
    "with open(\"pkl_import/train_texts.pkl\", \"rb\") as f:\n",
    "\ttrain_texts = pickle.load(f)"
   ]
  },
  {
   "cell_type": "code",
   "execution_count": null,
   "id": "35f88974-9c4a-44f0-90b3-e0d60a2e40af",
   "metadata": {},
   "outputs": [],
   "source": [
    "with open(\"pkl_import/test_texts.pkl\", \"rb\") as f:\n",
    "\ttest_texts = pickle.load(f)"
   ]
  },
  {
   "cell_type": "code",
   "execution_count": null,
   "id": "79acc0a5-8431-4cde-8568-79efd6094f21",
   "metadata": {},
   "outputs": [],
   "source": [
    "with open(\"pkl_import/train_labels.pkl\", \"rb\") as f:\n",
    "\ttrain_labels = pickle.load(f)"
   ]
  },
  {
   "cell_type": "code",
   "execution_count": null,
   "id": "90da875b-2c44-41f6-ab44-da56dfc5182c",
   "metadata": {},
   "outputs": [],
   "source": [
    "with open(\"pkl_import/test_labels.pkl\", \"rb\") as f:\n",
    "\ttest_labels = pickle.load(f)"
   ]
  },
  {
   "cell_type": "code",
   "execution_count": null,
   "id": "ad7ebafc-4bd0-4e61-ad50-fe6ac367d21b",
   "metadata": {},
   "outputs": [],
   "source": [
    "with open(\"pkl_import/train_encodings.pkl\", \"rb\") as f:\n",
    "\ttrain_encodings = pickle.load(f)"
   ]
  },
  {
   "cell_type": "code",
   "execution_count": null,
   "id": "bc6dcbc6-2914-487d-aee9-f18acc4ab0ec",
   "metadata": {},
   "outputs": [],
   "source": [
    "with open(\"pkl_import/test_encodings.pkl\", \"rb\") as f:\n",
    "\ttest_encodings = pickle.load(f)"
   ]
  },
  {
   "cell_type": "code",
   "execution_count": null,
   "id": "28aed330-f21d-4ccc-ba3a-1cbc13754e1e",
   "metadata": {},
   "outputs": [],
   "source": [
    "class PoliticsDataset(torch.utils.data.Dataset):\n",
    "    def __init__(self, encodings, labels):\n",
    "        self.encodings = encodings\n",
    "        self.labels = labels\n",
    "\n",
    "    def __getitem__(self, idx):\n",
    "        item = {key: torch.tensor(val[idx]) for key, val in self.encodings.items()}\n",
    "        item['labels'] = torch.tensor(self.labels[idx])\n",
    "        return item\n",
    "\n",
    "    def __len__(self):\n",
    "        return len(self.labels)"
   ]
  },
  {
   "cell_type": "code",
   "execution_count": null,
   "id": "314fee4e-5d1a-42fc-b752-fbc8dd9694f6",
   "metadata": {},
   "outputs": [],
   "source": [
    "train_dataset = PoliticsDataset(train_encodings, train_labels)\n",
    "test_dataset = PoliticsDataset(test_encodings, test_labels)"
   ]
  },
  {
   "cell_type": "code",
   "execution_count": null,
   "id": "80d7641d-d3db-44d5-945d-eb84fc164bd9",
   "metadata": {},
   "outputs": [],
   "source": [
    "def compute_metrics(pred: EvalPrediction, threshold=0.5):\n",
    "    sigmoid = torch.nn.Sigmoid()\n",
    "    preds = pred.predictions[0] if isinstance(pred.predictions, tuple) else pred.predictions\n",
    "    probs = sigmoid(torch.Tensor(preds))\n",
    "    y_pred = np.zeros(probs.shape)\n",
    "    y_pred[np.where(probs >= threshold)] = 1\n",
    "    y_true = pred.label_ids\n",
    "    \n",
    "    precision, recall, f1, _ = precision_recall_fscore_support(y_true, y_pred, average='micro')\n",
    "    roc_auc = roc_auc_score(y_true, y_pred, average = 'micro')\n",
    "    acc = accuracy_score(y_true, y_pred)\n",
    "    return {\n",
    "        'f1': f1,\n",
    "        'precision': precision,\n",
    "        'recall': recall,\n",
    "        'accuracy': acc,\n",
    "        'roc_auc': roc_auc\n",
    "    }"
   ]
  },
  {
   "cell_type": "code",
   "execution_count": null,
   "id": "1634c059-5f93-484f-829b-f04a3e6df9df",
   "metadata": {},
   "outputs": [],
   "source": [
    "#wandb.init(project=\"politic_BERT\", entity=\"unibw\")\n",
    "metric_name = \"f1\""
   ]
  },
  {
   "cell_type": "code",
   "execution_count": null,
   "id": "0cec327c-66b1-463d-9476-0f3fded4ac5a",
   "metadata": {},
   "outputs": [],
   "source": [
    "# define the training arguments\n",
    "output_dir = './politic_EuroBERT-2.1B_multilabel_bundestag_and_wahlomat'\n",
    "training_args = TrainingArguments(\n",
    "    output_dir = output_dir,\n",
    "    num_train_epochs=4,\n",
    "    per_device_train_batch_size = 1,\n",
    "    gradient_accumulation_steps = 16,    \n",
    "    per_device_eval_batch_size= 8,\n",
    "    evaluation_strategy = \"epoch\",\n",
    "    save_strategy = \"epoch\",\n",
    "    #learning_rate=1e-5,\n",
    "    disable_tqdm = False, \n",
    "    load_best_model_at_end=True,\n",
    "    weight_decay=0.01,\n",
    "    logging_steps = 8,\n",
    "    #fp16 = True,\n",
    "    fp16 = False,\n",
    "    dataloader_num_workers = 8,\n",
    "    metric_for_best_model=metric_name,\n",
    "    #report_to=\"wandb\",\n",
    "    run_name=\"politic_EuroBERT-2.1B_multilabel_bundestag_and_wahlomat\"\n",
    ")"
   ]
  },
  {
   "cell_type": "code",
   "execution_count": null,
   "id": "7aa70f2a-fc23-4fc9-b4e7-fad7daf97d0a",
   "metadata": {},
   "outputs": [],
   "source": [
    "# instantiate the trainer class and check for available devices\n",
    "trainer = Trainer(\n",
    "    model=model,\n",
    "    args=training_args,\n",
    "    compute_metrics=compute_metrics,\n",
    "    train_dataset=train_dataset,\n",
    "    eval_dataset=test_dataset\n",
    ")"
   ]
  },
  {
   "cell_type": "code",
   "execution_count": null,
   "id": "75d76d28-108b-4de2-a603-c0cfe64ab5fd",
   "metadata": {},
   "outputs": [],
   "source": []
  }
 ],
 "metadata": {
  "kernelspec": {
   "display_name": "Python 3 (ipykernel)",
   "language": "python",
   "name": "python3"
  },
  "language_info": {
   "codemirror_mode": {
    "name": "ipython",
    "version": 3
   },
   "file_extension": ".py",
   "mimetype": "text/x-python",
   "name": "python",
   "nbconvert_exporter": "python",
   "pygments_lexer": "ipython3",
   "version": "3.12.3"
  }
 },
 "nbformat": 4,
 "nbformat_minor": 5
}
