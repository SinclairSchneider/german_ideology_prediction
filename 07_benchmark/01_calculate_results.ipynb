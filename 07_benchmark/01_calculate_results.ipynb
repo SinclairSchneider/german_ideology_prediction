{
 "cells": [
  {
   "cell_type": "code",
   "execution_count": null,
   "id": "888297bd-5d2a-442b-860b-593072d179d3",
   "metadata": {},
   "outputs": [],
   "source": [
    "import pandas as pd\n",
    "import math\n",
    "import numpy as np\n",
    "from tqdm import tqdm\n",
    "from fractions import Fraction\n",
    "from datasets import load_dataset"
   ]
  },
  {
   "cell_type": "code",
   "execution_count": null,
   "id": "f38d69f2-bfa4-441b-9914-07e2058e107e",
   "metadata": {},
   "outputs": [],
   "source": [
    "v_linke = [-1.0, 0.0]\n",
    "v_gruene = [-0.9077674463309972, 0.4194737934385177]\n",
    "v_spd = [-0.8074405688999996, 0.5899489195637577]\n",
    "v_fdp = [0.0, 1.0]\n",
    "v_cdu = [0.614758038308033, 0.788715762702673]\n",
    "v_afd = [1.0, 0.0]"
   ]
  },
  {
   "cell_type": "code",
   "execution_count": null,
   "id": "6d42d05c-1600-4acb-a2a7-4ba8e6edc099",
   "metadata": {},
   "outputs": [],
   "source": [
    "def get_result_(linke, gruene, spd, fdp, cdu, afd):\n",
    "    x = (linke*v_linke[0]+\n",
    "        gruene*v_gruene[0]+\n",
    "        spd*v_spd[0]+\n",
    "        fdp*v_fdp[0]+\n",
    "        cdu*v_cdu[0]+\n",
    "        afd*v_afd[0])\n",
    "    y = (linke*v_linke[1]+\n",
    "        gruene*v_gruene[1]+\n",
    "        spd*v_spd[1]+\n",
    "        fdp*v_fdp[1]+\n",
    "        cdu*v_cdu[1]+\n",
    "        afd*v_afd[1])\n",
    "    if y != 0:\n",
    "        result = math.atan(x/y)/(np.pi/2)\n",
    "    else:\n",
    "        if x == 0:\n",
    "            result = 0\n",
    "        elif x<0:\n",
    "            result = -1\n",
    "        else:\n",
    "            result = 1\n",
    "    return result"
   ]
  },
  {
   "cell_type": "code",
   "execution_count": null,
   "id": "db37a610-f50d-4063-aa43-6575ad185e62",
   "metadata": {},
   "outputs": [],
   "source": [
    "def get_result(linke, gruene, spd, fdp, cdu, afd):\n",
    "    result_full = get_result_(linke, gruene, spd, fdp, cdu, afd)\n",
    "    result_without_gruene = get_result_(linke, 0.0, spd, fdp, cdu, afd)\n",
    "    result_without_spd = get_result_(linke, gruene, 0.0, fdp, cdu, afd)\n",
    "    return [result_full, result_without_gruene, result_without_spd]"
   ]
  },
  {
   "cell_type": "code",
   "execution_count": null,
   "id": "0fc7f00f-4539-458b-a3a7-55a860806a02",
   "metadata": {},
   "outputs": [],
   "source": [
    "def convertMedienlandschaft(x):\n",
    "    return float(-Fraction(4/3)+Fraction(1/3)*x)"
   ]
  },
  {
   "cell_type": "code",
   "execution_count": null,
   "id": "aaf71f45-3cc1-44cf-a5a8-4544995de684",
   "metadata": {},
   "outputs": [],
   "source": [
    "#############"
   ]
  },
  {
   "cell_type": "code",
   "execution_count": null,
   "id": "0535647f-56bd-4723-8b90-91de5e816ac8",
   "metadata": {},
   "outputs": [],
   "source": [
    "def calculateDirection(df_in):\n",
    "    df = df_in.copy()\n",
    "    label_start_index = max([list(df.columns).index('other'), list(df.columns).index('politic')])+1\n",
    "    labels = [x for x in df.columns[label_start_index::] if \"index\" not in x]\n",
    "    groups = [labels[x:x+6] for x in range(len(labels))[::6] if len(list(range(x, x+6)))==6]\n",
    "    #print(groups)\n",
    "    d_results = {}\n",
    "    for group in groups:\n",
    "        classifier_name = group[0].replace(\"_\"+group[0].split(\"_\")[-1], \"\")\n",
    "        if \"result_\"+classifier_name not in d_results:\n",
    "            d_results[\"result_\"+classifier_name] = []\n",
    "        if \"result_\"+classifier_name+\"_without_gruene\" not in d_results:\n",
    "            d_results[\"result_\"+classifier_name+\"_without_gruene\"] = []\n",
    "        if \"result_\"+classifier_name+\"_without_spd\" not in d_results:\n",
    "            d_results[\"result_\"+classifier_name+\"_without_spd\"] = []\n",
    "    \n",
    "    for i, row in tqdm(df.iterrows(), total=df.shape[0]):\n",
    "        for group in groups:\n",
    "            classifier_name = group[0].replace(\"_\"+group[0].split(\"_\")[-1], \"\")\n",
    "            linke = row[classifier_name+\"_DIE LINKE\"]\n",
    "            gruene = row[classifier_name+\"_BÜNDNIS 90/DIE GRÜNEN\"]\n",
    "            spd = row[classifier_name+\"_SPD\"]\n",
    "            fdp = row[classifier_name+\"_FDP\"]\n",
    "            cdu = row[classifier_name+\"_CDU/CSU\"]\n",
    "            afd = row[classifier_name+\"_AfD\"]\n",
    "            result_full, result_without_gruene, result_without_spd = get_result(linke, gruene, spd, fdp, cdu, afd)\n",
    "            d_results[\"result_\"+classifier_name].append(result_full)\n",
    "            d_results[\"result_\"+classifier_name+\"_without_gruene\"].append(result_without_gruene)\n",
    "            d_results[\"result_\"+classifier_name+\"_without_spd\"].append(result_without_spd)\n",
    "    for x in d_results.keys():\n",
    "        df[x] = d_results[x]\n",
    "    return df"
   ]
  },
  {
   "cell_type": "code",
   "execution_count": null,
   "id": "b09a1a63-4ffa-4a9f-a5e8-e117c88b6965",
   "metadata": {},
   "outputs": [],
   "source": [
    "ds = load_dataset(\"NLP-UniBW/deutschlandfunk_de_classified\")['train']\n",
    "df = ds.to_pandas()"
   ]
  },
  {
   "cell_type": "code",
   "execution_count": null,
   "id": "45289b6e-7021-4103-903f-eeba94f9a976",
   "metadata": {},
   "outputs": [],
   "source": [
    "#df"
   ]
  },
  {
   "cell_type": "code",
   "execution_count": null,
   "id": "b8e843e5-3d1f-44ca-b7ab-560595687515",
   "metadata": {},
   "outputs": [],
   "source": [
    "#df = pd.read_json(\"deutschlandfunk_de_classified.json\")\n",
    "ds = load_dataset(\"NLP-UniBW/deutschlandfunk_de_classified\")['train']\n",
    "df = ds.to_pandas()\n",
    "df_out = calculateDirection(df)\n",
    "df_out.to_json(\"deutschlandfunk_de_classified_left_right.json\")"
   ]
  },
  {
   "cell_type": "code",
   "execution_count": null,
   "id": "5468ebc2-335e-43ed-b62b-cb931cd84e43",
   "metadata": {},
   "outputs": [],
   "source": [
    "#df = pd.read_json(\"focus_de_classified.json\")\n",
    "ds = load_dataset(\"NLP-UniBW/focus_de_classified\")['train']\n",
    "df = ds.to_pandas()\n",
    "df_out = calculateDirection(df)\n",
    "df_out.to_json(\"focus_de_classified_left_right.json\")"
   ]
  },
  {
   "cell_type": "code",
   "execution_count": null,
   "id": "db288f89-5d6f-4480-b8b2-945d31fe8ab4",
   "metadata": {},
   "outputs": [],
   "source": [
    "#df = pd.read_json(\"linksunten_classified.json\")\n",
    "ds = load_dataset(\"NLP-UniBW/linksunten_classified\")['train']\n",
    "df = ds.to_pandas()\n",
    "df_out = calculateDirection(df)\n",
    "df_out.to_json(\"linksunten_classified_left_right.json\")"
   ]
  },
  {
   "cell_type": "code",
   "execution_count": null,
   "id": "24b46a15-7ccc-446e-9112-fc9fde85bd35",
   "metadata": {},
   "outputs": [],
   "source": [
    "#df = pd.read_json(\"taz_de_classified.json\")\n",
    "ds = load_dataset(\"NLP-UniBW/taz_de_classified\")['train']\n",
    "df = ds.to_pandas()\n",
    "df_out = calculateDirection(df)\n",
    "df_out.to_json(\"taz_de_classified_left_right.json\")"
   ]
  },
  {
   "cell_type": "code",
   "execution_count": null,
   "id": "107ff689-465b-415f-a9f7-62c81934455a",
   "metadata": {},
   "outputs": [],
   "source": [
    "#df = pd.read_json(\"taz_de_classified.json\")\n",
    "ds = load_dataset(\"NLP-UniBW/zeit_de_classified\")['train']\n",
    "df = ds.to_pandas()\n",
    "df_out = calculateDirection(df)\n",
    "df_out.to_json(\"zeit_de_classified_left_right.json\")"
   ]
  },
  {
   "cell_type": "code",
   "execution_count": null,
   "id": "86b48359-b06b-4b48-9f04-af476c8db984",
   "metadata": {},
   "outputs": [],
   "source": [
    "#df = pd.read_json(\"taz_de_classified.json\")\n",
    "ds = load_dataset(\"NLP-UniBW/stern_de_classified\")['train']\n",
    "df = ds.to_pandas()\n",
    "df_out = calculateDirection(df)\n",
    "df_out.to_json(\"stern_de_classified_left_right.json\")"
   ]
  },
  {
   "cell_type": "code",
   "execution_count": null,
   "id": "21d3958a-92cb-4477-85f4-3d6bdbba250b",
   "metadata": {},
   "outputs": [],
   "source": [
    "#df = pd.read_json(\"taz_de_classified.json\")\n",
    "ds = load_dataset(\"NLP-UniBW/tichyseinblick_de_classified\")['train']\n",
    "df = ds.to_pandas()\n",
    "df_out = calculateDirection(df)\n",
    "df_out.to_json(\"tichyseinblick_de_classified_left_right.json\")"
   ]
  },
  {
   "cell_type": "code",
   "execution_count": null,
   "id": "138f6910-04c0-4875-a201-81d5047cba2f",
   "metadata": {},
   "outputs": [],
   "source": [
    "#df = pd.read_json(\"taz_de_classified.json\")\n",
    "ds = load_dataset(\"NLP-UniBW/cicero_de_classified\")['train']\n",
    "df = ds.to_pandas()\n",
    "df_out = calculateDirection(df)\n",
    "df_out.to_json(\"cicero_de_classified_left_right.json\")"
   ]
  },
  {
   "cell_type": "code",
   "execution_count": null,
   "id": "023a0549-b5c9-4601-9739-34569038b6cf",
   "metadata": {},
   "outputs": [],
   "source": [
    "#df = pd.read_json(\"taz_de_classified.json\")\n",
    "ds = load_dataset(\"NLP-UniBW/spiegel_de_classified\")['train']\n",
    "df = ds.to_pandas()\n",
    "df_out = calculateDirection(df)\n",
    "df_out.to_json(\"spiegel_de_classified_left_right.json\")"
   ]
  },
  {
   "cell_type": "code",
   "execution_count": null,
   "id": "5bb2c9a4-a058-455e-9082-5ce092dbe47c",
   "metadata": {},
   "outputs": [],
   "source": [
    "#df = pd.read_json(\"taz_de_classified.json\")\n",
    "ds = load_dataset(\"NLP-UniBW/vice_de_classified\")['train']\n",
    "df = ds.to_pandas()\n",
    "df_out = calculateDirection(df)\n",
    "df_out.to_json(\"vice_de_classified_left_right.json\")"
   ]
  },
  {
   "cell_type": "code",
   "execution_count": null,
   "id": "e1170c4b-6a19-4f7e-89eb-24a43d981ea9",
   "metadata": {},
   "outputs": [],
   "source": [
    "#df = pd.read_json(\"taz_de_classified.json\")\n",
    "ds = load_dataset(\"NLP-UniBW/tagesschau_de_classified\")['train']\n",
    "df = ds.to_pandas()\n",
    "df_out = calculateDirection(df)\n",
    "df_out.to_json(\"tagesschau_de_classified_left_right.json\")"
   ]
  },
  {
   "cell_type": "code",
   "execution_count": null,
   "id": "aae84994-ae7c-4ee1-abc4-cfbfdd1856f1",
   "metadata": {},
   "outputs": [],
   "source": [
    "#df = pd.read_json(\"taz_de_classified.json\")\n",
    "ds = load_dataset(\"NLP-UniBW/sueddeutsche_de_classified\")['train']\n",
    "df = ds.to_pandas()\n",
    "df_out = calculateDirection(df)\n",
    "df_out.to_json(\"sueddeutsche_de_classified_left_right.json\")"
   ]
  },
  {
   "cell_type": "code",
   "execution_count": null,
   "id": "d6712fb3-132c-4e49-8f29-8c8439e7f251",
   "metadata": {},
   "outputs": [],
   "source": [
    "#df = pd.read_json(\"taz_de_classified.json\")\n",
    "ds = load_dataset(\"NLP-UniBW/welt_de_classified\")['train']\n",
    "df = ds.to_pandas()\n",
    "df_out = calculateDirection(df)\n",
    "df_out.to_json(\"welt_de_classified_left_right.json\")"
   ]
  },
  {
   "cell_type": "code",
   "execution_count": null,
   "id": "5837576e-a79b-49ff-a2da-16604b2929fc",
   "metadata": {},
   "outputs": [],
   "source": [
    "#df = pd.read_json(\"taz_de_classified.json\")\n",
    "ds = load_dataset(\"NLP-UniBW/mdr_de_classified\")['train']\n",
    "df = ds.to_pandas()\n",
    "df_out = calculateDirection(df)\n",
    "df_out.to_json(\"mdr_de_classified_left_right.json\")"
   ]
  },
  {
   "cell_type": "code",
   "execution_count": null,
   "id": "f03cb23f-6b58-4fc1-8fa0-1209e1510ac0",
   "metadata": {},
   "outputs": [],
   "source": [
    "#df = pd.read_json(\"taz_de_classified.json\")\n",
    "ds = load_dataset(\"NLP-UniBW/der_freitag_de_classified\")['train']\n",
    "df = ds.to_pandas()\n",
    "df_out = calculateDirection(df)\n",
    "df_out.to_json(\"der_freitag_de_classified_left_right.json\")"
   ]
  },
  {
   "cell_type": "code",
   "execution_count": null,
   "id": "f4fb7492-2593-487c-ba68-c15f0eb40d4f",
   "metadata": {},
   "outputs": [],
   "source": [
    "#df = pd.read_json(\"taz_de_classified.json\")\n",
    "ds = load_dataset(\"NLP-UniBW/frankfurter_rundschau_de_classified\")['train']\n",
    "df = ds.to_pandas()\n",
    "df_out = calculateDirection(df)\n",
    "df_out.to_json(\"frankfurter_rundschau_de_classified_left_right.json\")"
   ]
  },
  {
   "cell_type": "code",
   "execution_count": null,
   "id": "cc2b2648-5688-4df4-80b5-a5fafddbfa46",
   "metadata": {},
   "outputs": [],
   "source": [
    "#df = pd.read_json(\"taz_de_classified.json\")\n",
    "ds = load_dataset(\"NLP-UniBW/bild_de_classified\")['train']\n",
    "df = ds.to_pandas()\n",
    "df_out = calculateDirection(df)\n",
    "df_out.to_json(\"bild_de_classified_left_right.json\")"
   ]
  },
  {
   "cell_type": "code",
   "execution_count": null,
   "id": "4f652a3d-f08a-4e11-9291-c208ea8f3037",
   "metadata": {},
   "outputs": [],
   "source": [
    "#df = pd.read_json(\"taz_de_classified.json\")\n",
    "ds = load_dataset(\"NLP-UniBW/russia_today_de_classified\")['train']\n",
    "df = ds.to_pandas()\n",
    "df_out = calculateDirection(df)\n",
    "df_out.to_json(\"russia_today_de_classified_left_right.json\")"
   ]
  },
  {
   "cell_type": "code",
   "execution_count": null,
   "id": "0f1ef647-5eb5-4f0f-8043-1bde81453b61",
   "metadata": {},
   "outputs": [],
   "source": [
    "#df = pd.read_json(\"taz_de_classified.json\")\n",
    "ds = load_dataset(\"NLP-UniBW/tagesspiegel_de_classified\")['train']\n",
    "df = ds.to_pandas()\n",
    "df_out = calculateDirection(df)\n",
    "df_out.to_json(\"tagesspiegel_de_classified_left_right.json\")"
   ]
  },
  {
   "cell_type": "code",
   "execution_count": null,
   "id": "369d1c2a-4b5d-4750-a958-3093ac8c395e",
   "metadata": {},
   "outputs": [],
   "source": [
    "#df = pd.read_json(\"taz_de_classified.json\")\n",
    "ds = load_dataset(\"NLP-UniBW/br_de_classified\")['train']\n",
    "df = ds.to_pandas()\n",
    "df_out = calculateDirection(df)\n",
    "df_out.to_json(\"br_de_classified_left_right.json\")"
   ]
  },
  {
   "cell_type": "code",
   "execution_count": null,
   "id": "21cca09e-3394-4c93-a2c1-bb61b4148e84",
   "metadata": {},
   "outputs": [],
   "source": [
    "#df = pd.read_json(\"taz_de_classified.json\")\n",
    "ds = load_dataset(\"NLP-UniBW/achgut_de_classified\")['train']\n",
    "df = ds.to_pandas()\n",
    "df_out = calculateDirection(df)\n",
    "df_out.to_json(\"achgut_de_classified_left_right.json\")"
   ]
  },
  {
   "cell_type": "code",
   "execution_count": null,
   "id": "3cfee8e8-d9b1-47c8-9b9c-f7c6b8fb5f57",
   "metadata": {},
   "outputs": [],
   "source": [
    "#df = pd.read_json(\"taz_de_classified.json\")\n",
    "ds = load_dataset(\"NLP-UniBW/wdr_de_classified\")['train']\n",
    "df = ds.to_pandas()\n",
    "df_out = calculateDirection(df)\n",
    "df_out.to_json(\"wdr_de_classified_left_right.json\")"
   ]
  },
  {
   "cell_type": "code",
   "execution_count": null,
   "id": "42a9083e-3a87-4c95-a65f-c85a7f68be3f",
   "metadata": {},
   "outputs": [],
   "source": [
    "#df = pd.read_json(\"taz_de_classified.json\")\n",
    "ds = load_dataset(\"NLP-UniBW/neues_deutschland_de_classified\")['train']\n",
    "df = ds.to_pandas()\n",
    "df_out = calculateDirection(df)\n",
    "df_out.to_json(\"neues_deutschland_de_classified_left_right.json\")"
   ]
  },
  {
   "cell_type": "code",
   "execution_count": null,
   "id": "3f1d1b12-03b0-49df-b274-544aaa956d37",
   "metadata": {},
   "outputs": [],
   "source": [
    "#df = pd.read_json(\"taz_de_classified.json\")\n",
    "ds = load_dataset(\"NLP-UniBW/compact_de_classified\")['train']\n",
    "df = ds.to_pandas()\n",
    "df_out = calculateDirection(df)\n",
    "df_out.to_json(\"compact_de_classified_left_right.json\")"
   ]
  },
  {
   "cell_type": "code",
   "execution_count": null,
   "id": "d47f4215-ab48-4bb5-953f-d04fd4993f71",
   "metadata": {},
   "outputs": [],
   "source": [
    "#df = pd.read_json(\"taz_de_classified.json\")\n",
    "ds = load_dataset(\"NLP-UniBW/ndr_de_classified\")['train']\n",
    "df = ds.to_pandas()\n",
    "df_out = calculateDirection(df)\n",
    "df_out.to_json(\"ndr_de_classified_left_right.json\")"
   ]
  },
  {
   "cell_type": "code",
   "execution_count": null,
   "id": "a7e5a23c-b417-40bd-b15e-de22c1cc52fa",
   "metadata": {},
   "outputs": [],
   "source": [
    "#df = pd.read_json(\"taz_de_classified.json\")\n",
    "ds = load_dataset(\"NLP-UniBW/nachdenkseiten_de_classified\")['train']\n",
    "df = ds.to_pandas()\n",
    "df_out = calculateDirection(df)\n",
    "df_out.to_json(\"nachdenkseiten_de_classified_left_right.json\")"
   ]
  },
  {
   "cell_type": "code",
   "execution_count": null,
   "id": "1cde1246-e260-4ab5-9065-d84db11b693c",
   "metadata": {},
   "outputs": [],
   "source": [
    "#df = pd.read_json(\"taz_de_classified.json\")\n",
    "ds = load_dataset(\"NLP-UniBW/junge_freiheit_de_classified\")['train']\n",
    "df = ds.to_pandas()\n",
    "df_out = calculateDirection(df)\n",
    "df_out.to_json(\"junge_freiheit_de_classified_left_right.json\")"
   ]
  },
  {
   "cell_type": "code",
   "execution_count": null,
   "id": "e5514483-e52e-44a2-afee-161a185c507d",
   "metadata": {},
   "outputs": [],
   "source": [
    "#df = pd.read_json(\"taz_de_classified.json\")\n",
    "ds = load_dataset(\"NLP-UniBW/rtl_de_classified\")['train']\n",
    "df = ds.to_pandas()\n",
    "df_out = calculateDirection(df)\n",
    "df_out.to_json(\"rtl_de_classified_left_right.json\")"
   ]
  },
  {
   "cell_type": "code",
   "execution_count": null,
   "id": "7f11ec5f-bbdd-4358-9737-fa36b0a5cfda",
   "metadata": {},
   "outputs": [],
   "source": [
    "#df = pd.read_json(\"taz_de_classified.json\")\n",
    "ds = load_dataset(\"NLP-UniBW/junge_welt_classified\")['train']\n",
    "df = ds.to_pandas()\n",
    "df_out = calculateDirection(df)\n",
    "df_out.to_json(\"junge_welt_classified_left_right.json\")"
   ]
  },
  {
   "cell_type": "code",
   "execution_count": null,
   "id": "825f290c-d1bc-49cc-92f2-ef696f538d3d",
   "metadata": {},
   "outputs": [],
   "source": [
    "#df = pd.read_json(\"taz_de_classified.json\")\n",
    "ds = load_dataset(\"NLP-UniBW/ntv_de_classified\")['train']\n",
    "df = ds.to_pandas()\n",
    "df_out = calculateDirection(df)\n",
    "df_out.to_json(\"ntv_de_classified_left_right.json\")"
   ]
  },
  {
   "cell_type": "code",
   "execution_count": null,
   "id": "eba1c137-527d-422c-905c-4646bc876505",
   "metadata": {},
   "outputs": [],
   "source": [
    "#df = pd.read_json(\"taz_de_classified.json\")\n",
    "ds = load_dataset(\"NLP-UniBW/jungle_world_classified\")['train']\n",
    "df = ds.to_pandas()\n",
    "df_out = calculateDirection(df)\n",
    "df_out.to_json(\"jungle_world_classified_left_right.json\")"
   ]
  },
  {
   "cell_type": "code",
   "execution_count": null,
   "id": "7a2670ae-fac0-4c4d-9dc6-753afa3d5575",
   "metadata": {},
   "outputs": [],
   "source": [
    "#df = pd.read_json(\"taz_de_classified.json\")\n",
    "ds = load_dataset(\"NLP-UniBW/frankfurter_allgemeine_de_classified\")['train']\n",
    "df = ds.to_pandas()\n",
    "df_out = calculateDirection(df)\n",
    "df_out.to_json(\"frankfurter_allgemeine_de_classified_left_right.json\")"
   ]
  },
  {
   "cell_type": "code",
   "execution_count": null,
   "id": "04674ab0-dd3c-4d76-921a-369e348e0a86",
   "metadata": {},
   "outputs": [],
   "source": [
    "#df = pd.read_json(\"taz_de_classified.json\")\n",
    "ds = load_dataset(\"NLP-UniBW/mm_news_de_classified\")['train']\n",
    "df = ds.to_pandas()\n",
    "df_out = calculateDirection(df)\n",
    "df_out.to_json(\"mm_news_de_classified_left_right.json\")"
   ]
  },
  {
   "cell_type": "code",
   "execution_count": null,
   "id": "bdca9b9e-cd0f-48c9-bb5d-1f3d92758b9c",
   "metadata": {},
   "outputs": [],
   "source": [
    "######################"
   ]
  },
  {
   "cell_type": "code",
   "execution_count": null,
   "id": "2d5bc9c8-d633-46d9-86d0-ba87e2bbbaf6",
   "metadata": {},
   "outputs": [],
   "source": [
    "df = pd.read_json(\"spiegel_de_classified_left_right.json\")"
   ]
  },
  {
   "cell_type": "code",
   "execution_count": null,
   "id": "b9def2e4-e22c-46fe-ad44-4767017abd7a",
   "metadata": {},
   "outputs": [],
   "source": [
    "#list(df.keys())"
   ]
  },
  {
   "cell_type": "code",
   "execution_count": null,
   "id": "fcb00c71-de5d-4897-ba85-35c61942dfa3",
   "metadata": {},
   "outputs": [],
   "source": [
    "def calculateResult(df, dataset_name, percentage):\n",
    "    df = df[df['politic'] >= percentage]\n",
    "    result_labels = [x for x in list(df.columns) if x.startswith(\"result\")]\n",
    "    d_results = {}\n",
    "    d_results[\"dataset\"] = dataset_name\n",
    "    for label in result_labels:\n",
    "        d_results[label+\"_mean\"] = np.mean(df[label])\n",
    "        d_results[label+\"_median\"] = np.median(df[label])\n",
    "    df_out = pd.DataFrame(d_results, index=[0])\n",
    "    return df_out"
   ]
  },
  {
   "cell_type": "code",
   "execution_count": null,
   "id": "a421863c-3bf0-42cc-abba-002ec8a6211e",
   "metadata": {},
   "outputs": [],
   "source": [
    "df = pd.read_json(\"deutschlandfunk_de_classified_left_right.json\")\n",
    "df_out = calculateResult(df, \"deutschlandfunk_de\", 0.8)\n",
    "df_out.to_json(\"deutschlandfunk_de_classified_result.json\")"
   ]
  },
  {
   "cell_type": "code",
   "execution_count": null,
   "id": "0ceff0fd-dc4a-4b90-9b5e-da5bb6c894c2",
   "metadata": {},
   "outputs": [],
   "source": [
    "df = pd.read_json(\"focus_de_classified_left_right.json\")\n",
    "df_out = calculateResult(df, \"focus_de\", 0.8)\n",
    "df_out.to_json(\"focus_de_classified_result.json\")"
   ]
  },
  {
   "cell_type": "code",
   "execution_count": null,
   "id": "19401bf7-ac9b-4b91-91ae-92222d96e30d",
   "metadata": {},
   "outputs": [],
   "source": [
    "df = pd.read_json(\"linksunten_classified_left_right.json\")\n",
    "df_out = calculateResult(df, \"linksunten\", 0.8)\n",
    "df_out.to_json(\"linksunten_classified_result.json\")"
   ]
  },
  {
   "cell_type": "code",
   "execution_count": null,
   "id": "24854100-1482-4fd2-9318-172cabde985b",
   "metadata": {},
   "outputs": [],
   "source": [
    "df = pd.read_json(\"taz_de_classified_left_right.json\")\n",
    "df_out = calculateResult(df, \"taz_de\", 0.8)\n",
    "df_out.to_json(\"taz_de_classified_result.json\")"
   ]
  },
  {
   "cell_type": "code",
   "execution_count": null,
   "id": "9e46b761-3a75-40c1-8d01-ec9a2296752d",
   "metadata": {},
   "outputs": [],
   "source": [
    "df = pd.read_json(\"zeit_de_classified_left_right.json\")\n",
    "df_out = calculateResult(df, \"zeit_de\", 0.8)\n",
    "df_out.to_json(\"zeit_de_classified_result.json\")"
   ]
  },
  {
   "cell_type": "code",
   "execution_count": null,
   "id": "30822486-b711-4995-a274-a3c9b67f67c5",
   "metadata": {},
   "outputs": [],
   "source": [
    "df = pd.read_json(\"stern_de_classified_left_right.json\")\n",
    "df_out = calculateResult(df, \"stern_de\", 0.8)\n",
    "df_out.to_json(\"stern_de_classified_result.json\")"
   ]
  },
  {
   "cell_type": "code",
   "execution_count": null,
   "id": "8d18b5af-2f53-4707-840a-50b9568aa927",
   "metadata": {},
   "outputs": [],
   "source": [
    "df = pd.read_json(\"tichyseinblick_de_classified_left_right.json\")\n",
    "df_out = calculateResult(df, \"tichyseinblick_de\", 0.8)\n",
    "df_out.to_json(\"tichyseinblick_de_classified_result.json\")"
   ]
  },
  {
   "cell_type": "code",
   "execution_count": null,
   "id": "0806b63a-4561-4cdf-969c-76bcddb4a6a0",
   "metadata": {},
   "outputs": [],
   "source": [
    "df = pd.read_json(\"cicero_de_classified_left_right.json\")\n",
    "df_out = calculateResult(df, \"cicero_de\", 0.8)\n",
    "df_out.to_json(\"cicero_de_classified_result.json\")"
   ]
  },
  {
   "cell_type": "code",
   "execution_count": null,
   "id": "5d7ab96f-f136-44c6-892e-0c901a358d2c",
   "metadata": {},
   "outputs": [],
   "source": [
    "df = pd.read_json(\"spiegel_de_classified_left_right.json\")\n",
    "df_out = calculateResult(df, \"spiegel_de\", 0.8)\n",
    "df_out.to_json(\"spiegel_de_classified_result.json\")"
   ]
  },
  {
   "cell_type": "code",
   "execution_count": null,
   "id": "c6ba982b-f8bb-4039-b6d3-060c26f35fc4",
   "metadata": {},
   "outputs": [],
   "source": [
    "df = pd.read_json(\"vice_de_classified_left_right.json\")\n",
    "df_out = calculateResult(df, \"vice_de\", 0.8)\n",
    "df_out.to_json(\"vice_de_classified_result.json\")"
   ]
  },
  {
   "cell_type": "code",
   "execution_count": null,
   "id": "b0aeeae2-5494-4c26-b3ac-f3886c222535",
   "metadata": {},
   "outputs": [],
   "source": [
    "df = pd.read_json(\"tagesschau_de_classified_left_right.json\")\n",
    "df_out = calculateResult(df, \"tagesschau_de\", 0.8)\n",
    "df_out.to_json(\"tagesschau_de_classified_result.json\")"
   ]
  },
  {
   "cell_type": "code",
   "execution_count": null,
   "id": "efb30ea3-8ac1-4206-8638-1d1ce4f52b90",
   "metadata": {},
   "outputs": [],
   "source": [
    "df = pd.read_json(\"sueddeutsche_de_classified_left_right.json\")\n",
    "df_out = calculateResult(df, \"sueddeutsche_de\", 0.8)\n",
    "df_out.to_json(\"sueddeutsche_de_classified_result.json\")"
   ]
  },
  {
   "cell_type": "code",
   "execution_count": null,
   "id": "20eda48b-3958-49be-ae6f-29f281613d5b",
   "metadata": {},
   "outputs": [],
   "source": [
    "df = pd.read_json(\"welt_de_classified_left_right.json\")\n",
    "df_out = calculateResult(df, \"welt_de\", 0.8)\n",
    "df_out.to_json(\"welt_de_classified_result.json\")"
   ]
  },
  {
   "cell_type": "code",
   "execution_count": null,
   "id": "d120d669-7ffa-4785-b17a-672259cd71f6",
   "metadata": {},
   "outputs": [],
   "source": [
    "df = pd.read_json(\"welt_de_classified_left_right.json\")\n",
    "df_out = calculateResult(df, \"welt_de\", 0.8)\n",
    "df_out.to_json(\"welt_de_classified_result.json\")"
   ]
  },
  {
   "cell_type": "code",
   "execution_count": null,
   "id": "02b198dd-c6d3-4a47-b859-f855b794cf92",
   "metadata": {},
   "outputs": [],
   "source": [
    "df = pd.read_json(\"mdr_de_classified_left_right.json\")\n",
    "df_out = calculateResult(df, \"mdr_de\", 0.8)\n",
    "df_out.to_json(\"mdr_de_classified_result.json\")"
   ]
  },
  {
   "cell_type": "code",
   "execution_count": null,
   "id": "3636ce53-7403-4e4a-a5bb-90ad3a292122",
   "metadata": {},
   "outputs": [],
   "source": [
    "df = pd.read_json(\"der_freitag_de_classified_left_right.json\")\n",
    "df_out = calculateResult(df, \"der_freitag_de\", 0.8)\n",
    "df_out.to_json(\"der_freitag_de_classified_result.json\")"
   ]
  },
  {
   "cell_type": "code",
   "execution_count": null,
   "id": "9eb3224c-a752-4178-88b0-59489142c1b0",
   "metadata": {},
   "outputs": [],
   "source": [
    "df = pd.read_json(\"frankfurter_rundschau_de_classified_left_right.json\")\n",
    "df_out = calculateResult(df, \"frankfurter_rundschau_de\", 0.8)\n",
    "df_out.to_json(\"frankfurter_rundschau_de_classified_result.json\")"
   ]
  },
  {
   "cell_type": "code",
   "execution_count": null,
   "id": "cfc53d67-aa08-44a8-aec4-327ed3821a54",
   "metadata": {},
   "outputs": [],
   "source": [
    "df = pd.read_json(\"bild_de_classified_left_right.json\")\n",
    "df_out = calculateResult(df, \"bild_de\", 0.8)\n",
    "df_out.to_json(\"bild_de_classified_result.json\")"
   ]
  },
  {
   "cell_type": "code",
   "execution_count": null,
   "id": "0cdb93bc-2dfb-4adb-98a2-c767ce17470e",
   "metadata": {},
   "outputs": [],
   "source": [
    "df = pd.read_json(\"russia_today_de_classified_left_right.json\")\n",
    "df_out = calculateResult(df, \"russia_today_de\", 0.8)\n",
    "df_out.to_json(\"russia_today_de_classified_result.json\")"
   ]
  },
  {
   "cell_type": "code",
   "execution_count": null,
   "id": "17fe2207-007e-4aa6-a36e-f99f86fab8e2",
   "metadata": {},
   "outputs": [],
   "source": [
    "df = pd.read_json(\"tagesspiegel_de_classified_left_right.json\")\n",
    "df_out = calculateResult(df, \"tagesspiegel_de\", 0.8)\n",
    "df_out.to_json(\"tagesspiegel_de_classified_result.json\")"
   ]
  },
  {
   "cell_type": "code",
   "execution_count": null,
   "id": "dcb7764f-5787-4d80-a5a1-2bf98f75dab5",
   "metadata": {},
   "outputs": [],
   "source": [
    "df = pd.read_json(\"br_de_classified_left_right.json\")\n",
    "df_out = calculateResult(df, \"br_de\", 0.8)\n",
    "df_out.to_json(\"br_de_classified_result.json\")"
   ]
  },
  {
   "cell_type": "code",
   "execution_count": null,
   "id": "df212673-0679-452d-abb3-bc514dff903c",
   "metadata": {},
   "outputs": [],
   "source": [
    "df = pd.read_json(\"achgut_de_classified_left_right.json\")\n",
    "df_out = calculateResult(df, \"achgut_de\", 0.8)\n",
    "df_out.to_json(\"achgut_de_classified_result.json\")"
   ]
  },
  {
   "cell_type": "code",
   "execution_count": null,
   "id": "b44da3d2-1d38-4083-a949-c192bb334018",
   "metadata": {},
   "outputs": [],
   "source": [
    "df = pd.read_json(\"wdr_de_classified_left_right.json\")\n",
    "df_out = calculateResult(df, \"wdr_de\", 0.8)\n",
    "df_out.to_json(\"wdr_de_classified_result.json\")"
   ]
  },
  {
   "cell_type": "code",
   "execution_count": null,
   "id": "9189e086-0b02-4871-8abc-0ab7eef6a3bd",
   "metadata": {},
   "outputs": [],
   "source": [
    "df = pd.read_json(\"neues_deutschland_de_classified_left_right.json\")\n",
    "df_out = calculateResult(df, \"neues_deutschland_de\", 0.8)\n",
    "df_out.to_json(\"neues_deutschland_de_classified_result.json\")"
   ]
  },
  {
   "cell_type": "code",
   "execution_count": null,
   "id": "a45b6f67-feb0-4139-b03e-34f1fd34265d",
   "metadata": {},
   "outputs": [],
   "source": [
    "df = pd.read_json(\"compact_de_classified_left_right.json\")\n",
    "df_out = calculateResult(df, \"compact_de\", 0.8)\n",
    "df_out.to_json(\"compact_de_classified_result.json\")"
   ]
  },
  {
   "cell_type": "code",
   "execution_count": null,
   "id": "81183564-abf4-4e98-a4ca-5bd2883a4277",
   "metadata": {},
   "outputs": [],
   "source": [
    "df = pd.read_json(\"ndr_de_classified_left_right.json\")\n",
    "df_out = calculateResult(df, \"ndr_de\", 0.8)\n",
    "df_out.to_json(\"ndr_de_classified_result.json\")"
   ]
  },
  {
   "cell_type": "code",
   "execution_count": null,
   "id": "605a1a78-4c21-4bbb-9527-b7023c0497cf",
   "metadata": {},
   "outputs": [],
   "source": [
    "df = pd.read_json(\"nachdenkseiten_de_classified_left_right.json\")\n",
    "df_out = calculateResult(df, \"nachdenkseiten_de\", 0.8)\n",
    "df_out.to_json(\"nachdenkseiten_de_classified_result.json\")"
   ]
  },
  {
   "cell_type": "code",
   "execution_count": null,
   "id": "08f26ae3-63f3-4591-8d67-522f25a23248",
   "metadata": {},
   "outputs": [],
   "source": [
    "df = pd.read_json(\"junge_freiheit_de_classified_left_right.json\")\n",
    "df_out = calculateResult(df, \"junge_freiheit_de\", 0.8)\n",
    "df_out.to_json(\"junge_freiheit_de_classified_result.json\")"
   ]
  },
  {
   "cell_type": "code",
   "execution_count": null,
   "id": "195ae6df-67d7-426c-875d-b42b9107b654",
   "metadata": {},
   "outputs": [],
   "source": [
    "df = pd.read_json(\"rtl_de_classified_left_right.json\")\n",
    "df_out = calculateResult(df, \"rtl_de\", 0.8)\n",
    "df_out.to_json(\"rtl_de_classified_result.json\")"
   ]
  },
  {
   "cell_type": "code",
   "execution_count": null,
   "id": "f461a25d-a9e0-4559-a937-1f5af8f1706e",
   "metadata": {},
   "outputs": [],
   "source": [
    "df = pd.read_json(\"junge_welt_classified_left_right.json\")\n",
    "df_out = calculateResult(df, \"junge_welt\", 0.8)\n",
    "df_out.to_json(\"junge_welt_classified_result.json\")"
   ]
  },
  {
   "cell_type": "code",
   "execution_count": null,
   "id": "ecc99bef-971a-4a70-9508-cced8d4ffcc5",
   "metadata": {},
   "outputs": [],
   "source": [
    "df = pd.read_json(\"ntv_de_classified_left_right.json\")\n",
    "df_out = calculateResult(df, \"ntv_de\", 0.8)\n",
    "df_out.to_json(\"ntv_de_classified_result.json\")"
   ]
  },
  {
   "cell_type": "code",
   "execution_count": null,
   "id": "3d1d06cb-d8b0-4608-99d7-eeff93f013b6",
   "metadata": {},
   "outputs": [],
   "source": [
    "df = pd.read_json(\"jungle_world_classified_left_right.json\")\n",
    "df_out = calculateResult(df, \"jungle_world\", 0.8)\n",
    "df_out.to_json(\"jungle_world_classified_result.json\")"
   ]
  },
  {
   "cell_type": "code",
   "execution_count": null,
   "id": "69e86044-2cbb-4e86-8333-b7e06f3ac217",
   "metadata": {},
   "outputs": [],
   "source": [
    "df = pd.read_json(\"frankfurter_allgemeine_de_classified_left_right.json\")\n",
    "df_out = calculateResult(df, \"frankfurter_allgemeine_de\", 0.8)\n",
    "df_out.to_json(\"frankfurter_allgemeine_de_classified_result.json\")"
   ]
  },
  {
   "cell_type": "code",
   "execution_count": null,
   "id": "d978b2fa-eb59-4aae-a10d-96f482aaed29",
   "metadata": {},
   "outputs": [],
   "source": [
    "df = pd.read_json(\"mm_news_de_classified_left_right.json\")\n",
    "df_out = calculateResult(df, \"mm_news_de\", 0.8)\n",
    "df_out.to_json(\"mm_news_de_classified_result.json\")"
   ]
  },
  {
   "cell_type": "code",
   "execution_count": null,
   "id": "3a449fbc-587c-4365-9a59-45b28660f5b9",
   "metadata": {},
   "outputs": [],
   "source": [
    "######################"
   ]
  },
  {
   "cell_type": "code",
   "execution_count": null,
   "id": "320294f3-1976-4296-b3a0-9004b06cc08d",
   "metadata": {},
   "outputs": [],
   "source": [
    "exp_deutschlandfunk_de = convertMedienlandschaft(3.8)\n",
    "exp_focus_de = convertMedienlandschaft(4.9)\n",
    "exp_linksunten = convertMedienlandschaft(2.0)\n",
    "exp_taz_de = convertMedienlandschaft(2.8)\n",
    "exp_zeit_de = convertMedienlandschaft(3.6)\n",
    "exp_stern_de = convertMedienlandschaft(3.8)\n",
    "exp_tichyseinblick_de = convertMedienlandschaft(5.5)\n",
    "exp_cicero_de = convertMedienlandschaft(4.9)\n",
    "exp_spiegel_de = convertMedienlandschaft(3.5)\n",
    "exp_vice_de = convertMedienlandschaft(2.8)\n",
    "exp_tagesschau_de = convertMedienlandschaft(3.7)\n",
    "exp_sueddeutsche_de = convertMedienlandschaft(3.5)\n",
    "exp_welt_de = convertMedienlandschaft(4.8)\n",
    "exp_mdr_de = convertMedienlandschaft(4.1)\n",
    "exp_der_freitag_de = convertMedienlandschaft(2.7)\n",
    "exp_frankfurter_rundschau_de = convertMedienlandschaft(3.4)\n",
    "exp_bild_de = convertMedienlandschaft(5.2)\n",
    "exp_russia_today_de = convertMedienlandschaft(5.1)\n",
    "exp_tagesspiegel_de = convertMedienlandschaft(3.6)\n",
    "exp_br_de = convertMedienlandschaft(4.4)\n",
    "exp_achgut_de = convertMedienlandschaft(5.2)\n",
    "exp_wdr_de = convertMedienlandschaft(3.5)\n",
    "exp_neues_deutschland_de = convertMedienlandschaft(2.6)\n",
    "exp_compact_de = convertMedienlandschaft(6.0)\n",
    "exp_ndr_de = convertMedienlandschaft(3.7)\n",
    "exp_nachdenkseiten_de = convertMedienlandschaft(3.1)\n",
    "exp_junge_freiheit_de = convertMedienlandschaft(5.8)\n",
    "exp_rtl_de = convertMedienlandschaft(4.5)\n",
    "exp_junge_welt = convertMedienlandschaft(2.4)\n",
    "exp_ntv_de = convertMedienlandschaft(4.3)\n",
    "exp_jungle_world = convertMedienlandschaft(2.3)\n",
    "exp_frankfurter_allgemeine_de = convertMedienlandschaft(4.5)\n",
    "exp_mm_news_de = convertMedienlandschaft(5.1)"
   ]
  },
  {
   "cell_type": "code",
   "execution_count": null,
   "id": "423e9a29-65b9-4de2-8383-7b14efd496c6",
   "metadata": {},
   "outputs": [],
   "source": [
    "df_deutschlandfunk_de = pd.read_json(\"deutschlandfunk_de_classified_result.json\")\n",
    "df_focus_de = pd.read_json(\"focus_de_classified_result.json\")\n",
    "df_linksunten = pd.read_json(\"linksunten_classified_result.json\")\n",
    "df_taz_de = pd.read_json(\"taz_de_classified_result.json\")\n",
    "\n",
    "df_zeit_de = pd.read_json(\"zeit_de_classified_result.json\")\n",
    "df_stern_de = pd.read_json(\"stern_de_classified_result.json\")\n",
    "df_tichyseinblick_de = pd.read_json(\"tichyseinblick_de_classified_result.json\")\n",
    "df_cicero_de = pd.read_json(\"cicero_de_classified_result.json\")\n",
    "df_spiegel_de = pd.read_json(\"spiegel_de_classified_result.json\")\n",
    "df_vice_de = pd.read_json(\"vice_de_classified_result.json\")\n",
    "df_tagesschau_de = pd.read_json(\"tagesschau_de_classified_result.json\")\n",
    "df_sueddeutsche_de = pd.read_json(\"sueddeutsche_de_classified_result.json\")\n",
    "df_welt_de = pd.read_json(\"welt_de_classified_result.json\")\n",
    "df_mdr_de = pd.read_json(\"mdr_de_classified_result.json\")\n",
    "df_der_freitag_de = pd.read_json(\"der_freitag_de_classified_result.json\")\n",
    "df_frankfurter_rundschau_de = pd.read_json(\"frankfurter_rundschau_de_classified_result.json\")\n",
    "df_bild_de = pd.read_json(\"bild_de_classified_result.json\")\n",
    "df_russia_today_de = pd.read_json(\"russia_today_de_classified_result.json\")\n",
    "df_tagesspiegel_de = pd.read_json(\"tagesspiegel_de_classified_result.json\")\n",
    "df_br_de = pd.read_json(\"br_de_classified_result.json\")\n",
    "df_achgut_de = pd.read_json(\"achgut_de_classified_result.json\")\n",
    "df_wdr_de = pd.read_json(\"wdr_de_classified_result.json\")\n",
    "df_neues_deutschland_de = pd.read_json(\"neues_deutschland_de_classified_result.json\")\n",
    "df_compact_de = pd.read_json(\"compact_de_classified_result.json\")\n",
    "df_ndr_de = pd.read_json(\"ndr_de_classified_result.json\")\n",
    "df_nachdenkseiten_de = pd.read_json(\"nachdenkseiten_de_classified_result.json\")\n",
    "df_junge_freiheit_de = pd.read_json(\"junge_freiheit_de_classified_result.json\")\n",
    "df_rtl_de = pd.read_json(\"rtl_de_classified_result.json\")\n",
    "df_junge_welt = pd.read_json(\"junge_welt_classified_result.json\")\n",
    "df_ntv_de = pd.read_json(\"ntv_de_classified_result.json\")\n",
    "df_jungle_world = pd.read_json(\"jungle_world_classified_result.json\")\n",
    "df_frankfurter_allgemeine_de = pd.read_json(\"frankfurter_allgemeine_de_classified_result.json\")\n",
    "df_mm_news_de = pd.read_json(\"mm_news_de_classified_result.json\")"
   ]
  },
  {
   "cell_type": "code",
   "execution_count": null,
   "id": "c76ae831-8492-4b9c-b299-5514551d285f",
   "metadata": {},
   "outputs": [],
   "source": [
    "#df_deutschlandfunk_de.iloc[:,1:]"
   ]
  },
  {
   "cell_type": "code",
   "execution_count": null,
   "id": "25fea230-1734-4a1a-af8a-e6d7c8b48484",
   "metadata": {},
   "outputs": [],
   "source": [
    "df_deutschlandfunk_de_tmp = (df_deutschlandfunk_de.iloc[:,1:]-exp_deutschlandfunk_de)**2\n",
    "df_focus_de_tmp = (df_focus_de.iloc[:,1:]-exp_focus_de)**2\n",
    "df_linksunten_tmp = (df_linksunten.iloc[:,1:]-exp_linksunten)**2\n",
    "df_taz_de_tmp = (df_taz_de.iloc[:,1:]-exp_taz_de)**2\n",
    "\n",
    "df_zeit_de_tmp = (df_zeit_de.iloc[:,1:]-exp_zeit_de)**2\n",
    "df_stern_de_tmp = (df_stern_de.iloc[:,1:]-exp_stern_de)**2\n",
    "df_tichyseinblick_de_tmp = (df_tichyseinblick_de.iloc[:,1:]-exp_tichyseinblick_de)**2\n",
    "df_cicero_de_tmp = (df_cicero_de.iloc[:,1:]-exp_cicero_de)**2\n",
    "df_spiegel_de_tmp = (df_spiegel_de.iloc[:,1:]-exp_spiegel_de)**2\n",
    "df_vice_de_tmp = (df_vice_de.iloc[:,1:]-exp_vice_de)**2\n",
    "df_tagesschau_de_tmp = (df_tagesschau_de.iloc[:,1:]-exp_tagesschau_de)**2\n",
    "df_sueddeutsche_de_tmp = (df_sueddeutsche_de.iloc[:,1:]-exp_sueddeutsche_de)**2\n",
    "df_welt_de_tmp = (df_welt_de.iloc[:,1:]-exp_welt_de)**2\n",
    "df_mdr_de_tmp = (df_mdr_de.iloc[:,1:]-exp_mdr_de)**2\n",
    "df_der_freitag_de_tmp = (df_der_freitag_de.iloc[:,1:]-exp_der_freitag_de)**2\n",
    "df_frankfurter_rundschau_de_tmp = (df_frankfurter_rundschau_de.iloc[:,1:]-exp_frankfurter_rundschau_de)**2\n",
    "df_bild_de_tmp = (df_bild_de.iloc[:,1:]-exp_bild_de)**2\n",
    "df_russia_today_de_tmp = (df_russia_today_de.iloc[:,1:]-exp_russia_today_de)**2\n",
    "df_tagesspiegel_de_tmp = (df_tagesspiegel_de.iloc[:,1:]-exp_tagesspiegel_de)**2\n",
    "df_br_de_tmp = (df_br_de.iloc[:,1:]-exp_br_de)**2\n",
    "df_achgut_de_tmp = (df_achgut_de.iloc[:,1:]-exp_achgut_de)**2\n",
    "df_wdr_de_tmp = (df_wdr_de.iloc[:,1:]-exp_wdr_de)**2\n",
    "df_neues_deutschland_de_tmp = (df_neues_deutschland_de.iloc[:,1:]-exp_neues_deutschland_de)**2\n",
    "df_compact_de_tmp = (df_compact_de.iloc[:,1:]-exp_compact_de)**2\n",
    "df_ndr_de_tmp = (df_ndr_de.iloc[:,1:]-exp_ndr_de)**2\n",
    "df_nachdenkseiten_de_tmp = (df_nachdenkseiten_de.iloc[:,1:]-exp_nachdenkseiten_de)**2\n",
    "df_junge_freiheit_de_tmp = (df_junge_freiheit_de.iloc[:,1:]-exp_junge_freiheit_de)**2\n",
    "df_rtl_de_tmp = (df_rtl_de.iloc[:,1:]-exp_rtl_de)**2\n",
    "df_junge_welt_tmp = (df_junge_welt.iloc[:,1:]-exp_junge_welt)**2\n",
    "df_ntv_de_tmp = (df_ntv_de.iloc[:,1:]-exp_ntv_de)**2\n",
    "df_jungle_world_tmp = (df_jungle_world.iloc[:,1:]-exp_jungle_world)**2\n",
    "df_frankfurter_allgemeine_de_tmp = (df_frankfurter_allgemeine_de.iloc[:,1:]-exp_frankfurter_allgemeine_de)**2\n",
    "df_mm_news_de_tmp = (df_mm_news_de.iloc[:,1:]-exp_mm_news_de)**2"
   ]
  },
  {
   "cell_type": "code",
   "execution_count": null,
   "id": "1429a7d1-7cef-4790-8aa4-441e2b59c402",
   "metadata": {},
   "outputs": [],
   "source": [
    "df_deutschlandfunk_de_tmp['result_gemma-2-9b_mean']"
   ]
  },
  {
   "cell_type": "code",
   "execution_count": null,
   "id": "e163bd13-42ed-4ca1-b092-b33aa93bb508",
   "metadata": {},
   "outputs": [],
   "source": [
    "df_combined_tmp = df_deutschlandfunk_de_tmp + \\\n",
    "df_focus_de_tmp + \\\n",
    "df_linksunten_tmp + \\\n",
    "df_taz_de_tmp + \\\n",
    "df_zeit_de_tmp + \\\n",
    "df_stern_de_tmp + \\\n",
    "df_tichyseinblick_de_tmp + \\\n",
    "df_cicero_de_tmp + \\\n",
    "df_spiegel_de_tmp + \\\n",
    "df_vice_de_tmp + \\\n",
    "df_tagesschau_de_tmp + \\\n",
    "df_sueddeutsche_de_tmp + \\\n",
    "df_welt_de_tmp + \\\n",
    "df_mdr_de_tmp + \\\n",
    "df_der_freitag_de_tmp + \\\n",
    "df_frankfurter_rundschau_de_tmp + \\\n",
    "df_bild_de_tmp + \\\n",
    "df_russia_today_de_tmp + \\\n",
    "df_tagesspiegel_de_tmp + \\\n",
    "df_br_de_tmp + \\\n",
    "df_achgut_de_tmp + \\\n",
    "df_wdr_de_tmp + \\\n",
    "df_neues_deutschland_de_tmp + \\\n",
    "df_compact_de_tmp + \\\n",
    "df_ndr_de_tmp + \\\n",
    "df_nachdenkseiten_de_tmp + \\\n",
    "df_junge_freiheit_de_tmp + \\\n",
    "df_rtl_de_tmp + \\\n",
    "df_junge_welt_tmp + \\\n",
    "df_ntv_de_tmp + \\\n",
    "df_jungle_world_tmp + \\\n",
    "df_frankfurter_allgemeine_de_tmp + \\\n",
    "df_mm_news_de_tmp "
   ]
  },
  {
   "cell_type": "code",
   "execution_count": null,
   "id": "42089dfa-fd06-44e9-980d-f4ab7f43e3fa",
   "metadata": {},
   "outputs": [],
   "source": [
    "df_combined_tmp['result_gemma-2-9b_mean']"
   ]
  },
  {
   "cell_type": "code",
   "execution_count": null,
   "id": "7f578309-750c-404c-9b5a-55d7a1b4a254",
   "metadata": {},
   "outputs": [],
   "source": [
    "df_deutschlandfunk_de_tmp['result_gemma-2-9b_mean']"
   ]
  },
  {
   "cell_type": "code",
   "execution_count": null,
   "id": "d53473f6-4961-4afa-aa9a-e852a20a67ee",
   "metadata": {},
   "outputs": [],
   "source": [
    "df_focus_de_tmp['result_gemma-2-9b_mean']"
   ]
  },
  {
   "cell_type": "code",
   "execution_count": null,
   "id": "554b1d5f-632b-4fc7-aea0-81b7c816a1df",
   "metadata": {},
   "outputs": [],
   "source": [
    "df_linksunten_tmp['result_gemma-2-9b_mean']"
   ]
  },
  {
   "cell_type": "code",
   "execution_count": null,
   "id": "f393b3dd-797f-47b5-a293-db1eeb694fe9",
   "metadata": {},
   "outputs": [],
   "source": [
    "df_taz_de_tmp['result_gemma-2-9b_mean']"
   ]
  },
  {
   "cell_type": "code",
   "execution_count": null,
   "id": "cf2551d2-bfd3-4fa0-bd41-b15599edae89",
   "metadata": {},
   "outputs": [],
   "source": [
    "df_zeit_de_tmp['result_gemma-2-9b_mean']"
   ]
  },
  {
   "cell_type": "code",
   "execution_count": null,
   "id": "f2e807be-7edc-4361-8135-f277900127ac",
   "metadata": {},
   "outputs": [],
   "source": [
    "df_stern_de_tmp['result_gemma-2-9b_mean']"
   ]
  },
  {
   "cell_type": "code",
   "execution_count": null,
   "id": "bdbf6589-6118-4ade-ac68-4afdb53d9333",
   "metadata": {},
   "outputs": [],
   "source": [
    "df_tichyseinblick_de_tmp['result_gemma-2-9b_mean']"
   ]
  },
  {
   "cell_type": "code",
   "execution_count": null,
   "id": "d1c0ae52-2410-4dd2-9494-8d5ac4bd0f81",
   "metadata": {},
   "outputs": [],
   "source": [
    "df_cicero_de_tmp['result_gemma-2-9b_mean']"
   ]
  },
  {
   "cell_type": "code",
   "execution_count": null,
   "id": "620c5a05-1b1f-4049-90d6-fd0b8021cde1",
   "metadata": {},
   "outputs": [],
   "source": [
    "#df_spiegel_de_tmp['result_gemma-2-9b_mean']"
   ]
  },
  {
   "cell_type": "code",
   "execution_count": null,
   "id": "adbf0d01-a669-4fd4-9eba-15ed58c19a1e",
   "metadata": {},
   "outputs": [],
   "source": [
    "df_spiegel_de_tmp.keys()"
   ]
  },
  {
   "cell_type": "code",
   "execution_count": null,
   "id": "dcc43961-7fe0-4ff7-ab13-c6a0edc37910",
   "metadata": {},
   "outputs": [],
   "source": []
  },
  {
   "cell_type": "code",
   "execution_count": null,
   "id": "9cb4f6c7-0625-4dbc-b6cc-43cc3f828e77",
   "metadata": {},
   "outputs": [],
   "source": [
    "df_combined_tmp = df_combined_tmp/33"
   ]
  },
  {
   "cell_type": "code",
   "execution_count": null,
   "id": "71698a3b-b3c1-41ca-bdd5-6e83f23fdac8",
   "metadata": {},
   "outputs": [],
   "source": [
    "df_combined_tmp_T = df_combined_tmp.T"
   ]
  },
  {
   "cell_type": "code",
   "execution_count": null,
   "id": "a95c1c73-b0ef-4dd7-8e00-5737a31980d6",
   "metadata": {},
   "outputs": [],
   "source": [
    "df_combined_tmp_T = df_combined_tmp_T.sort_values(by=[0], ascending=True)"
   ]
  },
  {
   "cell_type": "code",
   "execution_count": null,
   "id": "89878449-95fb-4330-ba0a-2f8f9312918b",
   "metadata": {},
   "outputs": [],
   "source": [
    "df_combined_tmp_T = df_combined_tmp_T.reset_index().rename(columns={0: \"MSE\", \"index\": \"classifier\"})"
   ]
  },
  {
   "cell_type": "code",
   "execution_count": null,
   "id": "e3fbf48f-ad26-4ca0-a3d1-9f947b8e819c",
   "metadata": {},
   "outputs": [],
   "source": [
    "df_combined_tmp_T['classifier'] = [x.replace(\"result_\", \"\") for x in df_combined_tmp_T['classifier']]"
   ]
  },
  {
   "cell_type": "code",
   "execution_count": null,
   "id": "fb595c29-82db-4754-b58f-ad9233780cc0",
   "metadata": {},
   "outputs": [],
   "source": []
  },
  {
   "cell_type": "code",
   "execution_count": null,
   "id": "befb1b42-6a50-46f5-ae78-9b6fbaa6f08d",
   "metadata": {},
   "outputs": [],
   "source": [
    "df_combined_tmp_T.to_json(\"result.json\")"
   ]
  },
  {
   "cell_type": "code",
   "execution_count": null,
   "id": "8f328237-a563-4e49-bfb1-c4f16b129b4a",
   "metadata": {},
   "outputs": [],
   "source": [
    "#df_combined_tmp_T = df_combined_tmp_T.rename(columns={0: \"MSE\"})\n",
    "#df_combined_tmp_T.index.rename(\"classifier\", inplace=True)"
   ]
  },
  {
   "cell_type": "code",
   "execution_count": null,
   "id": "0b9d9698-3737-4fe8-a925-1a5690cb1a83",
   "metadata": {},
   "outputs": [],
   "source": [
    "#df_combined_tmp_T.to_json(\"result.json\")"
   ]
  },
  {
   "cell_type": "code",
   "execution_count": null,
   "id": "54986fbf-9681-4ce3-817d-9d243c4f6e33",
   "metadata": {},
   "outputs": [],
   "source": [
    "pd.read_json(\"result.json\").head(20)"
   ]
  },
  {
   "cell_type": "code",
   "execution_count": null,
   "id": "3cc5f7b7-70cd-4e05-9293-04976cce13f2",
   "metadata": {},
   "outputs": [],
   "source": [
    "df_combined_tmp_T.to_excel(\"result.xlsx\")"
   ]
  },
  {
   "cell_type": "code",
   "execution_count": null,
   "id": "f7c2f28a-22bd-416e-b5ca-bc38f7a410b8",
   "metadata": {},
   "outputs": [],
   "source": [
    "df_combined_tmp_T"
   ]
  },
  {
   "cell_type": "code",
   "execution_count": null,
   "id": "ceff5ac5-f1c4-406e-935f-668092cb901d",
   "metadata": {},
   "outputs": [],
   "source": []
  },
  {
   "cell_type": "code",
   "execution_count": null,
   "id": "4f395a93-0425-46d8-b2c5-dceb9b077a1a",
   "metadata": {},
   "outputs": [],
   "source": []
  }
 ],
 "metadata": {
  "kernelspec": {
   "display_name": "Python 3 (ipykernel)",
   "language": "python",
   "name": "python3"
  },
  "language_info": {
   "codemirror_mode": {
    "name": "ipython",
    "version": 3
   },
   "file_extension": ".py",
   "mimetype": "text/x-python",
   "name": "python",
   "nbconvert_exporter": "python",
   "pygments_lexer": "ipython3",
   "version": "3.12.3"
  }
 },
 "nbformat": 4,
 "nbformat_minor": 5
}
