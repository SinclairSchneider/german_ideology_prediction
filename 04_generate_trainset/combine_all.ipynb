{
 "cells": [
  {
   "cell_type": "code",
   "execution_count": null,
   "id": "0d7c8202-4c27-440f-8432-a1502d442207",
   "metadata": {},
   "outputs": [],
   "source": [
    "import pandas as pd"
   ]
  },
  {
   "cell_type": "code",
   "execution_count": null,
   "id": "80b3b2e0-93a4-4647-ba27-47b454a4f51f",
   "metadata": {},
   "outputs": [],
   "source": [
    "df_bundestag = pd.read_json(\"trainset_bundestag.json\")"
   ]
  },
  {
   "cell_type": "code",
   "execution_count": null,
   "id": "9f22c75e-53ca-4e55-bed2-e9530a25e504",
   "metadata": {},
   "outputs": [],
   "source": [
    "df_bundestag = df_bundestag[\n",
    "(df_bundestag['senti_AfD'] > 0) | \n",
    "(df_bundestag['senti_BUENDNIS_90_DIE_GRUENEN'] > 0) | \n",
    "(df_bundestag['senti_CDU_CSU'] > 0) |\n",
    "(df_bundestag['senti_DIE_LINKE'] > 0) |\n",
    "(df_bundestag['senti_FDP'] > 0) |\n",
    "(df_bundestag['senti_SPD'] > 0)]"
   ]
  },
  {
   "cell_type": "code",
   "execution_count": null,
   "id": "dad96937-19a6-4d8f-a809-86cbd635fcbf",
   "metadata": {},
   "outputs": [],
   "source": [
    "df_bundestag = df_bundestag.drop_duplicates(subset=['text']).reset_index(drop=True)"
   ]
  },
  {
   "cell_type": "code",
   "execution_count": null,
   "id": "83b59615-8dbf-41fe-b00e-967c6663d809",
   "metadata": {},
   "outputs": [],
   "source": [
    "df_bundestag"
   ]
  },
  {
   "cell_type": "code",
   "execution_count": null,
   "id": "c7eff29d-9e2c-4d60-94b6-3db6b07ed752",
   "metadata": {},
   "outputs": [],
   "source": [
    "df_wahlomat = pd.read_json(\"trainset_wahlomat.json\")"
   ]
  },
  {
   "cell_type": "code",
   "execution_count": null,
   "id": "443ca88d-5984-4814-bfbf-d31fe6318609",
   "metadata": {},
   "outputs": [],
   "source": [
    "df_wahlomat = df_wahlomat.drop(['id_statement'], axis=1)"
   ]
  },
  {
   "cell_type": "code",
   "execution_count": null,
   "id": "d79de165-643c-452a-97ff-6398f8a1106c",
   "metadata": {},
   "outputs": [],
   "source": [
    "df_wahlomat = df_wahlomat[\n",
    "(df_wahlomat['senti_AfD'] > 0) | \n",
    "(df_wahlomat['senti_BUENDNIS_90_DIE_GRUENEN'] > 0) | \n",
    "(df_wahlomat['senti_CDU_CSU'] > 0) |\n",
    "(df_wahlomat['senti_DIE_LINKE'] > 0) |\n",
    "(df_wahlomat['senti_FDP'] > 0) |\n",
    "(df_wahlomat['senti_SPD'] > 0)]"
   ]
  },
  {
   "cell_type": "code",
   "execution_count": null,
   "id": "1f94ec78-2d78-48e1-8618-d7e29d202831",
   "metadata": {},
   "outputs": [],
   "source": [
    "df_wahlomat = df_wahlomat.drop_duplicates(subset=['text']).reset_index(drop=True)"
   ]
  },
  {
   "cell_type": "code",
   "execution_count": null,
   "id": "5dfa6b6c-9e08-47a1-8608-ee2e4a7afcf0",
   "metadata": {},
   "outputs": [],
   "source": [
    "df_wahlomat"
   ]
  },
  {
   "cell_type": "code",
   "execution_count": null,
   "id": "7cdc7882-1eb1-4a4c-8897-0e9d792a403c",
   "metadata": {},
   "outputs": [],
   "source": [
    "df_wahlprogramme = pd.read_json(\"trainset_wahlprogramme.json\")"
   ]
  },
  {
   "cell_type": "code",
   "execution_count": null,
   "id": "680a63a7-5c0a-4097-a5e5-6b0d1368050c",
   "metadata": {},
   "outputs": [],
   "source": [
    "df_wahlprogramme = df_wahlprogramme.drop_duplicates(subset=['text']).reset_index(drop=True)"
   ]
  },
  {
   "cell_type": "code",
   "execution_count": null,
   "id": "46ba4b09-bbc0-407e-9afb-f17023c8687f",
   "metadata": {},
   "outputs": [],
   "source": [
    "df_wahlprogramme"
   ]
  },
  {
   "cell_type": "code",
   "execution_count": null,
   "id": "ac099686-4dc3-48b8-bd95-16b7af759497",
   "metadata": {},
   "outputs": [],
   "source": [
    "df_combined = pd.concat([df_bundestag, df_wahlomat, df_wahlprogramme])"
   ]
  },
  {
   "cell_type": "code",
   "execution_count": null,
   "id": "8ac7f73b-e3cf-466f-b070-9327572bf3f9",
   "metadata": {},
   "outputs": [],
   "source": [
    "df_combined = df_combined.reset_index(drop=True)"
   ]
  },
  {
   "cell_type": "code",
   "execution_count": null,
   "id": "1ce881fc-806e-4b96-b852-3607f05313d0",
   "metadata": {},
   "outputs": [],
   "source": [
    "df_combined = df_combined.drop_duplicates(subset=['text']).reset_index(drop=True)"
   ]
  },
  {
   "cell_type": "code",
   "execution_count": null,
   "id": "ba366f53-8d3c-4431-9c49-5847a49c98f7",
   "metadata": {},
   "outputs": [],
   "source": [
    "df_combined"
   ]
  },
  {
   "cell_type": "code",
   "execution_count": null,
   "id": "9f454a79-769d-4e49-a773-a7a7f610325c",
   "metadata": {},
   "outputs": [],
   "source": [
    "df_combined.to_json(\"trainset_combined.json\")"
   ]
  },
  {
   "cell_type": "code",
   "execution_count": null,
   "id": "27887f08-6261-446d-8a27-15a151823e76",
   "metadata": {},
   "outputs": [],
   "source": []
  }
 ],
 "metadata": {
  "kernelspec": {
   "display_name": "Python 3 (ipykernel)",
   "language": "python",
   "name": "python3"
  },
  "language_info": {
   "codemirror_mode": {
    "name": "ipython",
    "version": 3
   },
   "file_extension": ".py",
   "mimetype": "text/x-python",
   "name": "python",
   "nbconvert_exporter": "python",
   "pygments_lexer": "ipython3",
   "version": "3.12.3"
  }
 },
 "nbformat": 4,
 "nbformat_minor": 5
}
