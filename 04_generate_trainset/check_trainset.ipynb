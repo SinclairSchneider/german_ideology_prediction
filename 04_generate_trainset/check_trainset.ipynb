{
 "cells": [
  {
   "cell_type": "code",
   "execution_count": null,
   "id": "c41accff-4553-43f1-8ed2-6c7f88cb0bc3",
   "metadata": {},
   "outputs": [],
   "source": [
    "import pandas as pd"
   ]
  },
  {
   "cell_type": "code",
   "execution_count": null,
   "id": "76f66ef4-096d-4b58-ba48-92e9536b33b5",
   "metadata": {},
   "outputs": [],
   "source": [
    "df = pd.read_json(\"trainset_combined.json\")"
   ]
  },
  {
   "cell_type": "code",
   "execution_count": null,
   "id": "19abb8ac-1893-4e79-9a79-1671cc969f03",
   "metadata": {},
   "outputs": [],
   "source": [
    "df.head(10)['text'][2]"
   ]
  },
  {
   "cell_type": "code",
   "execution_count": null,
   "id": "56bc8003-b5b7-4287-a603-76ed760555c2",
   "metadata": {},
   "outputs": [],
   "source": [
    "len(list(df[df['senti_AfD']==1]['text']))"
   ]
  },
  {
   "cell_type": "code",
   "execution_count": null,
   "id": "3db79362-e0bd-4724-a25d-b0a74d9ffa7f",
   "metadata": {},
   "outputs": [],
   "source": []
  }
 ],
 "metadata": {
  "kernelspec": {
   "display_name": "Python 3 (ipykernel)",
   "language": "python",
   "name": "python3"
  },
  "language_info": {
   "codemirror_mode": {
    "name": "ipython",
    "version": 3
   },
   "file_extension": ".py",
   "mimetype": "text/x-python",
   "name": "python",
   "nbconvert_exporter": "python",
   "pygments_lexer": "ipython3",
   "version": "3.12.3"
  }
 },
 "nbformat": 4,
 "nbformat_minor": 5
}
