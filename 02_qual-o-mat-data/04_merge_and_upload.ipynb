{
 "cells": [
  {
   "cell_type": "code",
   "execution_count": null,
   "id": "02fbc916-e566-4c14-a0e4-c25c9ba6ceac",
   "metadata": {},
   "outputs": [],
   "source": [
    "import pandas as pd\n",
    "from datasets import Dataset"
   ]
  },
  {
   "cell_type": "code",
   "execution_count": null,
   "id": "e2496ddc-54b1-42ad-a654-be78f4594d24",
   "metadata": {},
   "outputs": [],
   "source": [
    "df_original = pd.read_json(\"wahlomat.json\")"
   ]
  },
  {
   "cell_type": "code",
   "execution_count": null,
   "id": "bfb65ec9-1435-4e51-a879-74e02d01f796",
   "metadata": {},
   "outputs": [],
   "source": [
    "df_original"
   ]
  },
  {
   "cell_type": "code",
   "execution_count": null,
   "id": "d6632839-07a5-4ae4-9d85-f046e924acb4",
   "metadata": {},
   "outputs": [],
   "source": [
    "df_paraphrased = pd.read_json(\"wahlomat_paraphrased_raw.json\")"
   ]
  },
  {
   "cell_type": "code",
   "execution_count": null,
   "id": "77bfded1-9858-4253-a8af-207b2dde4050",
   "metadata": {},
   "outputs": [],
   "source": [
    "df_paraphrased"
   ]
  },
  {
   "cell_type": "code",
   "execution_count": null,
   "id": "634ce862-4c3b-4799-a2a0-7f0fd72a5345",
   "metadata": {},
   "outputs": [],
   "source": [
    "df_paraphrased_tweet = pd.read_json(\"wahlomat_paraphrased_raw_tweets.json\")"
   ]
  },
  {
   "cell_type": "code",
   "execution_count": null,
   "id": "87c61b58-58f3-4917-b410-dbf6197c8f44",
   "metadata": {},
   "outputs": [],
   "source": [
    "df_paraphrased_tweet"
   ]
  },
  {
   "cell_type": "code",
   "execution_count": null,
   "id": "f1922519-5ffc-4022-8945-12916ba8e741",
   "metadata": {},
   "outputs": [],
   "source": [
    "#df_original = df_original.set_index('id_statement')"
   ]
  },
  {
   "cell_type": "code",
   "execution_count": null,
   "id": "5fc4cd53-86be-418a-83d9-a69f29f754d8",
   "metadata": {},
   "outputs": [],
   "source": [
    "#df_paraphrased = df_paraphrased.set_index('id_statement')"
   ]
  },
  {
   "cell_type": "code",
   "execution_count": null,
   "id": "3fbae4b9-78a5-443b-80b4-f33ca96c0e58",
   "metadata": {},
   "outputs": [],
   "source": [
    "df_original['id_statement']=df_original['id_statement'].astype(\"string\")\n",
    "df_paraphrased['id_statement']=df_paraphrased['id_statement'].astype(\"string\")\n",
    "df_paraphrased_tweet['id_statement']=df_paraphrased_tweet['id_statement'].astype(\"string\")\n",
    "df_original['text_statement']=df_original['text_statement'].astype(\"string\")\n",
    "df_paraphrased['text_statement']=df_paraphrased['text_statement'].astype(\"string\")\n",
    "df_paraphrased_tweet['text_statement']=df_paraphrased_tweet['text_statement'].astype(\"string\")"
   ]
  },
  {
   "cell_type": "code",
   "execution_count": null,
   "id": "59cc0bf9-fa21-430b-bd4a-b1ad247a26cd",
   "metadata": {},
   "outputs": [],
   "source": [
    "df_merged = pd.merge(df_original, df_paraphrased, on=['id_statement','text_statement'])"
   ]
  },
  {
   "cell_type": "code",
   "execution_count": null,
   "id": "171d7617-8314-4218-9993-1469984b004f",
   "metadata": {},
   "outputs": [],
   "source": [
    "df_merged = pd.merge(df_merged, df_paraphrased_tweet, on=['id_statement','text_statement'])"
   ]
  },
  {
   "cell_type": "code",
   "execution_count": null,
   "id": "48aee594-b0cd-4bf8-9cdc-78ddcab4b69f",
   "metadata": {},
   "outputs": [],
   "source": [
    "#df_merged"
   ]
  },
  {
   "cell_type": "code",
   "execution_count": null,
   "id": "d3014fee-6628-460f-b178-695ef8920e43",
   "metadata": {},
   "outputs": [],
   "source": [
    "df_merged.to_json(\"wahlomat_paraphrased.json\")"
   ]
  },
  {
   "cell_type": "code",
   "execution_count": null,
   "id": "b577dba0-fc71-482c-976e-82a3d9132aae",
   "metadata": {},
   "outputs": [],
   "source": [
    "df_merged = pd.read_json(\"wahlomat_paraphrased.json\")"
   ]
  },
  {
   "cell_type": "code",
   "execution_count": null,
   "id": "6502c12e-a690-48a8-8768-e9c9a18f7efc",
   "metadata": {},
   "outputs": [],
   "source": [
    "ds = Dataset.from_pandas(df_merged)"
   ]
  },
  {
   "cell_type": "code",
   "execution_count": null,
   "id": "92d9806e-2985-489a-a207-1d6ca034255e",
   "metadata": {},
   "outputs": [],
   "source": [
    "ds.push_to_hub(\"SinclairSchneider/Wahlomat_paraphrased\")"
   ]
  },
  {
   "cell_type": "code",
   "execution_count": null,
   "id": "2b3dd9cf-5c6c-4efc-aecb-63fb3ad80569",
   "metadata": {},
   "outputs": [],
   "source": [
    "ds.push_to_hub(\"NLP-UniBW/Wahlomat_paraphrased\")"
   ]
  },
  {
   "cell_type": "code",
   "execution_count": null,
   "id": "fe4c27f5-a6ef-40a9-9def-83acbdf44ff1",
   "metadata": {},
   "outputs": [],
   "source": []
  }
 ],
 "metadata": {
  "kernelspec": {
   "display_name": "Python 3 (ipykernel)",
   "language": "python",
   "name": "python3"
  },
  "language_info": {
   "codemirror_mode": {
    "name": "ipython",
    "version": 3
   },
   "file_extension": ".py",
   "mimetype": "text/x-python",
   "name": "python",
   "nbconvert_exporter": "python",
   "pygments_lexer": "ipython3",
   "version": "3.12.3"
  }
 },
 "nbformat": 4,
 "nbformat_minor": 5
}
