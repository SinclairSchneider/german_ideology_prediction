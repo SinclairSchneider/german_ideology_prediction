{
 "cells": [
  {
   "cell_type": "code",
   "execution_count": null,
   "id": "40df47a6-557d-45cf-8b62-9e55020002e9",
   "metadata": {},
   "outputs": [],
   "source": [
    "import pandas as pd\n",
    "import re\n",
    "from tqdm import tqdm\n",
    "import ollama"
   ]
  },
  {
   "cell_type": "code",
   "execution_count": null,
   "id": "724e5eca-f8ba-4c67-abe0-363d4fb1a2bb",
   "metadata": {},
   "outputs": [],
   "source": [
    "df = pd.read_json(\"wahlomat.json\")"
   ]
  },
  {
   "cell_type": "code",
   "execution_count": null,
   "id": "60ab68ca-9589-4298-91ad-faec89c1cc2a",
   "metadata": {},
   "outputs": [],
   "source": [
    "id_statement = df['id_statement']\n",
    "text_statement = df['text_statement']"
   ]
  },
  {
   "cell_type": "code",
   "execution_count": null,
   "id": "7e93dcec-19cc-4aa4-8452-0a15833d7f63",
   "metadata": {},
   "outputs": [],
   "source": [
    "df_ref = pd.DataFrame({\n",
    "    'id_statement':id_statement,\n",
    "    'text_statement':text_statement,\n",
    "})"
   ]
  },
  {
   "cell_type": "code",
   "execution_count": null,
   "id": "1923dfb6-fb47-42a4-ae30-c5bb4c9a372c",
   "metadata": {},
   "outputs": [],
   "source": [
    "df_ref = df_ref.drop_duplicates(ignore_index=True)"
   ]
  },
  {
   "cell_type": "code",
   "execution_count": null,
   "id": "5cc459d3-09f9-46f3-8651-6985169c9ee8",
   "metadata": {},
   "outputs": [],
   "source": [
    "len(df_ref)"
   ]
  },
  {
   "cell_type": "code",
   "execution_count": null,
   "id": "6e008c5c-6ca2-4638-b43a-7b14d350ba42",
   "metadata": {},
   "outputs": [],
   "source": [
    "id_statement = df_ref['id_statement']\n",
    "text_statement = df_ref['text_statement']"
   ]
  },
  {
   "cell_type": "code",
   "execution_count": null,
   "id": "f24c4c06-25f4-437e-ac19-a37b47ae9619",
   "metadata": {},
   "outputs": [],
   "source": [
    "#df_ref['text_statement'][0]"
   ]
  },
  {
   "cell_type": "code",
   "execution_count": null,
   "id": "b32962be-1026-4398-be25-3829a739b709",
   "metadata": {},
   "outputs": [],
   "source": [
    "def get_paraphrases(sentence):\n",
    "    prompt_kind = \"Schreibe folgenden Satz so um, dass ein Kind ihn verstehen kann. Schreibe die Sätze so, als würden sie in der Zeitung stehen, ohne Überschrift. Erzeuge 10 Versionen mit jeweils 1 bis 5 Sätzen. Schreibe statt **Version 1** 1., statt **Version 2** 2. etc: \"+sentence\n",
    "    prompt_jugendlicher = \"Schreibe folgenden Satz so um, dass ein Jugendlicher ihn verstehen kann. Schreibe die Sätze so, als würden sie in der Zeitung stehen, ohne Überschrift. Erzeuge 10 Versionen mit jeweils 1 bis 5 Sätzen. Schreibe statt **Version 1** 1., statt **Version 2** 2. etc: \"+sentence\n",
    "    prompt_erwachsener = \"Schreibe folgenden Satz so um, dass ein Erwachsener ihn verstehen kann. Schreibe die Sätze so, als würden sie in der Zeitung stehen, ohne Überschrift. Erzeuge 10 Versionen mit jeweils 1 bis 5 Sätzen. Schreibe statt **Version 1** 1., statt **Version 2** 2. etc: \"+sentence\n",
    "    prompt_eloquenter_mensch = \"Schreibe folgenden Satz so um, dass ein sehr eloquenter Mensch, der sich durch eine gehobene Wortwahl abzugrenzen versucht, ihn verstehen kann. Schreibe die Sätze so, als würden sie in der Zeitung stehen, ohne Überschrift. Erzeuge 10 Versionen mit jeweils 1 bis 5 Sätzen. Schreibe statt **Version 1** 1., statt **Version 2** 2. etc: \"+sentence\n",
    "    \n",
    "    output_kind = ollama.chat(model='llama3.1:405b-instruct-q3_K_S', messages=[{'role': 'user', 'content': prompt_kind,},])\n",
    "    output_jugendlicher = ollama.chat(model='llama3.1:405b-instruct-q3_K_S', messages=[{'role': 'user', 'content': prompt_jugendlicher,},])\n",
    "    output_erwachsener = ollama.chat(model='llama3.1:405b-instruct-q3_K_S', messages=[{'role': 'user', 'content': prompt_erwachsener,},])\n",
    "    output_eloquenter_mensch = ollama.chat(model='llama3.1:405b-instruct-q3_K_S', messages=[{'role': 'user', 'content': prompt_eloquenter_mensch,},])\n",
    "\n",
    "    response_kind = output_kind['message']['content']\n",
    "    response_jugendlicher = output_jugendlicher['message']['content']\n",
    "    response_erwachsener = output_erwachsener['message']['content']\n",
    "    response_eloquenter_mensch = output_eloquenter_mensch['message']['content']\n",
    "\n",
    "    sentences_kind = [re.sub(\"[0-9]+. \", \"\", x) for x in response_kind.split(\"\\n\\n\") if re.search(\"^[0-9]+. \", x)]\n",
    "    sentences_jugendlicher = [re.sub(\"[0-9]+. \", \"\", x) for x in response_jugendlicher.split(\"\\n\\n\") if re.search(\"^[0-9]+. \", x)]\n",
    "    sentences_erwachsener = [re.sub(\"[0-9]+. \", \"\", x) for x in response_erwachsener.split(\"\\n\\n\") if re.search(\"^[0-9]+. \", x)]\n",
    "    sentences_eloquenter_mensch = [re.sub(\"[0-9]+. \", \"\", x) for x in response_eloquenter_mensch.split(\"\\n\\n\") if re.search(\"^[0-9]+. \", x)]\n",
    "    \n",
    "    return sentences_kind, sentences_jugendlicher, sentences_erwachsener, sentences_eloquenter_mensch\n",
    "    #return sentences_jugendlicher, sentences_erwachsener, sentences_eloquenter_mensch"
   ]
  },
  {
   "cell_type": "code",
   "execution_count": null,
   "id": "0e719cec-bd81-4279-bbc6-22c02f8cf431",
   "metadata": {},
   "outputs": [],
   "source": [
    "sentence = \"Haschisch und Marihuana sollen legalisiert werden.\"\n",
    "#sentences_kind, sentences_jugendlicher, sentences_erwachsener, sentences_eloquenter_mensch = get_paraphrases(sentence)\n",
    "sentences_jugendlicher, sentences_erwachsener, sentences_eloquenter_mensch = get_paraphrases(sentence)"
   ]
  },
  {
   "cell_type": "code",
   "execution_count": null,
   "id": "fb335da3-3b9b-4187-bd01-5ef9d1818fb5",
   "metadata": {},
   "outputs": [],
   "source": [
    "l_id_statement = []\n",
    "l_text_statement = []\n",
    "l_sentences_kind = []\n",
    "l_sentences_jugendlicher = []\n",
    "l_sentences_erwachsener = []\n",
    "l_sentences_eloquenter_mensch = []\n",
    "input_ = [[x,y] for x,y in zip(id_statement, text_statement)]\n",
    "#for id, text in tqdm(zip(id_statement, text_statement)):\n",
    "for id, text in tqdm(input_):\n",
    "    l_id_statement.append(id)\n",
    "    l_text_statement.append(text)\n",
    "    #sentences_jugendlicher, sentences_erwachsener, sentences_eloquenter_mensch = get_paraphrases(text)\n",
    "    sentences_kind, sentences_jugendlicher, sentences_erwachsener, sentences_eloquenter_mensch = get_paraphrases(text)\n",
    "    l_sentences_kind.append(sentences_kind)\n",
    "    l_sentences_jugendlicher.append(sentences_jugendlicher)\n",
    "    l_sentences_erwachsener.append(sentences_erwachsener)\n",
    "    l_sentences_eloquenter_mensch.append(sentences_eloquenter_mensch)\n",
    "\n",
    "    df_out = pd.DataFrame({\n",
    "        'id_statement': l_id_statement,\n",
    "        'text_statement': l_text_statement,\n",
    "        'sentences_kind': l_sentences_kind,\n",
    "        'sentences_jugendlicher': l_sentences_jugendlicher,\n",
    "        'sentences_erwachsener': l_sentences_erwachsener,\n",
    "        'sentences_eloquenter_mensch': l_sentences_eloquenter_mensch,\n",
    "    })\n",
    "    #df_out.to_json(\"wahlomat_paraphrased_raw.json\")"
   ]
  },
  {
   "cell_type": "code",
   "execution_count": null,
   "id": "5618fb63-8558-4e42-ac44-dcbb67817bdc",
   "metadata": {},
   "outputs": [],
   "source": []
  },
  {
   "cell_type": "code",
   "execution_count": null,
   "id": "c8d52521-fb43-4793-bfd9-9332748fdc26",
   "metadata": {},
   "outputs": [],
   "source": []
  }
 ],
 "metadata": {
  "kernelspec": {
   "display_name": "Python 3 (ipykernel)",
   "language": "python",
   "name": "python3"
  },
  "language_info": {
   "codemirror_mode": {
    "name": "ipython",
    "version": 3
   },
   "file_extension": ".py",
   "mimetype": "text/x-python",
   "name": "python",
   "nbconvert_exporter": "python",
   "pygments_lexer": "ipython3",
   "version": "3.12.3"
  }
 },
 "nbformat": 4,
 "nbformat_minor": 5
}
