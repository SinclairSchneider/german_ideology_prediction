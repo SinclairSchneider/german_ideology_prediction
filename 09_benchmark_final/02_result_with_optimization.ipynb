{
 "cells": [
  {
   "cell_type": "code",
   "execution_count": 3,
   "id": "4e4f0a57-f127-469a-9f87-daeabb0a28cb",
   "metadata": {},
   "outputs": [],
   "source": [
    "from datasets import load_dataset\n",
    "from glob import glob\n",
    "from tqdm import tqdm\n",
    "import numpy as np\n",
    "import math\n",
    "from fractions import Fraction\n",
    "import json\n",
    "import pandas as pd"
   ]
  },
  {
   "cell_type": "code",
   "execution_count": 4,
   "id": "00dfaf4f-313a-4647-904e-7988174dea2c",
   "metadata": {},
   "outputs": [],
   "source": [
    "def get_vectors(angles):\n",
    "    return np.column_stack((np.sin(angles*(np.pi/2)),np.cos(angles*(np.pi/2))))"
   ]
  },
  {
   "cell_type": "code",
   "execution_count": 5,
   "id": "421edbe9-f454-4a51-9288-78917edd5492",
   "metadata": {},
   "outputs": [],
   "source": [
    "def get_angles(vectors):\n",
    "    return np.array([math.atan2(*x) / (np.pi / 2)  for x in vectors])"
   ]
  },
  {
   "cell_type": "code",
   "execution_count": 6,
   "id": "ffd46d32-2854-4194-88b8-4f591c46d59e",
   "metadata": {},
   "outputs": [],
   "source": [
    "def convertMedienlandschaft(x):\n",
    "    return float(-Fraction(4/3)+Fraction(1/3)*x)"
   ]
  },
  {
   "cell_type": "code",
   "execution_count": 7,
   "id": "8b8d803b-4be5-4b24-9e64-e730dd29cb43",
   "metadata": {},
   "outputs": [],
   "source": [
    "v_linke = [-1.0, 0.0]\n",
    "v_gruene = [-0.9077674463309972, 0.4194737934385177]\n",
    "v_spd = [-0.8074405688999996, 0.5899489195637577]\n",
    "v_fdp = [0.0, 1.0]\n",
    "v_cdu = [0.614758038308033, 0.788715762702673]\n",
    "v_afd = [1.0, 0.0]"
   ]
  },
  {
   "cell_type": "code",
   "execution_count": 8,
   "id": "30bb8f81-6531-41d0-8c3b-ba6981cc4f3c",
   "metadata": {},
   "outputs": [],
   "source": [
    "a_linke = math.atan2(*v_linke) / (np.pi / 2)\n",
    "a_gruene = math.atan2(*v_gruene) / (np.pi / 2)\n",
    "a_spd = math.atan2(*v_spd) / (np.pi / 2)\n",
    "a_fdp = math.atan2(*v_fdp) / (np.pi / 2)\n",
    "a_cdu = math.atan2(*v_cdu) / (np.pi / 2)\n",
    "a_afd = math.atan2(*v_afd) / (np.pi / 2)"
   ]
  },
  {
   "cell_type": "code",
   "execution_count": 9,
   "id": "2a63fd95-d505-4862-a52f-d3ddc1ce7a48",
   "metadata": {},
   "outputs": [],
   "source": [
    "initial_angles = np.array([a_linke, a_gruene, a_spd, a_fdp, a_cdu, a_afd])"
   ]
  },
  {
   "cell_type": "code",
   "execution_count": 10,
   "id": "30e390ee-0639-42c6-85b5-14682e25736f",
   "metadata": {},
   "outputs": [],
   "source": [
    "initial_vectors = np.array([v_linke, v_gruene, v_spd, v_fdp, v_cdu, v_afd])"
   ]
  },
  {
   "cell_type": "code",
   "execution_count": 11,
   "id": "4fdf6b5c-173e-4b4f-921d-4563bb095523",
   "metadata": {},
   "outputs": [],
   "source": [
    "files = glob(\"results/*.json\")"
   ]
  },
  {
   "cell_type": "code",
   "execution_count": 12,
   "id": "4810502b-4363-43aa-a61e-3863a034ca91",
   "metadata": {},
   "outputs": [],
   "source": [
    "d_angles = {}\n",
    "d_vectors = {}\n",
    "for file in files:\n",
    "    with open(file, \"r\") as f:\n",
    "        content = json.loads(f.read())\n",
    "        d_angles[content.get('classifier')] = np.array(list(content.get('optimized_angles').values()))\n",
    "        d_vectors[content.get('classifier')] = get_vectors(d_angles[content.get('classifier')])"
   ]
  },
  {
   "cell_type": "code",
   "execution_count": 13,
   "id": "3879009e-99ab-45f6-a14f-e6a8f82f77f9",
   "metadata": {},
   "outputs": [],
   "source": [
    "exp = {}\n",
    "exp['NLP-UniBW/deutschlandfunk_de_classified'] = convertMedienlandschaft(3.8)\n",
    "exp['NLP-UniBW/focus_de_classified'] = convertMedienlandschaft(4.9)\n",
    "exp['NLP-UniBW/linksunten_classified'] = convertMedienlandschaft(2.0)\n",
    "exp['NLP-UniBW/taz_de_classified'] = convertMedienlandschaft(2.8)\n",
    "exp['NLP-UniBW/zeit_de_classified'] = convertMedienlandschaft(3.6)\n",
    "exp['NLP-UniBW/stern_de_classified'] = convertMedienlandschaft(3.8)\n",
    "exp['NLP-UniBW/tichyseinblick_de_classified'] = convertMedienlandschaft(5.5)\n",
    "exp['NLP-UniBW/cicero_de_classified'] = convertMedienlandschaft(4.9)\n",
    "exp['NLP-UniBW/spiegel_de_classified'] = convertMedienlandschaft(3.5)\n",
    "exp['NLP-UniBW/vice_de_classified'] = convertMedienlandschaft(2.8)\n",
    "exp['NLP-UniBW/tagesschau_de_classified'] = convertMedienlandschaft(3.7)\n",
    "exp['NLP-UniBW/sueddeutsche_de_classified'] = convertMedienlandschaft(3.5)\n",
    "exp['NLP-UniBW/welt_de_classified'] = convertMedienlandschaft(4.8)\n",
    "exp['NLP-UniBW/mdr_de_classified'] = convertMedienlandschaft(4.1)\n",
    "exp['NLP-UniBW/der_freitag_de_classified'] = convertMedienlandschaft(2.7)\n",
    "exp['NLP-UniBW/frankfurter_rundschau_de_classified'] = convertMedienlandschaft(3.4)\n",
    "exp['NLP-UniBW/bild_de_classified'] = convertMedienlandschaft(5.2)\n",
    "exp['NLP-UniBW/russia_today_de_classified'] = convertMedienlandschaft(5.1)\n",
    "exp['NLP-UniBW/tagesspiegel_de_classified'] = convertMedienlandschaft(3.6)\n",
    "exp['NLP-UniBW/br_de_classified'] = convertMedienlandschaft(4.4)\n",
    "exp['NLP-UniBW/achgut_de_classified'] = convertMedienlandschaft(5.2)\n",
    "exp['NLP-UniBW/wdr_de_classified'] = convertMedienlandschaft(3.5)\n",
    "exp['NLP-UniBW/neues_deutschland_de_classified'] = convertMedienlandschaft(2.6)\n",
    "exp['NLP-UniBW/compact_de_classified'] = convertMedienlandschaft(6.0)\n",
    "exp['NLP-UniBW/ndr_de_classified'] = convertMedienlandschaft(3.7)\n",
    "exp['NLP-UniBW/nachdenkseiten_de_classified'] = convertMedienlandschaft(3.1)\n",
    "exp['NLP-UniBW/junge_freiheit_de_classified'] = convertMedienlandschaft(5.8)\n",
    "exp['NLP-UniBW/rtl_de_classified'] = convertMedienlandschaft(4.5)\n",
    "exp['NLP-UniBW/junge_welt_classified'] = convertMedienlandschaft(2.4)\n",
    "exp['NLP-UniBW/ntv_de_classified'] = convertMedienlandschaft(4.3)\n",
    "exp['NLP-UniBW/jungle_world_classified'] = convertMedienlandschaft(2.3)\n",
    "exp['NLP-UniBW/frankfurter_allgemeine_de_classified'] = convertMedienlandschaft(4.5)\n",
    "exp['NLP-UniBW/mm_news_de_classified'] = convertMedienlandschaft(5.1)"
   ]
  },
  {
   "cell_type": "code",
   "execution_count": 14,
   "id": "e05c72c8-f8f6-4fbd-a7ca-4a88c7559de5",
   "metadata": {},
   "outputs": [],
   "source": [
    "df = load_dataset(\"NLP-UniBW/deutschlandfunk_de_classified\", split=\"train\").to_pandas()\n",
    "l_ref = []\n",
    "l_classifier = []\n",
    "for x in list(df.keys()):\n",
    "    ref = x.replace(\"_\", \"-\").split(\"-\")[0]\n",
    "    if ref in l_ref:\n",
    "        l_classifier.append(\"_\".join(x.split(\"_\")[:-1]))\n",
    "    l_ref.append(ref)\n",
    "l_classifier = sorted(list(set(l_classifier)))\n",
    "l_parties = ['DIE LINKE', 'BÜNDNIS 90/DIE GRÜNEN', 'SPD', 'FDP', 'CDU/CSU', 'AfD']\n",
    "\n",
    "l_newspapers = [\n",
    "    'NLP-UniBW/deutschlandfunk_de_classified',\n",
    "    'NLP-UniBW/focus_de_classified',\n",
    "    'NLP-UniBW/linksunten_classified',\n",
    "    'NLP-UniBW/taz_de_classified',\n",
    "    'NLP-UniBW/zeit_de_classified',\n",
    "    'NLP-UniBW/stern_de_classified',\n",
    "    'NLP-UniBW/tichyseinblick_de_classified',\n",
    "    'NLP-UniBW/cicero_de_classified',\n",
    "    'NLP-UniBW/spiegel_de_classified',\n",
    "    'NLP-UniBW/vice_de_classified',\n",
    "    'NLP-UniBW/tagesschau_de_classified',\n",
    "    'NLP-UniBW/sueddeutsche_de_classified',\n",
    "    'NLP-UniBW/welt_de_classified',\n",
    "    'NLP-UniBW/mdr_de_classified',\n",
    "    'NLP-UniBW/der_freitag_de_classified',\n",
    "    'NLP-UniBW/frankfurter_rundschau_de_classified',\n",
    "    'NLP-UniBW/bild_de_classified',\n",
    "    'NLP-UniBW/russia_today_de_classified',\n",
    "    'NLP-UniBW/tagesspiegel_de_classified',\n",
    "    'NLP-UniBW/br_de_classified',\n",
    "    'NLP-UniBW/achgut_de_classified',\n",
    "    'NLP-UniBW/wdr_de_classified',\n",
    "    'NLP-UniBW/neues_deutschland_de_classified',\n",
    "    'NLP-UniBW/compact_de_classified',\n",
    "    'NLP-UniBW/ndr_de_classified',\n",
    "    'NLP-UniBW/nachdenkseiten_de_classified',\n",
    "    'NLP-UniBW/junge_freiheit_de_classified',\n",
    "    'NLP-UniBW/rtl_de_classified',\n",
    "    'NLP-UniBW/junge_welt_classified',\n",
    "    'NLP-UniBW/ntv_de_classified',\n",
    "    'NLP-UniBW/jungle_world_classified',\n",
    "    'NLP-UniBW/frankfurter_allgemeine_de_classified',\n",
    "    'NLP-UniBW/mm_news_de_classified',\n",
    "]"
   ]
  },
  {
   "cell_type": "code",
   "execution_count": 15,
   "id": "1b8b631e-c9b8-47e5-851d-29df6c0a8d1d",
   "metadata": {},
   "outputs": [
    {
     "name": "stderr",
     "output_type": "stream",
     "text": [
      "100%|██████████| 33/33 [02:27<00:00,  4.46s/it]\n"
     ]
    }
   ],
   "source": [
    "d_newspapers_df = {}\n",
    "for newspapers in tqdm(l_newspapers):\n",
    "    df = load_dataset(newspapers, split=\"train\").to_pandas()\n",
    "    df = df[df['politic']>=0.8].reset_index(drop=True)\n",
    "    #df = df.head(1000) #reduce size\n",
    "    d_newspapers_df[newspapers] = df"
   ]
  },
  {
   "cell_type": "code",
   "execution_count": 16,
   "id": "9a213cc2-e12c-4ab4-be1a-d6b70b80d98f",
   "metadata": {},
   "outputs": [],
   "source": [
    "d_np = {}\n",
    "for classifier in l_classifier:\n",
    "    d_np[classifier] = {}\n",
    "    for newspaper in l_newspapers:\n",
    "        df = d_newspapers_df[newspaper][[classifier+\"_\"+x for x in l_parties]]\n",
    "        d_np[classifier][newspaper] = np.array(df)"
   ]
  },
  {
   "cell_type": "code",
   "execution_count": 17,
   "id": "eaaee9a4-35a2-4438-971a-852f7953c868",
   "metadata": {},
   "outputs": [],
   "source": [
    "d_mae = {}\n",
    "d_mse = {}\n",
    "for classifier in l_classifier:\n",
    "    mae = 0\n",
    "    mse = 0\n",
    "    vectors = d_vectors[classifier]\n",
    "    for newspaper in d_np[classifier]:\n",
    "        mae = mae + np.abs(np.mean(np.atan2(*(d_np[classifier][newspaper]@vectors).T)/(np.pi/2)) - exp[newspaper])\n",
    "        mse = mse + np.abs(np.mean(np.atan2(*(d_np[classifier][newspaper]@vectors).T)/(np.pi/2)) - exp[newspaper])**2\n",
    "    mae = mae/len(l_newspapers)\n",
    "    mse = mse/len(l_newspapers)\n",
    "    d_mae[classifier] = float(mae)\n",
    "    d_mse[classifier] = float(mse)"
   ]
  },
  {
   "cell_type": "code",
   "execution_count": 18,
   "id": "28a5b015-f2db-4654-bab0-311b360895b3",
   "metadata": {},
   "outputs": [
    {
     "ename": "NameError",
     "evalue": "name 'd_me' is not defined",
     "output_type": "error",
     "traceback": [
      "\u001b[31m---------------------------------------------------------------------------\u001b[39m",
      "\u001b[31mNameError\u001b[39m                                 Traceback (most recent call last)",
      "\u001b[36mCell\u001b[39m\u001b[36m \u001b[39m\u001b[32mIn[18]\u001b[39m\u001b[32m, line 6\u001b[39m\n\u001b[32m      1\u001b[39m df = pd.DataFrame(\n\u001b[32m      2\u001b[39m     {\n\u001b[32m      3\u001b[39m         \u001b[33m'\u001b[39m\u001b[33mClassifier\u001b[39m\u001b[33m'\u001b[39m:d_mse.keys(),\n\u001b[32m      4\u001b[39m         \u001b[33m'\u001b[39m\u001b[33mMean Squared Error\u001b[39m\u001b[33m'\u001b[39m:d_mse.values(),\n\u001b[32m      5\u001b[39m         \u001b[33m'\u001b[39m\u001b[33mMean Average Error\u001b[39m\u001b[33m'\u001b[39m:d_mae.values(),\n\u001b[32m----> \u001b[39m\u001b[32m6\u001b[39m         \u001b[33m'\u001b[39m\u001b[33mError in Percent\u001b[39m\u001b[33m'\u001b[39m:[\u001b[33m'\u001b[39m\u001b[38;5;132;01m{:.2f}\u001b[39;00m\u001b[33m'\u001b[39m.format((x/\u001b[32m2\u001b[39m)*\u001b[32m100\u001b[39m)+\u001b[33m\"\u001b[39m\u001b[33m%\u001b[39m\u001b[33m\"\u001b[39m \u001b[38;5;28;01mfor\u001b[39;00m x \u001b[38;5;129;01min\u001b[39;00m \u001b[43md_me\u001b[49m.values()]\n\u001b[32m      7\u001b[39m     }\n\u001b[32m      8\u001b[39m ).sort_values(by=[\u001b[33m'\u001b[39m\u001b[33mMean Squared Error\u001b[39m\u001b[33m'\u001b[39m]).reset_index(drop=\u001b[38;5;28;01mTrue\u001b[39;00m)\n\u001b[32m      9\u001b[39m df\n",
      "\u001b[31mNameError\u001b[39m: name 'd_me' is not defined"
     ]
    }
   ],
   "source": [
    "df = pd.DataFrame(\n",
    "    {\n",
    "        'Classifier':d_mse.keys(),\n",
    "        'Mean Squared Error':d_mse.values(),\n",
    "        'Mean Average Error':d_mae.values(),\n",
    "        'Error in Percent':['{:.2f}'.format((x/2)*100)+\"%\" for x in d_mae.values()]\n",
    "    }\n",
    ").sort_values(by=['Mean Squared Error']).reset_index(drop=True)\n",
    "df"
   ]
  },
  {
   "cell_type": "code",
   "execution_count": 18,
   "id": "2ad0c88c-5131-4712-ab30-23fb1f78eabc",
   "metadata": {},
   "outputs": [
    {
     "data": {
      "text/plain": [
       "dict_keys(['DeBERTa-large', 'EuroBERT-210m', 'EuroBERT-610m', 'EuroBERT_2_1B', 'GottBERT_large', 'Llama-3.2-1B', 'Llama-3.2-3B', 'gbert-large', 'gelectra-large', 'gemma-2-2b', 'gemma-2-9b', 'gemma-3-1b', 'xlm-roberta-large'])"
      ]
     },
     "execution_count": 18,
     "metadata": {},
     "output_type": "execute_result"
    }
   ],
   "source": [
    "d_me.keys()"
   ]
  },
  {
   "cell_type": "code",
   "execution_count": 19,
   "id": "45e34c24-5982-4866-8769-810096ba0fe0",
   "metadata": {},
   "outputs": [],
   "source": [
    "df.to_json(\"results_with_optimization.json\")"
   ]
  },
  {
   "cell_type": "code",
   "execution_count": null,
   "id": "194684e8-1dc9-4fdc-952b-8774ba529a37",
   "metadata": {},
   "outputs": [],
   "source": []
  }
 ],
 "metadata": {
  "kernelspec": {
   "display_name": "Python 3 (ipykernel)",
   "language": "python",
   "name": "python3"
  },
  "language_info": {
   "codemirror_mode": {
    "name": "ipython",
    "version": 3
   },
   "file_extension": ".py",
   "mimetype": "text/x-python",
   "name": "python",
   "nbconvert_exporter": "python",
   "pygments_lexer": "ipython3",
   "version": "3.12.3"
  }
 },
 "nbformat": 4,
 "nbformat_minor": 5
}
