{
 "cells": [
  {
   "cell_type": "code",
   "execution_count": 13,
   "id": "4e4f0a57-f127-469a-9f87-daeabb0a28cb",
   "metadata": {},
   "outputs": [],
   "source": [
    "from datasets import load_dataset\n",
    "from glob import glob\n",
    "from tqdm import tqdm\n",
    "import numpy as np\n",
    "import math\n",
    "from fractions import Fraction\n",
    "import json\n",
    "import pandas as pd"
   ]
  },
  {
   "cell_type": "code",
   "execution_count": 14,
   "id": "00dfaf4f-313a-4647-904e-7988174dea2c",
   "metadata": {},
   "outputs": [],
   "source": [
    "def get_vectors(angles):\n",
    "    return np.column_stack((np.sin(angles*(np.pi/2)),np.cos(angles*(np.pi/2))))"
   ]
  },
  {
   "cell_type": "code",
   "execution_count": 15,
   "id": "421edbe9-f454-4a51-9288-78917edd5492",
   "metadata": {},
   "outputs": [],
   "source": [
    "def get_angles(vectors):\n",
    "    return np.array([math.atan2(*x) / (np.pi / 2)  for x in vectors])"
   ]
  },
  {
   "cell_type": "code",
   "execution_count": 16,
   "id": "ffd46d32-2854-4194-88b8-4f591c46d59e",
   "metadata": {},
   "outputs": [],
   "source": [
    "def convertMedienlandschaft(x):\n",
    "    return float(-Fraction(4/3)+Fraction(1/3)*x)"
   ]
  },
  {
   "cell_type": "code",
   "execution_count": 17,
   "id": "8b8d803b-4be5-4b24-9e64-e730dd29cb43",
   "metadata": {},
   "outputs": [],
   "source": [
    "v_linke = [-1.0, 0.0]\n",
    "v_gruene = [-0.9077674463309972, 0.4194737934385177]\n",
    "v_spd = [-0.8074405688999996, 0.5899489195637577]\n",
    "v_fdp = [0.0, 1.0]\n",
    "v_cdu = [0.614758038308033, 0.788715762702673]\n",
    "v_afd = [1.0, 0.0]"
   ]
  },
  {
   "cell_type": "code",
   "execution_count": 18,
   "id": "30bb8f81-6531-41d0-8c3b-ba6981cc4f3c",
   "metadata": {},
   "outputs": [],
   "source": [
    "a_linke = math.atan2(*v_linke) / (np.pi / 2)\n",
    "a_gruene = math.atan2(*v_gruene) / (np.pi / 2)\n",
    "a_spd = math.atan2(*v_spd) / (np.pi / 2)\n",
    "a_fdp = math.atan2(*v_fdp) / (np.pi / 2)\n",
    "a_cdu = math.atan2(*v_cdu) / (np.pi / 2)\n",
    "a_afd = math.atan2(*v_afd) / (np.pi / 2)"
   ]
  },
  {
   "cell_type": "code",
   "execution_count": 19,
   "id": "2a63fd95-d505-4862-a52f-d3ddc1ce7a48",
   "metadata": {},
   "outputs": [],
   "source": [
    "initial_angles = np.array([a_linke, a_gruene, a_spd, a_fdp, a_cdu, a_afd])"
   ]
  },
  {
   "cell_type": "code",
   "execution_count": 20,
   "id": "2dfa4df3-c9e5-49d5-8205-fbc6c1af95a2",
   "metadata": {},
   "outputs": [
    {
     "data": {
      "text/plain": [
       "array([-1.        , -0.72442922, -0.59829574,  0.        ,  0.42149268,\n",
       "        1.        ])"
      ]
     },
     "execution_count": 20,
     "metadata": {},
     "output_type": "execute_result"
    }
   ],
   "source": [
    "initial_angles"
   ]
  },
  {
   "cell_type": "code",
   "execution_count": 21,
   "id": "243da050-db88-4443-a561-777a463fee2f",
   "metadata": {},
   "outputs": [
    {
     "data": {
      "text/plain": [
       "array([-90.        , -65.19862967, -53.84661654,   0.        ,\n",
       "        37.93434103,  90.        ])"
      ]
     },
     "execution_count": 21,
     "metadata": {},
     "output_type": "execute_result"
    }
   ],
   "source": [
    "initial_angles*90"
   ]
  },
  {
   "cell_type": "code",
   "execution_count": 22,
   "id": "23d530a0-0f2e-4398-b6c9-abadf97dcffb",
   "metadata": {},
   "outputs": [
    {
     "data": {
      "text/plain": [
       "array([  0.        ,  24.80137033,  36.15338346,  90.        ,\n",
       "       127.93434103, 180.        ])"
      ]
     },
     "execution_count": 22,
     "metadata": {},
     "output_type": "execute_result"
    }
   ],
   "source": [
    "(initial_angles*90)+90"
   ]
  },
  {
   "cell_type": "code",
   "execution_count": 23,
   "id": "30e390ee-0639-42c6-85b5-14682e25736f",
   "metadata": {},
   "outputs": [],
   "source": [
    "initial_vectors = np.array([v_linke, v_gruene, v_spd, v_fdp, v_cdu, v_afd])"
   ]
  },
  {
   "cell_type": "code",
   "execution_count": 24,
   "id": "3879009e-99ab-45f6-a14f-e6a8f82f77f9",
   "metadata": {},
   "outputs": [],
   "source": [
    "exp = {}\n",
    "exp['NLP-UniBW/deutschlandfunk_de_classified'] = convertMedienlandschaft(3.8)\n",
    "exp['NLP-UniBW/focus_de_classified'] = convertMedienlandschaft(4.9)\n",
    "exp['NLP-UniBW/linksunten_classified'] = convertMedienlandschaft(2.0)\n",
    "exp['NLP-UniBW/taz_de_classified'] = convertMedienlandschaft(2.8)\n",
    "exp['NLP-UniBW/zeit_de_classified'] = convertMedienlandschaft(3.6)\n",
    "exp['NLP-UniBW/stern_de_classified'] = convertMedienlandschaft(3.8)\n",
    "exp['NLP-UniBW/tichyseinblick_de_classified'] = convertMedienlandschaft(5.5)\n",
    "exp['NLP-UniBW/cicero_de_classified'] = convertMedienlandschaft(4.9)\n",
    "exp['NLP-UniBW/spiegel_de_classified'] = convertMedienlandschaft(3.5)\n",
    "exp['NLP-UniBW/vice_de_classified'] = convertMedienlandschaft(2.8)\n",
    "exp['NLP-UniBW/tagesschau_de_classified'] = convertMedienlandschaft(3.7)\n",
    "exp['NLP-UniBW/sueddeutsche_de_classified'] = convertMedienlandschaft(3.5)\n",
    "exp['NLP-UniBW/welt_de_classified'] = convertMedienlandschaft(4.8)\n",
    "exp['NLP-UniBW/mdr_de_classified'] = convertMedienlandschaft(4.1)\n",
    "exp['NLP-UniBW/der_freitag_de_classified'] = convertMedienlandschaft(2.7)\n",
    "exp['NLP-UniBW/frankfurter_rundschau_de_classified'] = convertMedienlandschaft(3.4)\n",
    "exp['NLP-UniBW/bild_de_classified'] = convertMedienlandschaft(5.2)\n",
    "exp['NLP-UniBW/russia_today_de_classified'] = convertMedienlandschaft(5.1)\n",
    "exp['NLP-UniBW/tagesspiegel_de_classified'] = convertMedienlandschaft(3.6)\n",
    "exp['NLP-UniBW/br_de_classified'] = convertMedienlandschaft(4.4)\n",
    "exp['NLP-UniBW/achgut_de_classified'] = convertMedienlandschaft(5.2)\n",
    "exp['NLP-UniBW/wdr_de_classified'] = convertMedienlandschaft(3.5)\n",
    "exp['NLP-UniBW/neues_deutschland_de_classified'] = convertMedienlandschaft(2.6)\n",
    "exp['NLP-UniBW/compact_de_classified'] = convertMedienlandschaft(6.0)\n",
    "exp['NLP-UniBW/ndr_de_classified'] = convertMedienlandschaft(3.7)\n",
    "exp['NLP-UniBW/nachdenkseiten_de_classified'] = convertMedienlandschaft(3.1)\n",
    "exp['NLP-UniBW/junge_freiheit_de_classified'] = convertMedienlandschaft(5.8)\n",
    "exp['NLP-UniBW/rtl_de_classified'] = convertMedienlandschaft(4.5)\n",
    "exp['NLP-UniBW/junge_welt_classified'] = convertMedienlandschaft(2.4)\n",
    "exp['NLP-UniBW/ntv_de_classified'] = convertMedienlandschaft(4.3)\n",
    "exp['NLP-UniBW/jungle_world_classified'] = convertMedienlandschaft(2.3)\n",
    "exp['NLP-UniBW/frankfurter_allgemeine_de_classified'] = convertMedienlandschaft(4.5)\n",
    "exp['NLP-UniBW/mm_news_de_classified'] = convertMedienlandschaft(5.1)"
   ]
  },
  {
   "cell_type": "code",
   "execution_count": 25,
   "id": "e05c72c8-f8f6-4fbd-a7ca-4a88c7559de5",
   "metadata": {},
   "outputs": [],
   "source": [
    "df = load_dataset(\"NLP-UniBW/deutschlandfunk_de_classified\", split=\"train\").to_pandas()\n",
    "l_ref = []\n",
    "l_classifier = []\n",
    "for x in list(df.keys()):\n",
    "    ref = x.replace(\"_\", \"-\").split(\"-\")[0]\n",
    "    if ref in l_ref:\n",
    "        l_classifier.append(\"_\".join(x.split(\"_\")[:-1]))\n",
    "    l_ref.append(ref)\n",
    "l_classifier = sorted(list(set(l_classifier)))\n",
    "l_parties = ['DIE LINKE', 'BÜNDNIS 90/DIE GRÜNEN', 'SPD', 'FDP', 'CDU/CSU', 'AfD']\n",
    "\n",
    "l_newspapers = [\n",
    "    'NLP-UniBW/deutschlandfunk_de_classified',\n",
    "    'NLP-UniBW/focus_de_classified',\n",
    "    'NLP-UniBW/linksunten_classified',\n",
    "    'NLP-UniBW/taz_de_classified',\n",
    "    'NLP-UniBW/zeit_de_classified',\n",
    "    'NLP-UniBW/stern_de_classified',\n",
    "    'NLP-UniBW/tichyseinblick_de_classified',\n",
    "    'NLP-UniBW/cicero_de_classified',\n",
    "    'NLP-UniBW/spiegel_de_classified',\n",
    "    'NLP-UniBW/vice_de_classified',\n",
    "    'NLP-UniBW/tagesschau_de_classified',\n",
    "    'NLP-UniBW/sueddeutsche_de_classified',\n",
    "    'NLP-UniBW/welt_de_classified',\n",
    "    'NLP-UniBW/mdr_de_classified',\n",
    "    'NLP-UniBW/der_freitag_de_classified',\n",
    "    'NLP-UniBW/frankfurter_rundschau_de_classified',\n",
    "    'NLP-UniBW/bild_de_classified',\n",
    "    'NLP-UniBW/russia_today_de_classified',\n",
    "    'NLP-UniBW/tagesspiegel_de_classified',\n",
    "    'NLP-UniBW/br_de_classified',\n",
    "    'NLP-UniBW/achgut_de_classified',\n",
    "    'NLP-UniBW/wdr_de_classified',\n",
    "    'NLP-UniBW/neues_deutschland_de_classified',\n",
    "    'NLP-UniBW/compact_de_classified',\n",
    "    'NLP-UniBW/ndr_de_classified',\n",
    "    'NLP-UniBW/nachdenkseiten_de_classified',\n",
    "    'NLP-UniBW/junge_freiheit_de_classified',\n",
    "    'NLP-UniBW/rtl_de_classified',\n",
    "    'NLP-UniBW/junge_welt_classified',\n",
    "    'NLP-UniBW/ntv_de_classified',\n",
    "    'NLP-UniBW/jungle_world_classified',\n",
    "    'NLP-UniBW/frankfurter_allgemeine_de_classified',\n",
    "    'NLP-UniBW/mm_news_de_classified',\n",
    "]"
   ]
  },
  {
   "cell_type": "code",
   "execution_count": 26,
   "id": "1b8b631e-c9b8-47e5-851d-29df6c0a8d1d",
   "metadata": {},
   "outputs": [
    {
     "name": "stderr",
     "output_type": "stream",
     "text": [
      "100%|██████████| 33/33 [02:30<00:00,  4.57s/it]\n"
     ]
    }
   ],
   "source": [
    "d_newspapers_df = {}\n",
    "for newspapers in tqdm(l_newspapers):\n",
    "    df = load_dataset(newspapers, split=\"train\").to_pandas()\n",
    "    df = df[df['politic']>=0.8].reset_index(drop=True)\n",
    "    #df = df.head(1000) #reduce size\n",
    "    d_newspapers_df[newspapers] = df"
   ]
  },
  {
   "cell_type": "code",
   "execution_count": 27,
   "id": "9a213cc2-e12c-4ab4-be1a-d6b70b80d98f",
   "metadata": {},
   "outputs": [],
   "source": [
    "d_np = {}\n",
    "for classifier in l_classifier:\n",
    "    d_np[classifier] = {}\n",
    "    for newspaper in l_newspapers:\n",
    "        df = d_newspapers_df[newspaper][[classifier+\"_\"+x for x in l_parties]]\n",
    "        d_np[classifier][newspaper] = np.array(df)"
   ]
  },
  {
   "cell_type": "code",
   "execution_count": 37,
   "id": "eaaee9a4-35a2-4438-971a-852f7953c868",
   "metadata": {},
   "outputs": [],
   "source": [
    "d_mae = {}\n",
    "d_mse = {}\n",
    "for classifier in l_classifier:\n",
    "    mae = 0\n",
    "    mse = 0\n",
    "    for newspaper in d_np[classifier]:\n",
    "        mae = mae + np.abs(np.mean(np.atan2(*(d_np[classifier][newspaper]@initial_vectors).T)/(np.pi/2)) - exp[newspaper])\n",
    "        mse = mse + np.abs(np.mean(np.atan2(*(d_np[classifier][newspaper]@initial_vectors).T)/(np.pi/2)) - exp[newspaper])**2\n",
    "    mae = mae/len(l_newspapers)\n",
    "    mse = mse/len(l_newspapers)\n",
    "    d_mae[classifier] = float(mae)\n",
    "    d_mse[classifier] = float(mse)"
   ]
  },
  {
   "cell_type": "code",
   "execution_count": 38,
   "id": "d842849d-04f1-45b0-a94b-2dca02968bf3",
   "metadata": {},
   "outputs": [
    {
     "data": {
      "text/plain": [
       "{'DeBERTa-large': 0.19656059345835275,\n",
       " 'EuroBERT-210m': 0.3041289192928852,\n",
       " 'EuroBERT-610m': 0.41862818252424017,\n",
       " 'EuroBERT_2_1B': 0.30501415991828984,\n",
       " 'GottBERT_large': 0.22537055122256944,\n",
       " 'Llama-3.2-1B': 0.20881140717620145,\n",
       " 'Llama-3.2-3B': 0.25048211511034557,\n",
       " 'gbert-large': 0.19649076208976185,\n",
       " 'gelectra-large': 0.21118089053004102,\n",
       " 'gemma-2-2b': 0.18522044495901727,\n",
       " 'gemma-2-9b': 0.18589730117526596,\n",
       " 'gemma-3-1b': 0.37088804819812893,\n",
       " 'xlm-roberta-large': 0.22525084872543893}"
      ]
     },
     "execution_count": 38,
     "metadata": {},
     "output_type": "execute_result"
    }
   ],
   "source": [
    "d_mae"
   ]
  },
  {
   "cell_type": "code",
   "execution_count": 39,
   "id": "138d893e-0977-4af9-9941-009c0e273e3e",
   "metadata": {},
   "outputs": [
    {
     "data": {
      "text/plain": [
       "dict_values([0.19656059345835275, 0.3041289192928852, 0.41862818252424017, 0.30501415991828984, 0.22537055122256944, 0.20881140717620145, 0.25048211511034557, 0.19649076208976185, 0.21118089053004102, 0.18522044495901727, 0.18589730117526596, 0.37088804819812893, 0.22525084872543893])"
      ]
     },
     "execution_count": 39,
     "metadata": {},
     "output_type": "execute_result"
    }
   ],
   "source": [
    "d_mae.values()"
   ]
  },
  {
   "cell_type": "code",
   "execution_count": 40,
   "id": "a8add937-511b-4cf5-a7b7-59dcf341b476",
   "metadata": {},
   "outputs": [
    {
     "data": {
      "text/plain": [
       "dict_keys(['DeBERTa-large', 'EuroBERT-210m', 'EuroBERT-610m', 'EuroBERT_2_1B', 'GottBERT_large', 'Llama-3.2-1B', 'Llama-3.2-3B', 'gbert-large', 'gelectra-large', 'gemma-2-2b', 'gemma-2-9b', 'gemma-3-1b', 'xlm-roberta-large'])"
      ]
     },
     "execution_count": 40,
     "metadata": {},
     "output_type": "execute_result"
    }
   ],
   "source": [
    "d_mae.keys()"
   ]
  },
  {
   "cell_type": "code",
   "execution_count": 43,
   "id": "28a5b015-f2db-4654-bab0-311b360895b3",
   "metadata": {},
   "outputs": [
    {
     "data": {
      "text/html": [
       "<div>\n",
       "<style scoped>\n",
       "    .dataframe tbody tr th:only-of-type {\n",
       "        vertical-align: middle;\n",
       "    }\n",
       "\n",
       "    .dataframe tbody tr th {\n",
       "        vertical-align: top;\n",
       "    }\n",
       "\n",
       "    .dataframe thead th {\n",
       "        text-align: right;\n",
       "    }\n",
       "</style>\n",
       "<table border=\"1\" class=\"dataframe\">\n",
       "  <thead>\n",
       "    <tr style=\"text-align: right;\">\n",
       "      <th></th>\n",
       "      <th>Classifier</th>\n",
       "      <th>Mean Squared Error</th>\n",
       "      <th>Mean Average Error</th>\n",
       "      <th>Error in Percent</th>\n",
       "    </tr>\n",
       "  </thead>\n",
       "  <tbody>\n",
       "    <tr>\n",
       "      <th>0</th>\n",
       "      <td>gemma-2-9b</td>\n",
       "      <td>0.046571</td>\n",
       "      <td>0.185897</td>\n",
       "      <td>9.29%</td>\n",
       "    </tr>\n",
       "    <tr>\n",
       "      <th>1</th>\n",
       "      <td>gemma-2-2b</td>\n",
       "      <td>0.053105</td>\n",
       "      <td>0.185220</td>\n",
       "      <td>9.26%</td>\n",
       "    </tr>\n",
       "    <tr>\n",
       "      <th>2</th>\n",
       "      <td>DeBERTa-large</td>\n",
       "      <td>0.055045</td>\n",
       "      <td>0.196561</td>\n",
       "      <td>9.83%</td>\n",
       "    </tr>\n",
       "    <tr>\n",
       "      <th>3</th>\n",
       "      <td>Llama-3.2-1B</td>\n",
       "      <td>0.061169</td>\n",
       "      <td>0.208811</td>\n",
       "      <td>10.44%</td>\n",
       "    </tr>\n",
       "    <tr>\n",
       "      <th>4</th>\n",
       "      <td>gbert-large</td>\n",
       "      <td>0.061895</td>\n",
       "      <td>0.196491</td>\n",
       "      <td>9.82%</td>\n",
       "    </tr>\n",
       "    <tr>\n",
       "      <th>5</th>\n",
       "      <td>gelectra-large</td>\n",
       "      <td>0.065540</td>\n",
       "      <td>0.211181</td>\n",
       "      <td>10.56%</td>\n",
       "    </tr>\n",
       "    <tr>\n",
       "      <th>6</th>\n",
       "      <td>GottBERT_large</td>\n",
       "      <td>0.070863</td>\n",
       "      <td>0.225371</td>\n",
       "      <td>11.27%</td>\n",
       "    </tr>\n",
       "    <tr>\n",
       "      <th>7</th>\n",
       "      <td>xlm-roberta-large</td>\n",
       "      <td>0.079544</td>\n",
       "      <td>0.225251</td>\n",
       "      <td>11.26%</td>\n",
       "    </tr>\n",
       "    <tr>\n",
       "      <th>8</th>\n",
       "      <td>Llama-3.2-3B</td>\n",
       "      <td>0.087432</td>\n",
       "      <td>0.250482</td>\n",
       "      <td>12.52%</td>\n",
       "    </tr>\n",
       "    <tr>\n",
       "      <th>9</th>\n",
       "      <td>EuroBERT-210m</td>\n",
       "      <td>0.143124</td>\n",
       "      <td>0.304129</td>\n",
       "      <td>15.21%</td>\n",
       "    </tr>\n",
       "    <tr>\n",
       "      <th>10</th>\n",
       "      <td>EuroBERT_2_1B</td>\n",
       "      <td>0.145841</td>\n",
       "      <td>0.305014</td>\n",
       "      <td>15.25%</td>\n",
       "    </tr>\n",
       "    <tr>\n",
       "      <th>11</th>\n",
       "      <td>gemma-3-1b</td>\n",
       "      <td>0.201847</td>\n",
       "      <td>0.370888</td>\n",
       "      <td>18.54%</td>\n",
       "    </tr>\n",
       "    <tr>\n",
       "      <th>12</th>\n",
       "      <td>EuroBERT-610m</td>\n",
       "      <td>0.249065</td>\n",
       "      <td>0.418628</td>\n",
       "      <td>20.93%</td>\n",
       "    </tr>\n",
       "  </tbody>\n",
       "</table>\n",
       "</div>"
      ],
      "text/plain": [
       "           Classifier  Mean Squared Error  Mean Average Error Error in Percent\n",
       "0          gemma-2-9b            0.046571            0.185897            9.29%\n",
       "1          gemma-2-2b            0.053105            0.185220            9.26%\n",
       "2       DeBERTa-large            0.055045            0.196561            9.83%\n",
       "3        Llama-3.2-1B            0.061169            0.208811           10.44%\n",
       "4         gbert-large            0.061895            0.196491            9.82%\n",
       "5      gelectra-large            0.065540            0.211181           10.56%\n",
       "6      GottBERT_large            0.070863            0.225371           11.27%\n",
       "7   xlm-roberta-large            0.079544            0.225251           11.26%\n",
       "8        Llama-3.2-3B            0.087432            0.250482           12.52%\n",
       "9       EuroBERT-210m            0.143124            0.304129           15.21%\n",
       "10      EuroBERT_2_1B            0.145841            0.305014           15.25%\n",
       "11         gemma-3-1b            0.201847            0.370888           18.54%\n",
       "12      EuroBERT-610m            0.249065            0.418628           20.93%"
      ]
     },
     "execution_count": 43,
     "metadata": {},
     "output_type": "execute_result"
    }
   ],
   "source": [
    "df = pd.DataFrame(\n",
    "    {\n",
    "        'Classifier':d_mse.keys(),\n",
    "        'Mean Squared Error':d_mse.values(),\n",
    "        'Mean Average Error':d_mae.values(),\n",
    "        'Error in Percent':['{:.2f}'.format((x/2)*100)+\"%\" for x in d_me.values()]\n",
    "    }\n",
    ").sort_values(by=['Mean Squared Error']).reset_index(drop=True)\n",
    "df"
   ]
  },
  {
   "cell_type": "code",
   "execution_count": 35,
   "id": "45e34c24-5982-4866-8769-810096ba0fe0",
   "metadata": {},
   "outputs": [],
   "source": [
    "df.to_json(\"results_without_optimization.json\")"
   ]
  },
  {
   "cell_type": "code",
   "execution_count": null,
   "id": "99dc6ebd-103f-4299-9273-b18f1937ca8f",
   "metadata": {},
   "outputs": [],
   "source": []
  }
 ],
 "metadata": {
  "kernelspec": {
   "display_name": "Python 3 (ipykernel)",
   "language": "python",
   "name": "python3"
  },
  "language_info": {
   "codemirror_mode": {
    "name": "ipython",
    "version": 3
   },
   "file_extension": ".py",
   "mimetype": "text/x-python",
   "name": "python",
   "nbconvert_exporter": "python",
   "pygments_lexer": "ipython3",
   "version": "3.12.3"
  }
 },
 "nbformat": 4,
 "nbformat_minor": 5
}
